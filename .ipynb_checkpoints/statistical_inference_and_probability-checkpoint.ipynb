{
 "cells": [
  {
   "cell_type": "markdown",
   "id": "69254b3c-5f77-4c3b-ac71-dd90d48a5183",
   "metadata": {},
   "source": [
    "# Statistical Inference and Probability"
   ]
  },
  {
   "cell_type": "markdown",
   "id": "926e7812-3104-48c8-8ca3-a99e18db57e6",
   "metadata": {},
   "source": [
    "## Problem 1 (Standard Deviation, Variance, and Dot Plot)"
   ]
  },
  {
   "cell_type": "markdown",
   "id": "342bf5ad-2ceb-4e2a-aaf4-1e8ab6139233",
   "metadata": {},
   "source": [
    "1.9 ) (Chapter 1, pg. 17) Exercise 1.3 on page 13 showed tensile strength data for two samples, one in which specimens were exposed to an aging process and one in which there was no aging of the specimens. \n",
    "> - (a) Calculate the sample variance as well as standard deviation in tensile strength for both samples.\n",
    "> - (b) Does there appear to be any evidence that aging affects the variability in tensile strength? (See also the plot for Exercise 1.3 on page 13.)\n"
   ]
  },
  {
   "cell_type": "code",
   "execution_count": 67,
   "id": "798b5305-f713-4e10-836f-ce2b48aa4237",
   "metadata": {},
   "outputs": [],
   "source": [
    "# Imported library for data analysis and plotting\n",
    "library(\"tidyverse\")\n",
    "library(\"ggformula\")\n",
    "library(\"ggplot2\")"
   ]
  },
  {
   "cell_type": "code",
   "execution_count": 33,
   "id": "5712bfab-2815-4054-91a1-ca1c3cc436fa",
   "metadata": {},
   "outputs": [],
   "source": [
    "# 20 specimens total\n",
    "# 10 exposed to as signed randomly to be exposed to an accelerated batch\n",
    "# aging process that involved exposure to high temperatures for 10 days\n",
    "\n",
    "# Measurements of tensile strength (psi)\n",
    "# Define the No aging array\n",
    "no_aging_tensile <- c(227, 222, 218, 217, 225, 218, 216, 229, 228, 221)\n",
    "\n",
    "# Define the Aging array\n",
    "aging_tensile <- c(219, 214, 215, 211, 209, 218, 203, 204, 201, 205)"
   ]
  },
  {
   "cell_type": "code",
   "execution_count": 34,
   "id": "a2dd36e5-0c50-4e84-b1cc-cf9fbba463c5",
   "metadata": {},
   "outputs": [
    {
     "name": "stdout",
     "output_type": "stream",
     "text": [
      " [1] 227 222 218 217 225 218 216 229 228 221\n",
      " [1] 219 214 215 211 209 218 203 204 201 205\n"
     ]
    }
   ],
   "source": [
    "# Print the arrays to verify\n",
    "print(no_aging_tensile)\n",
    "print(aging_tensile)"
   ]
  },
  {
   "cell_type": "code",
   "execution_count": 35,
   "id": "03f131de-f326-4d67-a4d5-f1a182aa701a",
   "metadata": {},
   "outputs": [
    {
     "name": "stdout",
     "output_type": "stream",
     "text": [
      "No Aging - Variance: 23.65556 Standard Deviation: 4.863698 \n",
      "Aging - Variance: 42.1 Standard Deviation: 6.488451 \n"
     ]
    }
   ],
   "source": [
    "# Calculate the sample variance and standard deviation for no_aging_tensile\n",
    "var_no_aging <- var(no_aging_tensile)\n",
    "sd_no_aging <- sd(no_aging_tensile)\n",
    "\n",
    "# Calculate the sample variance and standard deviation for aging_tensile\n",
    "var_aging <- var(aging_tensile)\n",
    "sd_aging <- sd(aging_tensile)\n",
    "\n",
    "# Print the results\n",
    "cat(\"No Aging - Variance:\", var_no_aging, \"Standard Deviation:\", sd_no_aging, \"\\n\")\n",
    "cat(\"Aging - Variance:\", var_aging, \"Standard Deviation:\", sd_aging, \"\\n\")"
   ]
  },
  {
   "cell_type": "code",
   "execution_count": 36,
   "id": "cd4a8070-1794-4545-89ae-9ebcb03322df",
   "metadata": {},
   "outputs": [],
   "source": [
    "# Create a data frame for the data\n",
    "tensile_data <- data.frame(\n",
    "  TensileStrength = c(no_aging_tensile, aging_tensile),\n",
    "  Condition = rep(c(\"no_aging_tensile\", \"aging_tensile\"), each = 10)\n",
    ")"
   ]
  },
  {
   "cell_type": "code",
   "execution_count": 37,
   "id": "816de64b-a137-4db5-8552-3da4c350255f",
   "metadata": {},
   "outputs": [
    {
     "data": {
      "image/png": "[encoded data removed]",
      "text/plain": [
       "plot without title"
      ]
     },
     "metadata": {
      "image/png": {
       "height": 420,
       "width": 420
      }
     },
     "output_type": "display_data"
    }
   ],
   "source": [
    "# Create a dot plot using ggplot2\n",
    "ggplot(tensile_data, aes(x = Condition, y = TensileStrength)) +\n",
    "  geom_dotplot(binaxis = 'y', stackdir = 'center', binwidth = .5, dotsize = 1) +\n",
    "  labs(\n",
    "    title = \"Dot Plot of Tensile Strength\",\n",
    "    x = \"Condition\",\n",
    "    y = \"Tensile Strength (psi)\"\n",
    "  ) +\n",
    "  theme_minimal()"
   ]
  },
  {
   "cell_type": "markdown",
   "id": "b37d8941-58f6-40b0-a05a-d71b36b4e6b1",
   "metadata": {},
   "source": [
    "## Problem 2 (Relative Frequency Histogram, Mean, Median, 10% Trimmed Mean)"
   ]
  },
  {
   "cell_type": "markdown",
   "id": "9e096643-f2e1-4435-a5b3-b13c1f8f2b9c",
   "metadata": {},
   "source": [
    "1.25 ) The following data is related to that in Exercise 1.24. It gives the percentages of the families that are in the upper income level, for the same individual schools in the same order as in Exercise 1.24. \n",
    "> Data: 72.2 31.9 26.5 29.1 27.3 8.6 22.3 26.5 20.4 12.8 25.1 19.2 24.1 58.2 68.1 89.2 55.1 9.4 14.5 13.9 20.7 17.9 8.5 55.4 38.1 54.2 21.5 26.2 59.1 43.3\n",
    "> - (a)Calculate the sample mean.\n",
    "> - (b)Calculate the sample median.\n",
    "> - (c)Construct a relative frequency histogram of the data.\n",
    "> - (d)Compute the 10% trimmed mean. Compare with the results in (a)and(b) and comment.\n"
   ]
  },
  {
   "cell_type": "code",
   "execution_count": 28,
   "id": "508aa86d-460a-4224-a252-5d44cb244e76",
   "metadata": {},
   "outputs": [
    {
     "name": "stdout",
     "output_type": "stream",
     "text": [
      "Sum of values:  999.3 \n",
      "Sorted List:  8.5 8.6 9.4 12.8 13.9 14.5 17.9 19.2 20.4 20.7 21.5 22.3 24.1 25.1 26.2 26.5 26.5 27.3 29.1 31.9 38.1 43.3 54.2 55.1 55.4 58.2 59.1 68.1 72.2 89.2 \n",
      "Trimmed Set:  743.3"
     ]
    }
   ],
   "source": [
    "perc_upper_income <- c(72.2, 31.9, 26.5, 29.1, 27.3, 8.6, 22.3, 26.5, 20.4, \n",
    "                12.8, 25.1, 19.2, 24.1, 58.2, 68.1, 89.2, 55.1, 9.4, \n",
    "                14.5, 13.9, 20.7, 17.9, 8.5, 55.4, 38.1, 54.2, 21.5, \n",
    "                26.2, 59.1, 43.3)\n",
    "sorted_income <- sort(perc_upper_income)\n",
    "trimmed_income <- sorted_income[4:27]\n",
    "\n",
    "cat(\"Sum of values: \", sum(perc_upper_income), \"\\n\")\n",
    "cat(\"Sorted List: \", sort(sorted_income), \"\\n\")\n",
    "cat(\"Trimmed Set: \", sum(trimmed_income))"
   ]
  },
  {
   "cell_type": "code",
   "execution_count": 66,
   "id": "783d0a7b-0922-40bc-beab-1ebe5047aa94",
   "metadata": {},
   "outputs": [
    {
     "name": "stdout",
     "output_type": "stream",
     "text": [
      "Sample Median: 26.35 \n",
      "Sample Mean: 33.31 \n",
      "10% Trimmed Mean: 30.97083 \n"
     ]
    }
   ],
   "source": [
    "# calculate sample mean\n",
    "sample_mean_income <- mean(perc_upper_income)\n",
    "# calculate sample median\n",
    "sample_median_income <- median(perc_upper_income)\n",
    "# Calculate the 10% trimmed mean\n",
    "trimmed_mean_income <- mean(perc_upper_income, trim = 0.10)\n",
    "\n",
    "# Print the sample median, sample mean, & 10% trimmed mean\n",
    "cat(\"Sample Median:\", sample_median_income, \"\\n\")\n",
    "cat(\"Sample Mean:\", sample_mean_income, \"\\n\")\n",
    "cat(\"10% Trimmed Mean:\", trimmed_mean_income, \"\\n\")"
   ]
  },
  {
   "cell_type": "code",
   "execution_count": 54,
   "id": "28fc8950-d269-4138-883e-0ce9749fff79",
   "metadata": {
    "scrolled": true
   },
   "outputs": [
    {
     "data": {
      "text/html": [
       "<table class=\"dataframe\">\n",
       "<caption>A data.frame: 6 × 1</caption>\n",
       "<thead>\n",
       "\t<tr><th></th><th scope=col>perc_upper_income</th></tr>\n",
       "\t<tr><th></th><th scope=col>&lt;dbl&gt;</th></tr>\n",
       "</thead>\n",
       "<tbody>\n",
       "\t<tr><th scope=row>1</th><td>72.2</td></tr>\n",
       "\t<tr><th scope=row>2</th><td>31.9</td></tr>\n",
       "\t<tr><th scope=row>3</th><td>26.5</td></tr>\n",
       "\t<tr><th scope=row>4</th><td>29.1</td></tr>\n",
       "\t<tr><th scope=row>5</th><td>27.3</td></tr>\n",
       "\t<tr><th scope=row>6</th><td> 8.6</td></tr>\n",
       "</tbody>\n",
       "</table>\n"
      ],
      "text/latex": [
       "A data.frame: 6 × 1\n",
       "\\begin{tabular}{r|l}\n",
       "  & perc\\_upper\\_income\\\\\n",
       "  & <dbl>\\\\\n",
       "\\hline\n",
       "\t1 & 72.2\\\\\n",
       "\t2 & 31.9\\\\\n",
       "\t3 & 26.5\\\\\n",
       "\t4 & 29.1\\\\\n",
       "\t5 & 27.3\\\\\n",
       "\t6 &  8.6\\\\\n",
       "\\end{tabular}\n"
      ],
      "text/markdown": [
       "\n",
       "A data.frame: 6 × 1\n",
       "\n",
       "| <!--/--> | perc_upper_income &lt;dbl&gt; |\n",
       "|---|---|\n",
       "| 1 | 72.2 |\n",
       "| 2 | 31.9 |\n",
       "| 3 | 26.5 |\n",
       "| 4 | 29.1 |\n",
       "| 5 | 27.3 |\n",
       "| 6 |  8.6 |\n",
       "\n"
      ],
      "text/plain": [
       "  perc_upper_income\n",
       "1 72.2             \n",
       "2 31.9             \n",
       "3 26.5             \n",
       "4 29.1             \n",
       "5 27.3             \n",
       "6  8.6             "
      ]
     },
     "metadata": {},
     "output_type": "display_data"
    }
   ],
   "source": [
    "income_data <- data.frame(perc_upper_income)\n",
    "head(income_data)"
   ]
  },
  {
   "cell_type": "code",
   "execution_count": 87,
   "id": "9417fa97-f8b2-41d8-9f47-e16eef187d5e",
   "metadata": {},
   "outputs": [
    {
     "data": {
      "image/png": "[encoded data removed]",
      "text/plain": [
       "plot without title"
      ]
     },
     "metadata": {
      "image/png": {
       "height": 420,
       "width": 420
      }
     },
     "output_type": "display_data"
    }
   ],
   "source": [
    "# Create a relative frequency histogram using ggplot2\n",
    "# relative_frequency = count / sum(count)) \n",
    "ggplot(income_data, aes(x = perc_upper_income)) +\n",
    "  geom_histogram(aes(y = after_stat(count / sum(count))), bins = 20, fill = \"skyblue\", alpha = .7) +\n",
    "  labs(\n",
    "    title = \"Relative Frequency Histogram\",\n",
    "    x = \"Values\",\n",
    "    y = \"Relative Frequency\"\n",
    "  ) +\n",
    "  theme_minimal()"
   ]
  },
  {
   "cell_type": "markdown",
   "id": "3dfa800c-bfe1-4c6b-b2f0-0b4101976110",
   "metadata": {},
   "source": [
    "## Problem 3 (Probability of Dice)"
   ]
  },
  {
   "cell_type": "markdown",
   "id": "c0a3d33a-8f5a-4e0b-b35d-f0dd0e3e903c",
   "metadata": {},
   "source": [
    "2.50 ) Assuming that all elements of S in Exercise 2.8 on page 42 are equally likely to occur, find\n",
    "> - (a) the probability of event A;\n",
    "> - (b) the probability of event C;\n",
    "> - (c) the probability of event A ∩ C.\n"
   ]
  },
  {
   "cell_type": "markdown",
   "id": "ca72c89d-c99f-4a75-8e3b-57adb74daf6b",
   "metadata": {},
   "source": [
    "Important Facts:\n",
    "- green die = x\n",
    "- red die = y\n",
    "- 6 sides a die\n",
    "- Thus, S contains all possible pair of (x,y), so 6×6=36\n",
    "- (\"rule method\") S = {(x,y) | x ∈ {1,2,3,4,5,6} and y ∈ {1,2,3,4,5,6}}\n",
    "- S={(1,1),(1,2),(1,3),(1,4),(1,5),(1,6),\n",
    "(2,1),(2,2),(2,3),(2,4),(2,5),(2,6),\n",
    "(3,1),(3,2),(3,3),(3,4),(3,5),(3,6),\n",
    "(4,1),(4,2),(4,3),(4,4),(4,5),(4,6),\n",
    "(5,1),(5,2),(5,3),(5,4),(5,5),(5,6),\n",
    "(6,1),(6,2),(6,3),(6,4),(6,5),(6,6)}\n",
    "\n",
    "Events\n",
    "- Event A: The sum of the dice is greater than 8. (x + y > 8)\n",
    "- Event C: A number greater than 4 comes up on the green die. (x > 4)\n",
    "- Event A∩C: The sum of the dice is greater than 8 and the green die shows a number greater than 4. "
   ]
  },
  {
   "cell_type": "code",
   "execution_count": 11,
   "id": "31704e6e-b31f-4fd2-af83-e94cfb0b8cd6",
   "metadata": {},
   "outputs": [],
   "source": [
    "# Total number of possible outcomes\n",
    "total_outcomes <- 36\n",
    "\n",
    "# Define the event A\n",
    "event_a <- data.frame(\n",
    "  green_die = c(3, 4, 4, 5, 5, 5, 6, 6, 6, 6),\n",
    "  red_die = c(6, 5, 6, 4, 5, 6, 3, 4, 5, 6)\n",
    ")\n",
    "# Define the event B\n",
    "event_c <- data.frame(\n",
    "  green_die = c(rep(5, 6), rep(6, 6)),\n",
    "  red_die = c(1:6, 1:6)\n",
    ") \n",
    "\n",
    "# Define the event A ∩ C\n",
    "event_a_and_c <- data.frame(\n",
    "  green_die = c(5, 5, 5, 6, 6, 6, 6),\n",
    "  red_die = c(4, 5, 6, 3, 4, 5, 6)\n",
    ")"
   ]
  },
  {
   "cell_type": "code",
   "execution_count": 14,
   "id": "582da5c9-f74d-45a2-971e-9c4ba7cc5e00",
   "metadata": {},
   "outputs": [
    {
     "name": "stdout",
     "output_type": "stream",
     "text": [
      "Probabilities:\n",
      "Event A -> 0.2777778 \n",
      "Event C ->  0.3333333 \n",
      "Event A & C ->  0.1944444 \n"
     ]
    }
   ],
   "source": [
    "# Probability of event A\n",
    "probability_a <- nrow(event_a) / total_outcomes\n",
    "cat(\"Probabilities:\\nEvent A ->\", probability_a, \"\\n\")\n",
    "\n",
    "# Probability of event C\n",
    "probability_c <- nrow(event_c) / total_outcomes\n",
    "cat(\"Event C -> \", probability_c, \"\\n\")\n",
    "\n",
    "# Probability of event A ∩ C\n",
    "probability_a_and_c <- nrow(event_a_and_c) / total_outcomes\n",
    "cat(\"Event A & C -> \", probability_a_and_c, \"\\n\")"
   ]
  },
  {
   "cell_type": "markdown",
   "id": "05b7b731-41f0-46e1-a1e3-94b306b27bad",
   "metadata": {},
   "source": [
    "## Problem 4 (Logical Errors in Probability)"
   ]
  },
  {
   "cell_type": "markdown",
   "id": "2138edd1-3934-409e-b595-1949aaf80325",
   "metadata": {},
   "source": [
    "2.49 ) Find the errors in each of the following statements: \n",
    "> - (a) The probabilities that an automobile salesperson will sell 0, 1, 2, or 3 cars on any given day in February are, respectively, 0.19, 0.38, 0.29, and 0.15.\n",
    "> - (b) The probability that it will rain tomorrow is 0.40, and the probability that it will not rain tomorrow is 0.52.\n",
    "> - (c) The probabilities that a printer will make 0, 1, 2, 3, or 4 or more mistakes in setting a document are, respectively, 0.19,0.34,−0.25,0.43, and 0.29.\n",
    "> - (d) On a single draw from a deck of playing cards, the probability of selecting a heart is 1/4, the probability of selecting a black card is 1/2, and the probability of selecting both a heart and a black card is 1/8.\n"
   ]
  },
  {
   "cell_type": "markdown",
   "id": "3b4afab3-184e-4c16-9b59-8789258ddc48",
   "metadata": {},
   "source": [
    "### Problem A\n",
    "- P(0) = 0.19\n",
    "- P(1) = 0.38\n",
    "- P(2) = 0.29\n",
    "- P(3) = 0.15\n",
    "\n",
    "To be a valid probability distribution, the sum of all probabilities must equal 1.\n",
    "\n",
    "Error: The sum of the probabilities is 1.01, which is greater than 1."
   ]
  },
  {
   "cell_type": "code",
   "execution_count": 16,
   "id": "f07ca04f-e584-42d0-aa91-812371c02d87",
   "metadata": {},
   "outputs": [
    {
     "name": "stdout",
     "output_type": "stream",
     "text": [
      "[1] 1.01\n"
     ]
    }
   ],
   "source": [
    "total = 0.19 + 0.38 + .29 + .15\n",
    "\n",
    "print(total)"
   ]
  },
  {
   "cell_type": "markdown",
   "id": "3b52ee8f-c89e-43dd-9417-d9bd98c5faf0",
   "metadata": {},
   "source": [
    "### Problem B\n",
    "For complementary events (rain and no rain), the sum of the probabilities must be 1.\n",
    "\n",
    "0.40 + 0.52 = 0.92\n",
    "\n",
    "Error: The sum of the probabilities is 0.92, which is less than 1."
   ]
  },
  {
   "cell_type": "markdown",
   "id": "e0878e62-f54e-4e21-bb13-5853d1c7eedc",
   "metadata": {},
   "source": [
    "### Problem 3\n",
    "- P(0) = 0.19\n",
    "- P(1) = 0.34\n",
    "- P(2) = -0.25\n",
    "- P(3) = 0.43\n",
    "- P(4) = 0.29\n",
    "\n",
    "Error: Probabilities must be non-negative. Here,\n",
    "\n",
    "P(2)=−0.25 is negative, which is not possible."
   ]
  },
  {
   "cell_type": "markdown",
   "id": "74bc4f9b-1b83-4964-b258-e69a1b4c6d57",
   "metadata": {},
   "source": [
    "### Problem 4\n",
    "- P(heart) = 1/4\n",
    "- P(black_card) = 1/2\n",
    "- P(heart & black_card) = 1/8\n",
    "\n",
    "Error: Hearts and black cards are mutually exclusive events. A card cannot be both a heart and a black card at the same time, so P(heart and black card) must be 0."
   ]
  },
  {
   "cell_type": "code",
   "execution_count": null,
   "id": "1cd7870c-352b-4796-a313-889f127bc1d7",
   "metadata": {},
   "outputs": [],
   "source": []
  }
 ],
 "metadata": {
  "kernelspec": {
   "display_name": "R (r_stat)",
   "language": "R",
   "name": "ir_conda_env"
  },
  "language_info": {
   "codemirror_mode": "r",
   "file_extension": ".r",
   "mimetype": "text/x-r-source",
   "name": "R",
   "pygments_lexer": "r",
   "version": "4.1.3"
  }
 },
 "nbformat": 4,
 "nbformat_minor": 5
}
