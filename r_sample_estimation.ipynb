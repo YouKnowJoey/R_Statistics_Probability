{
 "cells": [
  {
   "cell_type": "markdown",
   "id": "23df175a-56ee-4c40-91c4-42a85d053fe2",
   "metadata": {},
   "source": [
    "# One-, Two- Sample Estimation of the Mean "
   ]
  },
  {
   "cell_type": "markdown",
   "id": "ba1e732c-ae74-4002-ae93-2ab77feb5cf4",
   "metadata": {},
   "source": [
    "## One Sample Estimation Problems"
   ]
  },
  {
   "cell_type": "markdown",
   "id": "bf8d6cb2-2fc0-4e78-a5f8-0896ec0e5e3d",
   "metadata": {},
   "source": [
    "### Problem 1\n",
    "\n",
    "9.10) A random sample of 12 graduates of a certain secretarial school typed an average of 79.3 words per minute with a standard deviation of 7.8 words per minute. Assuming a normal distribution for the number of words typed per minute, find a 95% confidence interval for the average number of words typed by all graduates of this school."
   ]
  },
  {
   "cell_type": "code",
   "execution_count": 10,
   "id": "5622f37a-2d0b-43c1-be1a-32b18c68564b",
   "metadata": {},
   "outputs": [
    {
     "name": "stdout",
     "output_type": "stream",
     "text": [
      "t-value:  2.200985 \n",
      "Margin of Error:  4.955884 \n",
      "95% Confidence Interval : [  74.34412  ,  84.25588  ]"
     ]
    }
   ],
   "source": [
    "n <- 12 # n = \"size\" = graduate_students\n",
    "dof<- (n - 1) # degrees of freedom\n",
    "sample_mean <- 79.3 # words per minute, \"x bar\"\n",
    "sigma <- 7.8 # standard deviation \"sigma\" = \"S\"\n",
    "confidence_level <- .95 #95% confidence level interval\n",
    "\n",
    "# Set the confidence level\n",
    "alpha <- (1 - confidence_level)\n",
    "\n",
    "# Calculate the critical t-value\n",
    "t_value <- qt(1 - alpha/2, dof)\n",
    "cat(\"t-value: \", t_value, \"\\n\")\n",
    "\n",
    "# Calculate Margin of Error with the formula for the confidence interval\n",
    "margin_of_error <- t_value * (sigma / sqrt(n))\n",
    "cat(\"Margin of Error: \", margin_of_error, \"\\n\")\n",
    "cat(\"95% Confidence Interval : [ \", sample_mean - margin_of_error, \" , \", sample_mean + margin_of_error , \" ]\")"
   ]
  },
  {
   "cell_type": "markdown",
   "id": "2e2e83af-68a4-4064-ac5e-15b39c626876",
   "metadata": {},
   "source": [
    "### Problem 2\n",
    "\n",
    "9.13) A random sample of 12 shearing pins is taken in a study of the Rockwell hardness of the pin head. Measurements on the Rockwell hardness are made for each of the 12, yielding an average value of 48.50 with a sample standard deviation of 1.5. Assuming the measurements to be normally distributed, construct a 90% confidence interval for the mean Rockwell hardness."
   ]
  },
  {
   "cell_type": "code",
   "execution_count": 12,
   "id": "c6f79a34-0ce2-4a5d-af99-f992a3d14d63",
   "metadata": {},
   "outputs": [
    {
     "name": "stdout",
     "output_type": "stream",
     "text": [
      "t-value:  1.795885 \n",
      "Margin of Error:  0.7776409 \n",
      "90% Confidence Interval : [  47.72236  ,  49.27764  ]"
     ]
    }
   ],
   "source": [
    "n <- 12 # random sample of shearing pins\n",
    "dof<- (n - 1) # degrees of freedom\n",
    "sample_mean <- 48.50 # average value\n",
    "sigma <- 1.5 # standard deviation \"sigma\" = \"S\"\n",
    "confidence_level <- .90 #90% confidence level interval\n",
    "\n",
    "# Set the confidence level\n",
    "alpha <- (1 - confidence_level)\n",
    "\n",
    "# Calculate the critical t-value\n",
    "t_value <- qt(1 - alpha/2, dof)\n",
    "cat(\"t-value: \", t_value, \"\\n\")\n",
    "\n",
    "# Calculate Margin of Error with the formula for the confidence interval\n",
    "margin_of_error <- t_value * (sigma / sqrt(n))\n",
    "cat(\"Margin of Error: \", margin_of_error, \"\\n\")\n",
    "cat(\"90% Confidence Interval : [ \", sample_mean - margin_of_error, \" , \", sample_mean + margin_of_error , \" ]\")"
   ]
  },
  {
   "cell_type": "markdown",
   "id": "a8683675-d1f7-4e5c-af66-9fc1ba1bc58e",
   "metadata": {},
   "source": [
    "### Problem 3\n",
    "\n",
    "9.19) A random sample of 25 tablets of buffered aspirin contains, on average, 325.05 mg of aspirin per tablet, with a standard deviation of 0.5 mg. Find the 95% tolerance limits that will contain 90% of the tablet contents for this brand of buffered aspirin. Assume that the aspirin content is normally distributed."
   ]
  },
  {
   "cell_type": "code",
   "execution_count": 27,
   "id": "b650bb71-8c6c-4eeb-bacc-107243e3d0a9",
   "metadata": {
    "editable": true,
    "slideshow": {
     "slide_type": ""
    },
    "tags": []
   },
   "outputs": [
    {
     "name": "stdout",
     "output_type": "stream",
     "text": [
      "z_value:  1.281552 \n",
      "Chi-Squared value:  36.41503 \n"
     ]
    }
   ],
   "source": [
    "n <- 25 # random sample of tablets of buffered aspirin\n",
    "dof<- (n - 1) # degrees of freedom\n",
    "sample_mean <- 325.05 # average value, 325.05 mg of aspirin per tablet\n",
    "sigma <- 0.5 # standard deviation \"sigma\" = \"S\", of 0.5 mg \n",
    "lambda <- .95 #95% confidence level interval\n",
    "p <- .90 # Proportion of the population p = 0.90\n",
    "\n",
    "# Set the confidence level\n",
    "alpha <- (1 - confidence_level)\n",
    "\n",
    "# z-value corresponding to the cumulative probability p\n",
    "z_value <- qnorm(p)\n",
    "cat(\"z_value: \", z_value, \"\\n\")\n",
    "\n",
    "# chi-square value with n−1 degrees of freedom for the confidence level \"lambda\"\n",
    "chi_squared <-  qchisq(lambda, dof)\n",
    "cat(\"Chi-Squared value: \", chi_squared, \"\\n\")"
   ]
  },
  {
   "cell_type": "code",
   "execution_count": 28,
   "id": "4dc9be00-87fd-43cb-8c0a-fd70bcf4a4e7",
   "metadata": {},
   "outputs": [
    {
     "name": "stdout",
     "output_type": "stream",
     "text": [
      "95% Confidence Interval : [  324.5195  ,  325.5805  ]"
     ]
    }
   ],
   "source": [
    "# k = tolerance factor\n",
    "tolerance_level <- (z_value * sqrt(1 + (1/n))) / sqrt(chi_squared / dof)\n",
    "\n",
    "# calculate tolerance interval\n",
    "lower_bound <- sample_mean - (tolerance_level * sigma)\n",
    "upper_bound <- sample_mean + (tolerance_level * sigma)\n",
    "\n",
    "cat(\"95% Confidence Interval : [ \", lower_bound, \" , \", upper_bound , \" ]\")"
   ]
  },
  {
   "cell_type": "code",
   "execution_count": null,
   "id": "ae899eb8-8ca3-46a7-851c-98092714e74d",
   "metadata": {},
   "outputs": [],
   "source": []
  }
 ],
 "metadata": {
  "kernelspec": {
   "display_name": "R (r_stat)",
   "language": "R",
   "name": "ir_conda_env"
  },
  "language_info": {
   "codemirror_mode": "r",
   "file_extension": ".r",
   "mimetype": "text/x-r-source",
   "name": "R",
   "pygments_lexer": "r",
   "version": "4.1.3"
  }
 },
 "nbformat": 4,
 "nbformat_minor": 5
}
