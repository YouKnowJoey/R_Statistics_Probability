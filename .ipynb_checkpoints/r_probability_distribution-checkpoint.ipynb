{
 "cells": [
  {
   "cell_type": "markdown",
   "id": "e1081f17-9945-430d-99fd-dfeb4043e703",
   "metadata": {},
   "source": [
    "# Probability Distibution & Expected Values"
   ]
  },
  {
   "cell_type": "markdown",
   "id": "a33efab8-ca2b-42b4-a1f4-3279d2161686",
   "metadata": {},
   "source": [
    "## Probability Distribution Questions"
   ]
  },
  {
   "cell_type": "markdown",
   "id": "56e3489b-d628-4108-86b7-dd2638b21862",
   "metadata": {
    "jp-MarkdownHeadingCollapsed": true
   },
   "source": [
    "### Question 1\n",
    "> 3.25 ) From a box containing 4 dimes and 2 nickels, 3 coins are selected at random without replacement. Find the probability distribution for the total T of the 3 coins. Express the probability distribution graphically as a probability histogram.\n",
    "\n",
    "> Possible outcomes (coin combinations) and their totals:\n",
    "> - 3 dimes = 30 cents\n",
    "> - 2 dimes + 1 nickel = 25 cents\n",
    "> - 1 dime + 2 nickels = 20 cents\n",
    "> - 3 nickels = 15 cents"
   ]
  },
  {
   "cell_type": "code",
   "execution_count": 1,
   "id": "d5395025-6727-4219-bc92-3e5961f137a7",
   "metadata": {},
   "outputs": [],
   "source": [
    "# Total values and their probabilities\n",
    "total_values <- c(30, 25, 20, 15)\n",
    "probabilities <- c(0.2, 0.6, 0.2, 0)"
   ]
  },
  {
   "cell_type": "code",
   "execution_count": 2,
   "id": "62e2c09f-1eae-47fd-99af-8f4c48af0ba9",
   "metadata": {},
   "outputs": [],
   "source": [
    "# Create a data frame\n",
    "data <- data.frame(total_values, probabilities)"
   ]
  },
  {
   "cell_type": "code",
   "execution_count": 3,
   "id": "a731c82d-82ce-4622-9b7c-249c058a6230",
   "metadata": {},
   "outputs": [
    {
     "data": {
      "image/png": "[encoded data removed]",
      "text/plain": [
       "plot without title"
      ]
     },
     "metadata": {
      "image/png": {
       "height": 420,
       "width": 420
      }
     },
     "output_type": "display_data"
    }
   ],
   "source": [
    "# Plot the probability histogram\n",
    "library(ggplot2)\n",
    "\n",
    "ggplot(data, aes(x = factor(total_values), y = probabilities)) +\n",
    "  geom_bar(stat = \"identity\", fill = \"skyblue\", color = \"black\") +\n",
    "  labs(title = \"Probability Distribution of Total Value of Coins\",\n",
    "       x = \"Total Value (cents)\",\n",
    "       y = \"Probability\") +\n",
    "  theme_minimal()"
   ]
  },
  {
   "cell_type": "markdown",
   "id": "a0077926-1f86-47e5-82b8-2d76529d4cb2",
   "metadata": {},
   "source": [
    "### Question 2\n",
    "> Based on extensive testing, it is determined by the manufacturer of a washing machine that the time Y (in years) before a major repair is required is characterized by the probability density function\n",
    "> - (a)Critics would certainly consider the product a bargain if it is unlikely to require a major repair before the sixth year. Comment on this by determining P(Y>6).\n",
    "> - (b) What is the probability that a major problem occurs in the first year?\n"
   ]
  },
  {
   "cell_type": "code",
   "execution_count": 4,
   "id": "66996f6f-8908-4930-ac0e-bde3a6f4908d",
   "metadata": {},
   "outputs": [
    {
     "name": "stdout",
     "output_type": "stream",
     "text": [
      "[1] 0.2231302\n"
     ]
    }
   ],
   "source": [
    "# Calculate the probability\n",
    "probability <- exp(-3/2)\n",
    "print(probability)"
   ]
  },
  {
   "cell_type": "code",
   "execution_count": 7,
   "id": "3f9c0abf-2c6c-49ff-9ea6-57a45d251ce5",
   "metadata": {},
   "outputs": [
    {
     "name": "stdout",
     "output_type": "stream",
     "text": [
      "[1] 0.2211992\n"
     ]
    }
   ],
   "source": [
    "# Calculate the probability\n",
    "probability <- 1 - exp(-1/4)\n",
    "print(probability)"
   ]
  },
  {
   "cell_type": "code",
   "execution_count": null,
   "id": "beb00d2c-697e-4b14-88c0-09c7b9c312e3",
   "metadata": {},
   "outputs": [],
   "source": []
  }
 ],
 "metadata": {
  "kernelspec": {
   "display_name": "R (r_stat)",
   "language": "R",
   "name": "ir_conda_env"
  },
  "language_info": {
   "codemirror_mode": "r",
   "file_extension": ".r",
   "mimetype": "text/x-r-source",
   "name": "R",
   "pygments_lexer": "r",
   "version": "4.1.3"
  }
 },
 "nbformat": 4,
 "nbformat_minor": 5
}
