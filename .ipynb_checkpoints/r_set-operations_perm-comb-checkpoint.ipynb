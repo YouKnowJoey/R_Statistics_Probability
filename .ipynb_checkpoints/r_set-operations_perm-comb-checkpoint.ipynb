{
 "cells": [
  {
   "cell_type": "markdown",
   "id": "acc2b434-69c7-4435-b3a0-0b26867107b8",
   "metadata": {},
   "source": [
    "# Set Operations, Permutations, & Combinations"
   ]
  },
  {
   "cell_type": "markdown",
   "id": "3508946d-628d-4b80-9541-35e71d42e663",
   "metadata": {},
   "source": [
    "## Set Operations"
   ]
  },
  {
   "cell_type": "code",
   "execution_count": 44,
   "id": "85f8153c-9bb3-4840-8147-191ca39c4823",
   "metadata": {},
   "outputs": [
    {
     "name": "stdout",
     "output_type": "stream",
     "text": [
      "Length of A:  4 \n",
      "Length of B:  4"
     ]
    }
   ],
   "source": [
    "set_a <- c('green', 'blue', 'red', 'black')\n",
    "set_b <- c('black', 'teal', 'gray', 'yellow')\n",
    "cat('Length of A: ', length(set_a), '\\n')\n",
    "cat('Length of B: ', length(set_b))"
   ]
  },
  {
   "cell_type": "code",
   "execution_count": 46,
   "id": "22c30045-f3c1-4448-ad1f-c22cea2137cd",
   "metadata": {},
   "outputs": [
    {
     "data": {
      "text/html": [
       "<style>\n",
       ".list-inline {list-style: none; margin:0; padding: 0}\n",
       ".list-inline>li {display: inline-block}\n",
       ".list-inline>li:not(:last-child)::after {content: \"\\00b7\"; padding: 0 .5ex}\n",
       "</style>\n",
       "<ol class=list-inline><li>'green'</li><li>'blue'</li><li>'red'</li><li>'black'</li><li>'teal'</li><li>'gray'</li><li>'yellow'</li></ol>\n"
      ],
      "text/latex": [
       "\\begin{enumerate*}\n",
       "\\item 'green'\n",
       "\\item 'blue'\n",
       "\\item 'red'\n",
       "\\item 'black'\n",
       "\\item 'teal'\n",
       "\\item 'gray'\n",
       "\\item 'yellow'\n",
       "\\end{enumerate*}\n"
      ],
      "text/markdown": [
       "1. 'green'\n",
       "2. 'blue'\n",
       "3. 'red'\n",
       "4. 'black'\n",
       "5. 'teal'\n",
       "6. 'gray'\n",
       "7. 'yellow'\n",
       "\n",
       "\n"
      ],
      "text/plain": [
       "[1] \"green\"  \"blue\"   \"red\"    \"black\"  \"teal\"   \"gray\"   \"yellow\""
      ]
     },
     "metadata": {},
     "output_type": "display_data"
    },
    {
     "data": {
      "text/html": [
       "'black'"
      ],
      "text/latex": [
       "'black'"
      ],
      "text/markdown": [
       "'black'"
      ],
      "text/plain": [
       "[1] \"black\""
      ]
     },
     "metadata": {},
     "output_type": "display_data"
    },
    {
     "data": {
      "text/html": [
       "<style>\n",
       ".list-inline {list-style: none; margin:0; padding: 0}\n",
       ".list-inline>li {display: inline-block}\n",
       ".list-inline>li:not(:last-child)::after {content: \"\\00b7\"; padding: 0 .5ex}\n",
       "</style>\n",
       "<ol class=list-inline><li>'green'</li><li>'blue'</li><li>'red'</li></ol>\n"
      ],
      "text/latex": [
       "\\begin{enumerate*}\n",
       "\\item 'green'\n",
       "\\item 'blue'\n",
       "\\item 'red'\n",
       "\\end{enumerate*}\n"
      ],
      "text/markdown": [
       "1. 'green'\n",
       "2. 'blue'\n",
       "3. 'red'\n",
       "\n",
       "\n"
      ],
      "text/plain": [
       "[1] \"green\" \"blue\"  \"red\"  "
      ]
     },
     "metadata": {},
     "output_type": "display_data"
    },
    {
     "data": {
      "text/html": [
       "<style>\n",
       ".list-inline {list-style: none; margin:0; padding: 0}\n",
       ".list-inline>li {display: inline-block}\n",
       ".list-inline>li:not(:last-child)::after {content: \"\\00b7\"; padding: 0 .5ex}\n",
       "</style>\n",
       "<ol class=list-inline><li>'green'</li><li>'blue'</li><li>'red'</li><li>'black'</li><li>'teal'</li><li>'gray'</li><li>'yellow'</li></ol>\n"
      ],
      "text/latex": [
       "\\begin{enumerate*}\n",
       "\\item 'green'\n",
       "\\item 'blue'\n",
       "\\item 'red'\n",
       "\\item 'black'\n",
       "\\item 'teal'\n",
       "\\item 'gray'\n",
       "\\item 'yellow'\n",
       "\\end{enumerate*}\n"
      ],
      "text/markdown": [
       "1. 'green'\n",
       "2. 'blue'\n",
       "3. 'red'\n",
       "4. 'black'\n",
       "5. 'teal'\n",
       "6. 'gray'\n",
       "7. 'yellow'\n",
       "\n",
       "\n"
      ],
      "text/plain": [
       "[1] \"green\"  \"blue\"   \"red\"    \"black\"  \"teal\"   \"gray\"   \"yellow\""
      ]
     },
     "metadata": {},
     "output_type": "display_data"
    }
   ],
   "source": [
    "# Union\n",
    "union(set_a, set_b)\n",
    "# Intersection\n",
    "intersect(set_a, set_b)\n",
    "# Set Difference\n",
    "setdiff(set_a, set_b)\n",
    "# Unique Values (similar to Union function)\n",
    "unique(c(set_a, set_b))"
   ]
  },
  {
   "cell_type": "markdown",
   "id": "4227511c-d3cf-4106-859b-f85487dfb057",
   "metadata": {},
   "source": [
    "## Permutations & Combinations"
   ]
  },
  {
   "cell_type": "code",
   "execution_count": 18,
   "id": "6c3ff166-bba0-4772-a4e9-71e7b81da520",
   "metadata": {},
   "outputs": [],
   "source": [
    "# Define lib for permutations\n",
    "library(gtools)"
   ]
  },
  {
   "cell_type": "code",
   "execution_count": 32,
   "id": "2dec8c86-eac1-4ae9-80d1-c85724f9113b",
   "metadata": {},
   "outputs": [],
   "source": [
    "# Defined Data\n",
    "game_rules <- c('paper', 'rock', 'scissors')\n",
    "\n",
    "# Number of items to choose from\n",
    "n <- length(game_rules)\n",
    "# Number of items to choose\n",
    "r <- 2"
   ]
  },
  {
   "cell_type": "code",
   "execution_count": 38,
   "id": "eba17126-e081-4a85-ad24-a0cd2b20f6e5",
   "metadata": {},
   "outputs": [
    {
     "name": "stdout",
     "output_type": "stream",
     "text": [
      "      [,1]       [,2]      \n",
      " [1,] \"paper\"    \"paper\"   \n",
      " [2,] \"paper\"    \"rock\"    \n",
      " [3,] \"paper\"    \"scissors\"\n",
      " [4,] \"rock\"     \"paper\"   \n",
      " [5,] \"rock\"     \"rock\"    \n",
      " [6,] \"rock\"     \"scissors\"\n",
      " [7,] \"scissors\" \"paper\"   \n",
      " [8,] \"scissors\" \"rock\"    \n",
      " [9,] \"scissors\" \"scissors\"\n"
     ]
    }
   ],
   "source": [
    "# Permutation\n",
    "permutation <- permutations(n, r, game_rules, repeats.allowed=T)\n",
    "print(permutation)"
   ]
  },
  {
   "cell_type": "code",
   "execution_count": 36,
   "id": "a4d6b4fc-de76-4833-8be6-049b6c4951e7",
   "metadata": {},
   "outputs": [
    {
     "name": "stdout",
     "output_type": "stream",
     "text": [
      "[1] 6\n"
     ]
    }
   ],
   "source": [
    "# Comination\n",
    "comb_with_replacement <- function(n, r){\n",
    "  return( factorial(n + r - 1) / (factorial(r) * factorial(n - 1)) )\n",
    "}\n",
    "\n",
    "combination <- comb_with_replacement(n, r)\n",
    "print(combination)"
   ]
  }
 ],
 "metadata": {
  "kernelspec": {
   "display_name": "R (r_stat)",
   "language": "R",
   "name": "ir_conda_env"
  },
  "language_info": {
   "codemirror_mode": "r",
   "file_extension": ".r",
   "mimetype": "text/x-r-source",
   "name": "R",
   "pygments_lexer": "r",
   "version": "4.1.3"
  }
 },
 "nbformat": 4,
 "nbformat_minor": 5
}
