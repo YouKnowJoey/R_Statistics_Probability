{
 "cells": [
  {
   "cell_type": "markdown",
   "id": "23df175a-56ee-4c40-91c4-42a85d053fe2",
   "metadata": {},
   "source": [
    "# One-, Two- Sample Estimation of the Mean "
   ]
  },
  {
   "cell_type": "markdown",
   "id": "ba1e732c-ae74-4002-ae93-2ab77feb5cf4",
   "metadata": {
    "jp-MarkdownHeadingCollapsed": true
   },
   "source": [
    "## Estimation Problems"
   ]
  },
  {
   "cell_type": "markdown",
   "id": "bf8d6cb2-2fc0-4e78-a5f8-0896ec0e5e3d",
   "metadata": {
    "jp-MarkdownHeadingCollapsed": true
   },
   "source": [
    "### Problem 1\n",
    "\n",
    "9.10) A random sample of 12 graduates of a certain secretarial school typed an average of 79.3 words per minute with a standard deviation of 7.8 words per minute. Assuming a normal distribution for the number of words typed per minute, find a 95% confidence interval for the average number of words typed by all graduates of this school."
   ]
  },
  {
   "cell_type": "code",
   "execution_count": 30,
   "id": "5622f37a-2d0b-43c1-be1a-32b18c68564b",
   "metadata": {},
   "outputs": [
    {
     "name": "stdout",
     "output_type": "stream",
     "text": [
      "t-value:  2.200985 \n",
      "Margin of Error:  4.955884 \n",
      "95% Confidence Interval : [  74.34412  ,  84.25588  ]"
     ]
    }
   ],
   "source": [
    "n <- 12 # n = \"size\" = graduate_students\n",
    "dof<- (n - 1) # degrees of freedom\n",
    "sample_mean <- 79.3 # words per minute, \"x bar\"\n",
    "s <- 7.8 # sample standard deviation \"sigma\" = \"S\"\n",
    "confidence_level <- .95 #95% confidence level interval\n",
    "\n",
    "# Set the confidence level\n",
    "alpha <- (1 - confidence_level)\n",
    "\n",
    "# Calculate the critical t-value\n",
    "t_value <- qt(1 - alpha/2, dof)\n",
    "cat(\"t-value: \", t_value, \"\\n\")\n",
    "\n",
    "# Calculate Margin of Error with the formula for the confidence interval\n",
    "margin_of_error <- t_value * (s / sqrt(n))\n",
    "cat(\"Margin of Error: \", margin_of_error, \"\\n\")\n",
    "cat(\"95% Confidence Interval : [ \", sample_mean - margin_of_error, \" , \", sample_mean + margin_of_error , \" ]\")"
   ]
  },
  {
   "cell_type": "markdown",
   "id": "2e2e83af-68a4-4064-ac5e-15b39c626876",
   "metadata": {},
   "source": [
    "### Problem 2\n",
    "\n",
    "9.13) A random sample of 12 shearing pins is taken in a study of the Rockwell hardness of the pin head. Measurements on the Rockwell hardness are made for each of the 12, yielding an average value of 48.50 with a sample standard deviation of 1.5. Assuming the measurements to be normally distributed, construct a 90% confidence interval for the mean Rockwell hardness."
   ]
  },
  {
   "cell_type": "code",
   "execution_count": 8,
   "id": "c6f79a34-0ce2-4a5d-af99-f992a3d14d63",
   "metadata": {},
   "outputs": [
    {
     "name": "stdout",
     "output_type": "stream",
     "text": [
      "t-value:  1.795885 \n",
      "Margin of Error:  0.7776409 \n",
      "90% Confidence Interval : [  47.72236  ,  49.27764  ]"
     ]
    }
   ],
   "source": [
    "n <- 12 # random sample of shearing pins\n",
    "dof<- (n - 1) # degrees of freedom\n",
    "sample_mean <- 48.50 # average value\n",
    "s <- 1.5 # sample standard deviation \"sigma\" = \"S\"\n",
    "confidence_level <- .90 #90% confidence level interval\n",
    "\n",
    "# Set the confidence level\n",
    "alpha <- (1 - confidence_level)\n",
    "\n",
    "# Calculate the critical t-value\n",
    "t_value <- qt(1 - alpha/2, dof)\n",
    "cat(\"t-value: \", t_value, \"\\n\")\n",
    "\n",
    "# Calculate Margin of Error with the formula for the confidence interval\n",
    "margin_of_error <- t_value * (s / sqrt(n))\n",
    "cat(\"Margin of Error: \", margin_of_error, \"\\n\")\n",
    "cat(\"90% Confidence Interval : [ \", sample_mean - margin_of_error, \" , \", sample_mean + margin_of_error , \" ]\")"
   ]
  },
  {
   "cell_type": "markdown",
   "id": "a8683675-d1f7-4e5c-af66-9fc1ba1bc58e",
   "metadata": {},
   "source": [
    "### Problem 3\n",
    "\n",
    "9.19) A random sample of 25 tablets of buffered aspirin contains, on average, 325.05 mg of aspirin per tablet, with a standard deviation of 0.5 mg. Find the 95% tolerance limits that will contain 90% of the tablet contents for this brand of buffered aspirin. Assume that the aspirin content is normally distributed."
   ]
  },
  {
   "cell_type": "code",
   "execution_count": 9,
   "id": "b650bb71-8c6c-4eeb-bacc-107243e3d0a9",
   "metadata": {
    "editable": true,
    "slideshow": {
     "slide_type": ""
    },
    "tags": []
   },
   "outputs": [
    {
     "name": "stdout",
     "output_type": "stream",
     "text": [
      "z_value:  1.281552 \n",
      "Chi-Squared value:  36.41503 \n"
     ]
    }
   ],
   "source": [
    "n <- 25 # random sample of tablets of buffered aspirin\n",
    "dof<- (n - 1) # degrees of freedom\n",
    "sample_mean <- 325.05 # average value, 325.05 mg of aspirin per tablet\n",
    "s <- 0.5 # sample standard deviation \"sigma\" = \"S\", of 0.5 mg \n",
    "lambda <- .95 #95% confidence level interval\n",
    "p <- .90 # Proportion of the population p = 0.90\n",
    "\n",
    "# Set the confidence level\n",
    "alpha <- (1 - lambda)\n",
    "# z-value corresponding to the cumulative probability p\n",
    "z_value <- qnorm(p)\n",
    "cat(\"z_value: \", z_value, \"\\n\")\n",
    "\n",
    "# chi-square value with n−1 degrees of freedom for the confidence level \"lambda\"\n",
    "chi_squared <-  qchisq(lambda, dof)\n",
    "cat(\"Chi-Squared value: \", chi_squared, \"\\n\")"
   ]
  },
  {
   "cell_type": "code",
   "execution_count": 10,
   "id": "4dc9be00-87fd-43cb-8c0a-fd70bcf4a4e7",
   "metadata": {},
   "outputs": [
    {
     "name": "stdout",
     "output_type": "stream",
     "text": [
      "95% Confidence Interval : [  324.5195  ,  325.5805  ]"
     ]
    }
   ],
   "source": [
    "# k = tolerance factor\n",
    "tolerance_level <- (z_value * sqrt(1 + (1/n))) / sqrt(chi_squared / dof)\n",
    "\n",
    "# calculate tolerance interval\n",
    "lower_bound <- sample_mean - (tolerance_level * s)\n",
    "upper_bound <- sample_mean + (tolerance_level * s)\n",
    "\n",
    "cat(\"95% Confidence Interval : [ \", lower_bound, \" , \", upper_bound , \" ]\")"
   ]
  },
  {
   "cell_type": "markdown",
   "id": "bdefe61c-c032-4032-a336-264f20c78d06",
   "metadata": {},
   "source": [
    "### Problem 4\n",
    "\n",
    "9.28) In Section 9.3, we emphasized the notion of “most efficient estimator” by comparing the variance of two unbiased estimators ˆ Θ sub 1 and ˆ Θ sub 2. However, this does not take into account bias in case one or both estimators are not unbiased. Consider the quantity \n",
    "\n",
    "> MSE=E(ˆ Θ−θ),\n",
    "\n",
    "where MSE denotes mean squared error. The MSE is often used to compare two estimators ˆ Θ1 and ˆ Θ2 of θ when either or both is unbiased because (i) it is intuitively reasonable and (ii) it accounts for bias. Show that MSE can be written\n",
    "\n",
    "> MSE=E[ˆ Θ−E(ˆ Θ)]^2 +[E(ˆ Θ−θ)]^2\n",
    ">\n",
    "> =Var(ˆ Θ) +[Bias(ˆ Θ)]^2\n"
   ]
  },
  {
   "cell_type": "markdown",
   "id": "25131109-3686-4492-9185-d14bb1a5629d",
   "metadata": {},
   "source": [
    "**Solution:**\n",
    "\n",
    "^Θ is referred to as \"big theta\"; Θ is referred to as \"theta\"; E is Expected Value\n",
    "\n",
    "Step 1: Definition of Mean Squared Error, <b>MSE(big theta) = E[(big theta - theta)^2]</b>\n",
    "\n",
    "Step 2: Introduced expected value of the estimator E(big theta) in squared term\n",
    "> MSE(big theta) = E[(big theta - E(big theta) + E(big theta) - theta)^2]\n",
    "\n",
    "Step 3: Expanding the Squared Term\n",
    "> (big theta - theta)^2 = (theta - E(big theta) + E(big theta) - theta)^2\n",
    "> \n",
    "> (big theta - theta)^2 = (big theta - E(big theta))^2 + 2(big theta - E(big theta))*(E(big theta) - theta) + (E(big theta) - theta)^2\n",
    "\n",
    "Step 4: Taking the Expectation for each term separately \n",
    "> E(big theta - theta)^2 = E(big theta - E(big theta))^2 + E[2(big theta - E(big theta))*(E(big theta) - theta)] + E[(E(big theta) - theta)^2]\n",
    "\n",
    "Step 5: Simplify each term\n",
    "> \"first term\" E(big theta - E(big theta))^2 = VAR(big theta)\n",
    "> \n",
    "> \"second term\" E[2(big theta - E(big theta))*(E(big theta) - theta)] = 0\n",
    "> \n",
    "> > <b>Justification</b> => E(big theta - E(big theta)) = 0 ; E(big theta) - theta = k\n",
    "> > \n",
    "> \"third term\" E(big theta) - theta = k thus, E[(E(big theta) - theta)^2] = (E(big theta) - theta)^2\n",
    "\n",
    "Step 6: Combine Term Results\n",
    "> MSE(big theta) = Var(big theta) + (E(big theta) - theta)^2\n",
    "\n",
    "Conclusion\n",
    "> MSE(big theta) = Var(big theta) + Bias(big theta)^2\n",
    "> \n",
    "> where the bias \"big theta\" is defined as => Bias(big theta) = E(big theta) - theta"
   ]
  },
  {
   "attachments": {
    "3b272b92-4b06-40aa-8ccb-3509a384ff38.png": {
     "image/png": "[encoded data removed]"
    }
   },
   "cell_type": "markdown",
   "id": "bc150269-d659-4e8c-83c6-b4a282d9d42a",
   "metadata": {},
   "source": [
    "### Problem 5\n",
    "\n",
    "The following data represent the length of time, in days, to recovery for patients randomly treated with one of two medications to clear up severe bladder infections:\n",
    "\n",
    "![image.png](attachment:3b272b92-4b06-40aa-8ccb-3509a384ff38.png)\n",
    "\n",
    "\n",
    "- Medication 1 : n sub 1 is 14, x bar 1 is 17, s to the power of 2 sub 1 is 1.5\n",
    "- Medication 2 : n sub 2 is 16, x bar 2 is 19, s to the power of 2 sub 2 is 1.8\n",
    "\n",
    "Find a 99% confidence interval for the difference μ2−μ1 in the mean recovery times for the two medications, assuming normal populations with equal variances."
   ]
  },
  {
   "cell_type": "code",
   "execution_count": 11,
   "id": "17e2583c-527e-4809-9768-03d3655bee3b",
   "metadata": {},
   "outputs": [],
   "source": [
    "# Medication 1\n",
    "n_1 <- 14 # n sub 1 is 14\n",
    "sample_mean_1 <- 17 # x bar 1 is 17\n",
    "s_1 <- 1.5 # s to the power of 2 sub 1 is 1.5 \n",
    "\n",
    "# Medication 2\n",
    "n_2 <- 16 # n sub 2 is 16\n",
    "sample_mean_2 <- 19 # x bar 2 is 19\n",
    "s_2 <- 1.8 #s to the power of 2 sub 2 is 1.8"
   ]
  },
  {
   "cell_type": "code",
   "execution_count": 12,
   "id": "9dff5379-886e-4952-a3d1-f58e006754e6",
   "metadata": {},
   "outputs": [
    {
     "name": "stdout",
     "output_type": "stream",
     "text": [
      "Pooled Variance:  1.660714 \n",
      "Standard Error (SE):  0.4716112 \n",
      "Critical T Value:  2.763262 \n",
      "Margin of Error (ME):  1.303185 \n"
     ]
    }
   ],
   "source": [
    "# Pooled Variance calculation\n",
    "pooled_variance <- (((n_1 - 1) * s_1 ) + ((n_2 - 1) * s_2)) / (n_1 + n_2 - 2) # = s squared sub p\n",
    "cat(\"Pooled Variance: \", pooled_variance, \"\\n\")\n",
    "\n",
    "# Standard Error, (SE)\n",
    "standard_error <- sqrt(pooled_variance * ((1 / n_1) + (1 / n_2)))# Difference in means = \"SE\"\n",
    "cat(\"Standard Error (SE): \", standard_error, \"\\n\")\n",
    "\n",
    "# Margin of Error, (ME) = (t sub alpha/2) * SE \n",
    "alpha <- 0.01 # since we want the 99% confidence interval\n",
    "dof <- n_1 + n_2 - 2 # degrees of freedom \n",
    "t_value <- qt(1 - alpha/2, dof) # get t value since n <30\n",
    "\n",
    "margin_of_error <- t_value * standard_error\n",
    "\n",
    "cat(\"Critical T Value: \", t_value, \"\\n\")\n",
    "cat(\"Margin of Error (ME): \", margin_of_error, \"\\n\")"
   ]
  },
  {
   "cell_type": "code",
   "execution_count": 13,
   "id": "2bafa715-3ab0-45d3-8976-0cc078679462",
   "metadata": {},
   "outputs": [
    {
     "name": "stdout",
     "output_type": "stream",
     "text": [
      "99% Confidence Interval : [  0.6968146  ,  3.303185  ]"
     ]
    }
   ],
   "source": [
    "# Confidence Interval (mu sub 1 - mu sub 2) +- ME \n",
    "mean_combined <- sample_mean_2 - sample_mean_1\n",
    "\n",
    "lower_bound <- mean_combined-margin_of_error\n",
    "upper_bound <- mean_combined+margin_of_error\n",
    "cat(\"99% Confidence Interval : [ \", lower_bound, \" , \", upper_bound , \" ]\")"
   ]
  },
  {
   "cell_type": "markdown",
   "id": "ea21f73b-c509-4f93-b25d-a88c75e67722",
   "metadata": {
    "jp-MarkdownHeadingCollapsed": true
   },
   "source": [
    "## R Built-in Datasets, Assess data with Confidence interval for the Mean"
   ]
  },
  {
   "cell_type": "code",
   "execution_count": 1,
   "id": "408de4fa-b0cb-416a-b8dc-5b46fda08c1b",
   "metadata": {},
   "outputs": [],
   "source": [
    "# enable built-in R datasets for analysis\n",
    "library(datasets)"
   ]
  },
  {
   "cell_type": "code",
   "execution_count": 11,
   "id": "9aa95d89-ed77-40e9-9527-caf8477bc260",
   "metadata": {},
   "outputs": [],
   "source": [
    "# Traverse data frame, identify desired dataset\n",
    "# data()"
   ]
  },
  {
   "cell_type": "code",
   "execution_count": 14,
   "id": "4fa2ca65-6e3e-48bb-844a-a78353e61fa6",
   "metadata": {},
   "outputs": [
    {
     "data": {
      "text/html": [
       "<table class=\"dataframe\">\n",
       "<caption>A data.frame: 6 × 4</caption>\n",
       "<thead>\n",
       "\t<tr><th></th><th scope=col>Murder</th><th scope=col>Assault</th><th scope=col>UrbanPop</th><th scope=col>Rape</th></tr>\n",
       "\t<tr><th></th><th scope=col>&lt;dbl&gt;</th><th scope=col>&lt;int&gt;</th><th scope=col>&lt;int&gt;</th><th scope=col>&lt;dbl&gt;</th></tr>\n",
       "</thead>\n",
       "<tbody>\n",
       "\t<tr><th scope=row>Alabama</th><td>13.2</td><td>236</td><td>58</td><td>21.2</td></tr>\n",
       "\t<tr><th scope=row>Alaska</th><td>10.0</td><td>263</td><td>48</td><td>44.5</td></tr>\n",
       "\t<tr><th scope=row>Arizona</th><td> 8.1</td><td>294</td><td>80</td><td>31.0</td></tr>\n",
       "\t<tr><th scope=row>Arkansas</th><td> 8.8</td><td>190</td><td>50</td><td>19.5</td></tr>\n",
       "\t<tr><th scope=row>California</th><td> 9.0</td><td>276</td><td>91</td><td>40.6</td></tr>\n",
       "\t<tr><th scope=row>Colorado</th><td> 7.9</td><td>204</td><td>78</td><td>38.7</td></tr>\n",
       "</tbody>\n",
       "</table>\n"
      ],
      "text/latex": [
       "A data.frame: 6 × 4\n",
       "\\begin{tabular}{r|llll}\n",
       "  & Murder & Assault & UrbanPop & Rape\\\\\n",
       "  & <dbl> & <int> & <int> & <dbl>\\\\\n",
       "\\hline\n",
       "\tAlabama & 13.2 & 236 & 58 & 21.2\\\\\n",
       "\tAlaska & 10.0 & 263 & 48 & 44.5\\\\\n",
       "\tArizona &  8.1 & 294 & 80 & 31.0\\\\\n",
       "\tArkansas &  8.8 & 190 & 50 & 19.5\\\\\n",
       "\tCalifornia &  9.0 & 276 & 91 & 40.6\\\\\n",
       "\tColorado &  7.9 & 204 & 78 & 38.7\\\\\n",
       "\\end{tabular}\n"
      ],
      "text/markdown": [
       "\n",
       "A data.frame: 6 × 4\n",
       "\n",
       "| <!--/--> | Murder &lt;dbl&gt; | Assault &lt;int&gt; | UrbanPop &lt;int&gt; | Rape &lt;dbl&gt; |\n",
       "|---|---|---|---|---|\n",
       "| Alabama | 13.2 | 236 | 58 | 21.2 |\n",
       "| Alaska | 10.0 | 263 | 48 | 44.5 |\n",
       "| Arizona |  8.1 | 294 | 80 | 31.0 |\n",
       "| Arkansas |  8.8 | 190 | 50 | 19.5 |\n",
       "| California |  9.0 | 276 | 91 | 40.6 |\n",
       "| Colorado |  7.9 | 204 | 78 | 38.7 |\n",
       "\n"
      ],
      "text/plain": [
       "           Murder Assault UrbanPop Rape\n",
       "Alabama    13.2   236     58       21.2\n",
       "Alaska     10.0   263     48       44.5\n",
       "Arizona     8.1   294     80       31.0\n",
       "Arkansas    8.8   190     50       19.5\n",
       "California  9.0   276     91       40.6\n",
       "Colorado    7.9   204     78       38.7"
      ]
     },
     "metadata": {},
     "output_type": "display_data"
    }
   ],
   "source": [
    "head(USArrests)"
   ]
  },
  {
   "cell_type": "code",
   "execution_count": 22,
   "id": "a049a2d7-d875-4d8f-aa84-d1d9ba3e8f89",
   "metadata": {},
   "outputs": [
    {
     "data": {
      "text/html": [
       "<style>\n",
       ".list-inline {list-style: none; margin:0; padding: 0}\n",
       ".list-inline>li {display: inline-block}\n",
       ".list-inline>li:not(:last-child)::after {content: \"\\00b7\"; padding: 0 .5ex}\n",
       "</style>\n",
       "<ol class=list-inline><li>'Murder'</li><li>'Assault'</li><li>'UrbanPop'</li><li>'Rape'</li></ol>\n"
      ],
      "text/latex": [
       "\\begin{enumerate*}\n",
       "\\item 'Murder'\n",
       "\\item 'Assault'\n",
       "\\item 'UrbanPop'\n",
       "\\item 'Rape'\n",
       "\\end{enumerate*}\n"
      ],
      "text/markdown": [
       "1. 'Murder'\n",
       "2. 'Assault'\n",
       "3. 'UrbanPop'\n",
       "4. 'Rape'\n",
       "\n",
       "\n"
      ],
      "text/plain": [
       "[1] \"Murder\"   \"Assault\"  \"UrbanPop\" \"Rape\"    "
      ]
     },
     "metadata": {},
     "output_type": "display_data"
    },
    {
     "data": {
      "text/html": [
       "50"
      ],
      "text/latex": [
       "50"
      ],
      "text/markdown": [
       "50"
      ],
      "text/plain": [
       "[1] 50"
      ]
     },
     "metadata": {},
     "output_type": "display_data"
    }
   ],
   "source": [
    "# identify dataframe characteristics\n",
    "names(USArrests)\n",
    "nrow(USArrests)\n",
    "attach(USArrests) #attaches columns to callable \"Variables\""
   ]
  },
  {
   "cell_type": "code",
   "execution_count": 39,
   "id": "dfa86b0a-6642-44fb-80d2-01677916765e",
   "metadata": {},
   "outputs": [
    {
     "name": "stdout",
     "output_type": "stream",
     "text": [
      "z value:  2.009575 \n",
      "Standard Error:  0.6159621 \n",
      "95% Confidence Interval : [  6.550178  ,  9.025822  ]"
     ]
    }
   ],
   "source": [
    "n <- length(Murder) # sample size\n",
    "df <- n - 1 # Degree of Freedom\n",
    "sample_mean <- mean(Murder) # sample mean\n",
    "\n",
    "confidence_level <- .95\n",
    "alpha <- (1 - confidence_level)\n",
    "\n",
    "z_value <- qt(1 - alpha/2, df)\n",
    "standard_error <- sd(Murder) / sqrt(n)\n",
    "margin_of_error <- z_value * standard_error\n",
    "\n",
    "cat(\"z value: \",z_value,\"\\n\")\n",
    "cat(\"Standard Error: \",standard_error,\"\\n\")\n",
    "cat(\"95% Confidence Interval : [ \", sample_mean - margin_of_error, \" , \", sample_mean + margin_of_error , \" ]\")"
   ]
  },
  {
   "cell_type": "markdown",
   "id": "512d0bbd-ac51-4fe9-8699-c2e66716316b",
   "metadata": {
    "jp-MarkdownHeadingCollapsed": true
   },
   "source": [
    "##  One- and Two-Sample Tests of Hypotheses"
   ]
  },
  {
   "cell_type": "markdown",
   "id": "b69f988f-44b5-4630-84ab-026e0e58f705",
   "metadata": {},
   "source": [
    "### Problem 1 "
   ]
  },
  {
   "cell_type": "markdown",
   "id": "0f7e573e-6cba-46db-bd45-aae517217045",
   "metadata": {},
   "source": [
    "10.8) In Relief from Arthritis published by Thorsons Publishers, Ltd., John E. Croft claims that over 40% of those who suffer from osteoarthritis receive measurable relief from an ingredient produced by a particular species of mussel found off the coast of New Zealand. To test this claim, the mussel extract is to be given to a group of 7 osteoarthritic patients. If 3 or more of the patients receive relief, we shall not reject the null hypothesis that p =0.4; otherwise, we conclude that p<0.4.\n",
    "\n",
    " (a) Evaluate α, assuming that p =0.4.\n",
    "\n",
    " (b) Evaluate β for the alternative p =0.3.\n"
   ]
  },
  {
   "cell_type": "code",
   "execution_count": 6,
   "id": "25dadf04-3d68-456d-bc3c-a990cb9aa696",
   "metadata": {},
   "outputs": [
    {
     "data": {
      "text/html": [
       "0.419904"
      ],
      "text/latex": [
       "0.419904"
      ],
      "text/markdown": [
       "0.419904"
      ],
      "text/plain": [
       "[1] 0.419904"
      ]
     },
     "metadata": {},
     "output_type": "display_data"
    }
   ],
   "source": [
    "# null hypothesis (H sub 0): p = 0.4\n",
    "# Alternative hypothesis (H sub alpha): p < 0.4\n",
    "# X follows a binomial distribution: X ~ (n=7, p)\n",
    "\n",
    "# evaluating alpha ... α = P( X<3 | p=0.4 )\n",
    "# CDF of binomial distribution... α = P(X=0) + P(X=1) + P(X=2)\n",
    "# P(X=k) = choose(7,k) * 0.4^(k) * (0.6)^(7-k)\n",
    "\n",
    "P_X_0 <- choose(7,0) * 0.4^(0) * (1- 0.4)^(7-0)\n",
    "P_X_1 <- choose(7,1) * 0.4^(1) * (1- 0.4)^(7-1)\n",
    "P_X_2 <- choose(7,2) * 0.4^(2) * (1- 0.4)^(7-2)\n",
    "\n",
    "alpha <- P_X_0+P_X_1+P_X_2\n",
    "\n",
    "alpha"
   ]
  },
  {
   "cell_type": "code",
   "execution_count": 1,
   "id": "639cd746-3909-4565-91b4-d8aba0fb9175",
   "metadata": {},
   "outputs": [
    {
     "data": {
      "text/html": [
       "0.3529305"
      ],
      "text/latex": [
       "0.3529305"
      ],
      "text/markdown": [
       "0.3529305"
      ],
      "text/plain": [
       "[1] 0.3529305"
      ]
     },
     "metadata": {},
     "output_type": "display_data"
    }
   ],
   "source": [
    "# null hypothesis (H sub 0): p = 0.3\n",
    "# Alternative hypothesis (H sub alpha): p < 0.3\n",
    "\n",
    "# Type II error (β) is the probability of not rejecting the null hypothesis when the alternative hypothesis is true.\n",
    "# X follows a binomial distribution: X ~ (n=7, p= 0.3)\n",
    "\n",
    "# evaluating alpha ... β = P( X>=3 | p=0.3 )\n",
    "# CDF of binomial distribution... α = P(X=3) + P(X=4) + P(X=5) + P(X=6) + P(X=7)\n",
    "# P(X=k) = choose(7,k) * 0.3^(k) * (0.3)^(7-k)\n",
    "\n",
    "P_X_3 <- choose(7,3) * 0.3^(3) * (1- 0.3)^(7-3)\n",
    "P_X_4 <- choose(7,4) * 0.3^(4) * (1- 0.3)^(7-4)\n",
    "P_X_5 <- choose(7,5) * 0.3^(5) * (1- 0.3)^(7-5)\n",
    "P_X_6 <- choose(7,6) * 0.3^(6) * (1- 0.3)^(7-6)\n",
    "P_X_7 <- choose(7,7) * 0.3^(7) * (1- 0.3)^(7-7)\n",
    "\n",
    "beta <- P_X_3+P_X_4+P_X_5+P_X_6+P_X_7\n",
    "\n",
    "beta"
   ]
  },
  {
   "cell_type": "markdown",
   "id": "9e6c07c1-a963-4476-bbb5-dde8e53e0778",
   "metadata": {},
   "source": [
    "(a) The significance level α (the probability of rejecting the null hypothesis when it is true, assuming p=0.4) is approximately 0.420.\n",
    "\n",
    "(b) The probability of a Type II error β (the probability of not rejecting the null hypothesis when the alternative hypothesis is true, assuming p=0.3) is approximately 0.353."
   ]
  },
  {
   "cell_type": "markdown",
   "id": "3e6347c5-73de-4d4e-be91-3950c505655a",
   "metadata": {},
   "source": [
    "### Problem 2"
   ]
  },
  {
   "cell_type": "markdown",
   "id": "26ab6e59-78be-4107-9d3e-bb136f05bfc2",
   "metadata": {},
   "source": [
    "In the American Heart Association journal Hypertension, researchers report that individuals who practice Transcendental Meditation (TM) lower their blood pressure significantly. If a random sample of 225 male TM practitioners meditate for 8.5 hours per week with a standard deviation of 2.25 hours, does that suggest that, on average, men who use TM meditate more than 8 hours per week? Quote a P-value in your conclusion."
   ]
  },
  {
   "cell_type": "code",
   "execution_count": 15,
   "id": "d34446a5-47b9-4b85-b342-6970f0a5feee",
   "metadata": {},
   "outputs": [
    {
     "name": "stdout",
     "output_type": "stream",
     "text": [
      "One Sample T-Test (t-statistic): 3.333333 \n",
      "P-Value: 0.0005019815"
     ]
    }
   ],
   "source": [
    "# null hypothesis\n",
    "mu_0 <- 8 # Hypothesized population mean (mu sub 0) in hours\n",
    "n <- 225\n",
    "sample_mean <- 8.5\n",
    "s <- 2.25 # sample std. dev.\n",
    "df <- n - 1 # degrees of freedom\n",
    "\n",
    "# one-sample t-test\n",
    "t_test <- (sample_mean - mu_0) / (s / sqrt(n))\n",
    "\n",
    "# Calculate the P-value for a one-tailed test for the t-distribution\n",
    "p_value <- 1 - pt(t_test, df)\n",
    "\n",
    "cat(\"One Sample T-Test (t-statistic):\", t_test, \"\\n\")\n",
    "cat(\"P-Value:\", p_value)"
   ]
  },
  {
   "cell_type": "markdown",
   "id": "3a365030-eb7d-4d7e-afd6-495e5497423c",
   "metadata": {},
   "source": [
    "Since the P-value (0.0005) is much smaller than the common significance level (α=0.05), we reject the null hypothesis. This suggests that, on average, men who practice Transcendental Meditation meditate more than 8 hours per week. The evidence is statistically significant, supporting the claim of increased meditation time."
   ]
  },
  {
   "cell_type": "markdown",
   "id": "b52da926-eb95-40ef-8fcb-def9524c8872",
   "metadata": {},
   "source": [
    "### Problem 3"
   ]
  },
  {
   "attachments": {
    "458095e7-6226-4411-bc5b-2289fbed8b6d.png": {
     "image/png": "[encoded data removed]"
    }
   },
   "cell_type": "markdown",
   "id": "873a4d3c-3579-4dbe-92a7-e4da3b6d154d",
   "metadata": {},
   "source": [
    "\n",
    "A study was conducted by the Department of Zoology at Virginia Tech to determine if there is a significant difference in the density of organisms at Two different stations located on Cedar Run, a secondary stream in the Roanoke River drainage basin. Sewage from a sewage treatment plant and overflow from the Federal Mogul Corporation settling pond enter the stream near its headwaters. The following data give the density measurements, In number of organisms per square meter, at the two collecting stations:\n",
    "\n",
    "Number of Organisms per Square Meter\n",
    "\n",
    " Station1 \t\tStation2\n",
    " \n",
    " 5030 4980 \t\t2800 2810\n",
    " \n",
    " 13,700 11,910 \t\t4670 1330\n",
    " \n",
    " 10,730 8130 \t\t6890 3320\n",
    " \n",
    " 11,400 26,850 \t\t7720 1230\n",
    " \n",
    " 860 17,660 \t\t7030 2130\n",
    " \n",
    " 2200 22,800 \t\t7330 2190\n",
    " \n",
    " 4250 1130\n",
    " \n",
    " 15,040 1690\n",
    "\n",
    "![image.png](attachment:458095e7-6226-4411-bc5b-2289fbed8b6d.png)\n",
    "\n",
    "Can we conclude, at the 0.05 level of significance, that the average densities at the two stations are equal? Assume that the observations come from normal populations with different variances."
   ]
  },
  {
   "cell_type": "code",
   "execution_count": 24,
   "id": "34000d3f-c946-48e1-aab1-51df495fac72",
   "metadata": {},
   "outputs": [
    {
     "name": "stdout",
     "output_type": "stream",
     "text": [
      "Degrees of Freedom: 18.78065 \n",
      "T-statistic: 2.757793 \n",
      "P-Value: 0.01261219"
     ]
    }
   ],
   "source": [
    "# 1st \n",
    "# Data\n",
    "station1 <- c(5030, 4980, 13700, 11910, 10730, 8130, 11400, 26850, 860, 17660, 2200, 22800, 4250, 1130, 15040, 1690)\n",
    "station2 <- c(2800, 2810, 4670, 1330, 6890, 3320, 7720, 1230, 7030, 2130, 7330, 2190)\n",
    "\n",
    "# Calculate means\n",
    "mean1 <- mean(station1)\n",
    "mean2 <- mean(station2)\n",
    "\n",
    "# Calculate variances\n",
    "var1 <- var(station1)\n",
    "var2 <- var(station2)\n",
    "\n",
    "# Calculate sample sizes\n",
    "n1 <- length(station1)\n",
    "n2 <- length(station2)\n",
    "\n",
    "# Calculate t-statistic\n",
    "t_stat <- (mean1 - mean2) / sqrt((var1 / n1) + (var2 / n2))\n",
    "\n",
    "# Calculate degrees of freedom\n",
    "df <- ((var1 / n1) + (var2 / n2))^2 / (((var1 / n1)^2 / (n1 - 1)) + ((var2 / n2)^2 / (n2 - 1)))\n",
    "\n",
    "# Calculate p-value for two-tailed test\n",
    "p_value <- 2 * (1 - pt(abs(t_stat), df))\n",
    "\n",
    "# Output the results\n",
    "cat(\"Degrees of Freedom:\", df, \"\\n\")\n",
    "cat(\"T-statistic:\", t_stat, \"\\n\")\n",
    "cat(\"P-Value:\", p_value)"
   ]
  },
  {
   "cell_type": "code",
   "execution_count": 23,
   "id": "4c53a92a-3156-4334-b9de-e41761f591a8",
   "metadata": {},
   "outputs": [
    {
     "data": {
      "text/plain": [
       "\n",
       "\tWelch Two Sample t-test\n",
       "\n",
       "data:  station1 and station2\n",
       "t = 2.7578, df = 18.781, p-value = 0.01261\n",
       "alternative hypothesis: true difference in means is not equal to 0\n",
       "95 percent confidence interval:\n",
       "  1389.003 10164.331\n",
       "sample estimates:\n",
       "mean of x mean of y \n",
       " 9897.500  4120.833 \n"
      ]
     },
     "metadata": {},
     "output_type": "display_data"
    }
   ],
   "source": [
    "# 2nd Example  \n",
    "# Data\n",
    "station1 <- c(5030, 4980, 13700, 11910, 10730, 8130, 11400, 26850, 860, 17660, 2200, 22800, 4250, 1130, 15040, 1690)\n",
    "station2 <- c(2800, 2810, 4670, 1330, 6890, 3320, 7720, 1230, 7030, 2130, 7330, 2190)\n",
    "\n",
    "# Perform Welch's t-test\n",
    "t_test_result <- t.test(station1, station2, var.equal = FALSE)\n",
    "\n",
    "# Output the results\n",
    "t_test_result\n"
   ]
  },
  {
   "cell_type": "markdown",
   "id": "72b3a4df-afb5-4884-9c9f-634fe0e5dd81",
   "metadata": {},
   "source": [
    "Results: \n",
    "\n",
    "The P-value is 0.0126. This value represents the probability of observing a t-statistic as extreme as 2.7578, assuming that the null hypothesis (mu_1 = mu_2) is true.\n",
    "Since the P-value 0.0126 is less than the significance level α=0.05, we reject the null hypothesis.\n",
    "\n",
    "There is enough statistical evidence to conclude that there is a significant difference in the average densities of organisms at the two stations. The evidence suggests that the means are not equal."
   ]
  },
  {
   "cell_type": "markdown",
   "id": "53fdc3d3-751b-42b3-b6d3-39ad952e42b3",
   "metadata": {},
   "source": [
    "### Problem 4"
   ]
  },
  {
   "cell_type": "markdown",
   "id": "e90f923c-9ede-4e2a-af76-b27252915e42",
   "metadata": {},
   "source": [
    "10.52) For testing\n",
    "\n",
    "H0: μ=14,\n",
    "\n",
    "H1: μ≠14,\n",
    "\n",
    "An α=0.05 level t-test is being considered. What sample size is necessary in order for the probability to be 0.1 of falsely failing to reject H0 when the true population mean differs from 14 by 0.5? From a preliminary sample we estimate σ to be 1.25.\n"
   ]
  },
  {
   "cell_type": "code",
   "execution_count": 15,
   "id": "d06ebe62-90e9-4c46-9618-83fe3ade3d46",
   "metadata": {},
   "outputs": [
    {
     "name": "stdout",
     "output_type": "stream",
     "text": [
      "Sample-Size Calculated= 65.67139 = 66"
     ]
    }
   ],
   "source": [
    "# Sample-Size Calculation, two-sided test\n",
    "# n = ((z_alpha/2 + z_beta) / (delta / sigma))^2\n",
    "\n",
    "alpha <- 0.05 # significance level\n",
    "beta <- 0.1 # Type II Error (Power = 1 - beta)\n",
    "power <- 1 - beta # Power of the test\n",
    "sigma <- 1.25 # Estimated Population Standard Deviation\n",
    "delta <- 0.5 # Difference to Detect\n",
    "\n",
    "# Critical values\n",
    "z_alpha <- qnorm(1 - alpha / 2) # z_alpha/2\n",
    "z_beta <- qnorm(1 - beta)\n",
    "\n",
    "# Calculate sample size\n",
    "n <- ((z_alpha + z_beta) / (delta / sigma)) ** 2\n",
    "cat(\"Sample-Size Calculated=\", n, \"=\", round(n, digits = 0))"
   ]
  },
  {
   "cell_type": "markdown",
   "id": "23c49b31-371c-4354-b7d6-0bd0d5bed119",
   "metadata": {},
   "source": [
    "### Problem 5 "
   ]
  },
  {
   "cell_type": "markdown",
   "id": "e6a40808-f2cf-455a-ab68-f233cbc99df6",
   "metadata": {},
   "source": [
    "Suppose that, in the past, 40% of all adults favored capital punishment. Do we have reason to believe that the proportion of adults favoring capital punishment has increased if, in a random sample of 15 adults, 8 favor capital punishment? Use a 0.05 level of significance."
   ]
  },
  {
   "cell_type": "code",
   "execution_count": 18,
   "id": "d0760839-1068-4b3a-9f45-bd1d291c7556",
   "metadata": {},
   "outputs": [
    {
     "data": {
      "text/html": [
       "1.05409255338946"
      ],
      "text/latex": [
       "1.05409255338946"
      ],
      "text/markdown": [
       "1.05409255338946"
      ],
      "text/plain": [
       "[1] 1.054093"
      ]
     },
     "metadata": {},
     "output_type": "display_data"
    },
    {
     "data": {
      "text/html": [
       "0.145920272571894"
      ],
      "text/latex": [
       "0.145920272571894"
      ],
      "text/markdown": [
       "0.145920272571894"
      ],
      "text/plain": [
       "[1] 0.1459203"
      ]
     },
     "metadata": {},
     "output_type": "display_data"
    }
   ],
   "source": [
    "alpha <- 0.05 # Significance Level\n",
    "n <- 15 # Random Sample Size \n",
    "X <- 8 # Number of adults favoring capital punishment\n",
    "p_0 <- 0.4 # Hypothesized Population proportion\n",
    "\n",
    "# z-statistic for a one-sample proportion\n",
    "p_hat <- X / n # ^p \"sample_portion\"\n",
    "z = (p_hat - p_0) / sqrt((p_0*(1-p_0)) / n)\n",
    "z\n",
    "\n",
    "# P-value for a one-tailed test\n",
    "p_value <- 1 - pnorm(z)\n",
    "p_value"
   ]
  },
  {
   "cell_type": "markdown",
   "id": "d82203e1-9b67-4c0f-a0f9-beca532170b9",
   "metadata": {},
   "source": [
    "Since the P-value (0.1459) is greater than the significance level (α=0.05), we do not have sufficient evidence to reject the null hypothesis.\n",
    "\n",
    "The test results suggest that, with a significance level of 0.05, the sample data does not provide strong enough evidence to support the claim that more than 40% of adults now favor capital punishment. Therefore, we maintain the assumption that the true population proportion is still 0.4 or lower."
   ]
  },
  {
   "cell_type": "markdown",
   "id": "cf185009-9cf2-4ad8-8814-60410e4b33c1",
   "metadata": {},
   "source": [
    "## One & Two Sample T-Tests"
   ]
  },
  {
   "cell_type": "code",
   "execution_count": 10,
   "id": "8164fd10-c77c-4afe-854e-ecfc829871ed",
   "metadata": {},
   "outputs": [
    {
     "data": {
      "text/plain": [
       "\n",
       "\tOne Sample t-test\n",
       "\n",
       "data:  weights\n",
       "t = 0.1654, df = 9, p-value = 0.8723\n",
       "alternative hypothesis: true mean is not equal to 50\n",
       "95 percent confidence interval:\n",
       " 48.73227 51.46773\n",
       "sample estimates:\n",
       "mean of x \n",
       "     50.1 \n"
      ]
     },
     "metadata": {},
     "output_type": "display_data"
    }
   ],
   "source": [
    "# one sample t test\n",
    "weights <- c(48, 50, 52, 49, 51, 47, 53, 50, 49, 52)\n",
    "t.test(weights, mu = 50)\n"
   ]
  },
  {
   "cell_type": "code",
   "execution_count": 11,
   "id": "601d154f-a5cd-4c91-8512-ae7d50908112",
   "metadata": {},
   "outputs": [
    {
     "data": {
      "text/plain": [
       "\n",
       "\tTwo Sample t-test\n",
       "\n",
       "data:  batch_a and batch_b\n",
       "t = -0.15617, df = 8, p-value = 0.8798\n",
       "alternative hypothesis: true difference in means is not equal to 0\n",
       "95 percent confidence interval:\n",
       " -3.153126  2.753126\n",
       "sample estimates:\n",
       "mean of x mean of y \n",
       "     50.0      50.2 \n"
      ]
     },
     "metadata": {},
     "output_type": "display_data"
    }
   ],
   "source": [
    "# two sample t test\n",
    "batch_a <- c(48, 50, 52, 49, 51)\n",
    "batch_b <- c(47, 53, 50, 49, 52)\n",
    "t.test(batch_a, batch_b, var.equal = TRUE)\n"
   ]
  },
  {
   "cell_type": "markdown",
   "id": "464279cc-a062-41a8-b34b-c6d6e32fbd9e",
   "metadata": {},
   "source": [
    "### Final Estimation Problems"
   ]
  },
  {
   "cell_type": "markdown",
   "id": "22420f2c-463b-40c5-ad8c-3e5bfa79cf40",
   "metadata": {},
   "source": [
    "### Problem 1 (Mean & Variance)"
   ]
  },
  {
   "cell_type": "markdown",
   "id": "87dfbcbe-c712-4047-a755-3303789f1513",
   "metadata": {},
   "source": [
    "The tar contents of 8 brands of cigarettes selected at random from the latest list released by the Federal Trade Commission are as follows: 7.6, 8.97, 10.2, 16.1, 12.9, 15.1, 14.5, and 9.50 milligrams. Calculate \n",
    "\n",
    "(a) the mean; \n",
    "\n",
    "(b) the variance. \n"
   ]
  },
  {
   "cell_type": "code",
   "execution_count": 10,
   "id": "67d0af9e-7daf-4ee1-83fd-7cc09d173fc8",
   "metadata": {},
   "outputs": [
    {
     "name": "stdout",
     "output_type": "stream",
     "text": [
      "Mean: 11.85875 \n",
      "Variance: 8.918911"
     ]
    }
   ],
   "source": [
    "tar_contents <- c(7.6, 8.97, 10.2, 16.1, 12.9, 15.1, 14.5, 9.5)\n",
    "\n",
    "# Calculate mean\n",
    "mean_tar <- sum(tar_contents) / length(tar_contents)\n",
    "\n",
    "# Calculate variance\n",
    "variance_tar <- var(tar_contents) * (length(tar_contents) - 1) / length(tar_contents)\n",
    "\n",
    "cat(\"Mean:\", mean_tar, \"\\n\")\n",
    "cat(\"Variance:\", variance_tar)"
   ]
  },
  {
   "cell_type": "markdown",
   "id": "e0b5bcf2-89cf-4771-acd0-a6e5650fe123",
   "metadata": {},
   "source": [
    "### Problem 2 (Critical Values of Chi Distribution)"
   ]
  },
  {
   "cell_type": "markdown",
   "id": "be38d6df-cce0-4129-a81a-5ee4f614d2ae",
   "metadata": {},
   "source": [
    "For a chi-squared distribution, find χ2α such that \n",
    "\n",
    "(a) P(χ 2 > χ2α ) = 0.95 when v = 5;\n",
    "\n",
    "(b) P(χ 2> χ2α ) = 0.020 when v = 17;\n",
    "\n",
    "(c) P(37.652 < χ 2< χ2α) = 0.040 when v = 20.\n"
   ]
  },
  {
   "cell_type": "code",
   "execution_count": 26,
   "id": "96160aab-2ce1-4197-a30a-76e45ea5798f",
   "metadata": {},
   "outputs": [
    {
     "name": "stderr",
     "output_type": "stream",
     "text": [
      "Your code contains a unicode char which cannot be displayed in your\n",
      "current locale and R will silently convert it to an escaped form when the\n",
      "R kernel executes this code. This can lead to subtle errors if you use\n",
      "such chars to do comparisons. For more information, please see\n",
      "https://github.com/IRkernel/repr/wiki/Problems-with-unicode-on-windowsWarning message in qchisq(total_prob_c, v_c):\n",
      "\"NaNs produced\"\n"
     ]
    },
    {
     "data": {
      "text/html": [
       "1.14547622606177"
      ],
      "text/latex": [
       "1.14547622606177"
      ],
      "text/markdown": [
       "1.14547622606177"
      ],
      "text/plain": [
       "[1] 1.145476"
      ]
     },
     "metadata": {},
     "output_type": "display_data"
    },
    {
     "data": {
      "text/html": [
       "30.9950472061607"
      ],
      "text/latex": [
       "30.9950472061607"
      ],
      "text/markdown": [
       "30.9950472061607"
      ],
      "text/plain": [
       "[1] 30.99505"
      ]
     },
     "metadata": {},
     "output_type": "display_data"
    },
    {
     "data": {
      "text/html": [
       "NaN"
      ],
      "text/latex": [
       "NaN"
      ],
      "text/markdown": [
       "NaN"
      ],
      "text/plain": [
       "[1] NaN"
      ]
     },
     "metadata": {},
     "output_type": "display_data"
    },
    {
     "data": {
      "text/html": [
       "1.03023668927513"
      ],
      "text/latex": [
       "1.03023668927513"
      ],
      "text/markdown": [
       "1.03023668927513"
      ],
      "text/plain": [
       "[1] 1.030237"
      ]
     },
     "metadata": {},
     "output_type": "display_data"
    }
   ],
   "source": [
    "# (a) P(χ² > χ²α) = 0.95 when v = 5\n",
    "alpha_a <- 0.95\n",
    "v_a <- 5\n",
    "chi2_alpha_a <- qchisq(1 - alpha_a, v_a)\n",
    "\n",
    "# (b) P(χ² > χ²α) = 0.020 when v = 17\n",
    "alpha_b <- 0.020\n",
    "v_b <- 17\n",
    "chi2_alpha_b <- qchisq(1 - alpha_b, v_b)\n",
    "\n",
    "# (c) P(37.652 < χ² < χ²α) = 0.040 when v = 20\n",
    "alpha_c <- 0.040\n",
    "v_c <- 20\n",
    "lower_bound <- 37.652\n",
    "p_lower_bound <- pchisq(lower_bound, v_c)\n",
    "total_prob_c <- p_lower_bound + alpha_c # P(χ² < χ²α)=P(χ² < 37.652)+ α \n",
    "chi2_alpha_c <- qchisq(total_prob_c, v_c)\n",
    "\n",
    "chi2_alpha_a\n",
    "chi2_alpha_b\n",
    "chi2_alpha_c\n",
    "total_prob_c"
   ]
  },
  {
   "cell_type": "markdown",
   "id": "edc36a37-8dbf-4d82-bc24-78559b398601",
   "metadata": {},
   "source": [
    "### Problem 3 (Confidence Interval)"
   ]
  },
  {
   "cell_type": "markdown",
   "id": "fd02058f-0b46-4b25-bf8a-42692fc52f89",
   "metadata": {},
   "source": [
    "An electrical firm manufactures light bulbs that have a life span that is approximately normally distributed. The population standard deviation is not known. A sample of 35 bulbs are found to have an average life span of 800 hours and a sample standard deviation of 40 hours. \n",
    "\n",
    "(a) Find a 99% confidence interval for the population mean. \n",
    "\n",
    "(b) Would a 95% confidence interval computed from the same sample be wider or narrower than the confidence interval found in part (a)? \n",
    "\n",
    "(c) Find a 90% confidence lower bound for the population mean. \n"
   ]
  },
  {
   "cell_type": "code",
   "execution_count": 33,
   "id": "bd5a2ff8-aa59-4e6e-bf63-6d988c3eee1b",
   "metadata": {},
   "outputs": [
    {
     "name": "stdout",
     "output_type": "stream",
     "text": [
      "99% Confidence Interval is [ 15.55269 , 52.44731 ]"
     ]
    }
   ],
   "source": [
    "s <- 40 # hours (sample standard deviation)\n",
    "n <- 35 # bulbs (sample size)\n",
    "x_bar <- # average life span (sample mean)\n",
    "\n",
    "# Degrees of freedom\n",
    "df <- n - 1\n",
    "\n",
    "# (a) 99% confidence interval\n",
    "confidence_level_a <- 0.99\n",
    "t_value_a <- qt(1 - (1 - confidence_level_a) / 2, df)\n",
    "margin_of_error_a <- t_value_a * (s / sqrt(n))\n",
    "lower_bound_a <- x_bar - margin_of_error_a\n",
    "upper_bound_a <- x_bar + margin_of_error_a\n",
    "cat(\"99% Confidence Interval is [\", lower_bound_a,\",\", upper_bound_a,\"]\")"
   ]
  },
  {
   "cell_type": "markdown",
   "id": "414b081b-bcb8-46fd-bad6-7eccade6541c",
   "metadata": {},
   "source": [
    "(b) The width of a confidence interval depends on the t-score, which decreases as the confidence level decreases. So, a 95% confidence interval will be narrower than a 99% confidence interval, as the t-score for 95% is smaller than that for 99%."
   ]
  },
  {
   "cell_type": "code",
   "execution_count": 36,
   "id": "f2814b67-31f7-4904-adc7-71908747bc54",
   "metadata": {},
   "outputs": [
    {
     "name": "stdout",
     "output_type": "stream",
     "text": [
      "90% confidence lower bound is 25.16339"
     ]
    }
   ],
   "source": [
    "# (c) 90% confidence lower bound\n",
    "confidence_level_c <- 0.90\n",
    "t_value_c <- qt(1 - confidence_level_c, df)\n",
    "lower_bound_c <- x_bar + t_value_c * (s / sqrt(n))\n",
    "cat(\"90% confidence lower bound is\", lower_bound_c)"
   ]
  },
  {
   "cell_type": "markdown",
   "id": "cc7fb384-fae9-464a-8bcc-2710194731a6",
   "metadata": {},
   "source": [
    "### Problem 4 (Confidence Interval, Two Sided)"
   ]
  },
  {
   "cell_type": "markdown",
   "id": "d0baac1e-dbc8-470f-a124-5fd17eb174df",
   "metadata": {},
   "source": [
    "We are interested in evaluating the performance of two brands of CPUs in terms of their maximum sustainable clock speeds. \n",
    "\n",
    "(a) A sample of 40 CPUs of brand 1 are found to have an average maximum sustainable clock speed of 550 MHz. A sample of 150 CPUs of brand 2 are found to have an average maximum sustainable clock speed of 530 MHz. The manufacturer for brand1 reports that the population standard deviation for the maximum sustainable clock speed of their CPUs is 10 MHz. The manufacturer for brand 2 reports that the population standard deviation for the maximum sustainable clock speed of their CPUs is 15 MHz. Find a 99% confidence interval for mu1 - mu2 , the difference of the population means of the maximum sustainable clock speeds for brand 1 and 2. \n",
    "\n",
    "Note: If you can't find the exact entry you are looking for in the table, then use the closest one. If there are two equally close entries, use their average. \n"
   ]
  },
  {
   "cell_type": "code",
   "execution_count": 44,
   "id": "9db9c1f3-91d8-4d15-a4be-ace0efbe6e83",
   "metadata": {},
   "outputs": [
    {
     "name": "stdout",
     "output_type": "stream",
     "text": [
      "99% confidence interval of mu1 - mu2 is[ 14.84834 , 25.15166 ]"
     ]
    }
   ],
   "source": [
    "# 99% confidence interval for the difference in means (mu1 - mu2)\n",
    "x1_bar <- 550\n",
    "sigma1 <- 10\n",
    "n1 <- 40\n",
    "\n",
    "x2_bar <- 530\n",
    "sigma2 <- 15\n",
    "n2 <- 150\n",
    "\n",
    "# Z-score for 99% confidence level\n",
    "alpha <- 0.01  # Significance level for 99% confidence(100% - 99%)\n",
    "z_alpha <- qnorm(1 - alpha / 2)\n",
    "\n",
    "# Calculate the standard error\n",
    "SE <- sqrt((sigma1^2 / n1) + (sigma2^2 / n2))\n",
    "\n",
    "# Calculate the margin of error\n",
    "margin_of_error <- z_alpha * SE\n",
    "\n",
    "# Calculate the confidence interval\n",
    "lower_bound <- (x1_bar - x2_bar) - margin_of_error\n",
    "upper_bound <- (x1_bar - x2_bar) + margin_of_error\n",
    "\n",
    "cat(\"99% confidence interval of mu1 - mu2 is[\", lower_bound,\",\", upper_bound,\"]\")"
   ]
  },
  {
   "cell_type": "markdown",
   "id": "67b77cb3-5cb7-4908-b6d3-d797cf48cbb1",
   "metadata": {},
   "source": [
    "(b) This time lets consider the following scenario: Assume that the population distri- butions for the maximum sustainable clock speed is approximately normally dis- tributed but the population variances are unknown. Assume that the population variances are equal. A sample of 41 CPUs of brand 1 are found to have a sample mean of 550 MHz and a sample variance of 200. A sample of 21 CPUs of brand 2 are found to have a sample mean of 530 MHz and a sample variance of 100. Find a 95% confidence interval for mu1 - mu2, the difference of the population means of the maximum sustainable clock speeds for brand 1 and 2. "
   ]
  },
  {
   "cell_type": "code",
   "execution_count": 53,
   "id": "3a21bae0-429f-454d-ac5a-adcf7857a0bc",
   "metadata": {},
   "outputs": [
    {
     "name": "stdout",
     "output_type": "stream",
     "text": [
      "95% confidence interval of mu1 - mu2 is[ 13.07032 , 26.92968 ]"
     ]
    }
   ],
   "source": [
    "n1 <- 41\n",
    "xbar1 <- 550\n",
    "s1_sq <- 200\n",
    "n2 <- 21\n",
    "xbar2 <- 530\n",
    "s2_sq <- 100\n",
    "# Degrees of freedom\n",
    "df <- n1 + n2 - 2\n",
    "\n",
    "# Calculate pooled standard deviation\n",
    "sp_sq <- ((n1 - 1) * s1_sq + (n2 - 1) * s2_sq) / (n1 + n2 - 2)\n",
    "sp <- sqrt(sp_sq)\n",
    "\n",
    "# Calculate standard error of the difference\n",
    "SE <- sp * sqrt(1 / n1 + 1 / n2)\n",
    "\n",
    "# Total significance level for 95% confidence\n",
    "alpha <- 1 - 0.95  # = 0.05\n",
    "# Significance level for one tail\n",
    "alpha_one_tail <- alpha / 2  # = 0.025\n",
    "\n",
    "# t-value for 95% confidence\n",
    "t_value <- qt(1 - alpha_one_tail, df)\n",
    "\n",
    "# Confidence interval\n",
    "CI_lower <- (xbar1 - xbar2) - t_value * SE\n",
    "CI_upper <- (xbar1 - xbar2) + t_value * SE\n",
    "cat(\"95% confidence interval of mu1 - mu2 is[\", CI_lower,\",\", CI_upper,\"]\")"
   ]
  },
  {
   "cell_type": "markdown",
   "id": "2c052e09-ca2e-490d-ae2c-ea8d0e3f3780",
   "metadata": {},
   "source": [
    "### Problem 5 (Confidence Interval)"
   ]
  },
  {
   "cell_type": "markdown",
   "id": "dcefaa83-cb46-4675-b973-1841e82e1434",
   "metadata": {},
   "source": [
    "A manufacturer of MP3 players conducts a set of comprehensive tests on the electrical functions of its product. All MP3 players must pass all tests prior to being sold. Of a random sample of 400 MP3 players, 15 failed one or more tests. Find a 90% confidence interval for the proportion of MP3 players from the population that pass all tests. "
   ]
  },
  {
   "cell_type": "code",
   "execution_count": 60,
   "id": "5ef00045-b719-4ac1-b8e0-73bf5a90bbf0",
   "metadata": {},
   "outputs": [
    {
     "name": "stdout",
     "output_type": "stream",
     "text": [
      "90% confidence interval is [ 0.9468752 , 0.9781248 ]"
     ]
    }
   ],
   "source": [
    "n <- 400\n",
    "x <- 15\n",
    "\n",
    "# Sample proportion\n",
    "p_hat <- (n - x) / n # n-x = number passed \n",
    "\n",
    "# Standard error\n",
    "SE <- sqrt(p_hat * (1 - p_hat) / n)\n",
    "\n",
    "# Total significance level for 90% confidence\n",
    "alpha <- 1 - 0.90  # = 0.10\n",
    "# Significance level for one tail\n",
    "alpha_one_tail <- alpha / 2  # = 0.05\n",
    "# Z-value for 90% confidence\n",
    "z_value <- qnorm(1 - alpha_one_tail)\n",
    "\n",
    "# Confidence interval\n",
    "CI_lower <- p_hat - z_value * SE\n",
    "CI_upper <- p_hat + z_value * SE\n",
    "\n",
    "cat(\"90% confidence interval is [\", CI_lower,\",\",CI_upper,\"]\")"
   ]
  },
  {
   "cell_type": "code",
   "execution_count": null,
   "id": "5a402fa3-92ce-4d90-9aea-806ec8c59d1b",
   "metadata": {},
   "outputs": [],
   "source": []
  }
 ],
 "metadata": {
  "kernelspec": {
   "display_name": "R (r_stat)",
   "language": "R",
   "name": "ir_conda_env"
  },
  "language_info": {
   "codemirror_mode": "r",
   "file_extension": ".r",
   "mimetype": "text/x-r-source",
   "name": "R",
   "pygments_lexer": "r",
   "version": "4.1.3"
  }
 },
 "nbformat": 4,
 "nbformat_minor": 5
}
