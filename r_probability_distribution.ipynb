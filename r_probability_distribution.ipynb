{
 "cells": [
  {
   "cell_type": "markdown",
   "id": "e1081f17-9945-430d-99fd-dfeb4043e703",
   "metadata": {},
   "source": [
    "# Probability Distributions"
   ]
  },
  {
   "cell_type": "markdown",
   "id": "a33efab8-ca2b-42b4-a1f4-3279d2161686",
   "metadata": {
    "jp-MarkdownHeadingCollapsed": true
   },
   "source": [
    "## Probability Distributions & Expected Values"
   ]
  },
  {
   "cell_type": "markdown",
   "id": "56e3489b-d628-4108-86b7-dd2638b21862",
   "metadata": {
    "jp-MarkdownHeadingCollapsed": true
   },
   "source": [
    "### Question 1\n",
    "> 3.25 ) From a box containing 4 dimes and 2 nickels, 3 coins are selected at random without replacement. Find the probability distribution for the total T of the 3 coins. Express the probability distribution graphically as a probability histogram.\n",
    "\n",
    "> Possible outcomes (coin combinations) and their totals:\n",
    "> - 3 dimes = 30 cents\n",
    "> - 2 dimes + 1 nickel = 25 cents\n",
    "> - 1 dime + 2 nickels = 20 cents\n",
    "> - 3 nickels = 15 cents"
   ]
  },
  {
   "cell_type": "code",
   "execution_count": 1,
   "id": "d5395025-6727-4219-bc92-3e5961f137a7",
   "metadata": {},
   "outputs": [],
   "source": [
    "# Total values and their probabilities\n",
    "total_values <- c(30, 25, 20, 15)\n",
    "probabilities <- c(0.2, 0.6, 0.2, 0)"
   ]
  },
  {
   "cell_type": "code",
   "execution_count": 2,
   "id": "62e2c09f-1eae-47fd-99af-8f4c48af0ba9",
   "metadata": {},
   "outputs": [],
   "source": [
    "# Create a data frame\n",
    "data <- data.frame(total_values, probabilities)"
   ]
  },
  {
   "cell_type": "code",
   "execution_count": 3,
   "id": "a731c82d-82ce-4622-9b7c-249c058a6230",
   "metadata": {},
   "outputs": [
    {
     "data": {
      "image/png": "[encoded data removed]",
      "text/plain": [
       "plot without title"
      ]
     },
     "metadata": {
      "image/png": {
       "height": 420,
       "width": 420
      }
     },
     "output_type": "display_data"
    }
   ],
   "source": [
    "# Plot the probability histogram\n",
    "library(ggplot2)\n",
    "\n",
    "ggplot(data, aes(x = factor(total_values), y = probabilities)) +\n",
    "  geom_bar(stat = \"identity\", fill = \"skyblue\", color = \"black\") +\n",
    "  labs(title = \"Probability Distribution of Total Value of Coins\",\n",
    "       x = \"Total Value (cents)\",\n",
    "       y = \"Probability\") +\n",
    "  theme_minimal()"
   ]
  },
  {
   "cell_type": "markdown",
   "id": "a0077926-1f86-47e5-82b8-2d76529d4cb2",
   "metadata": {
    "jp-MarkdownHeadingCollapsed": true
   },
   "source": [
    "### Question 2\n",
    "> Based on extensive testing, it is determined by the manufacturer of a washing machine that the time Y (in years) before a major repair is required is characterized by the probability density function\n",
    "> - (a)Critics would certainly consider the product a bargain if it is unlikely to require a major repair before the sixth year. Comment on this by determining P(Y>6).\n",
    "> - (b) What is the probability that a major problem occurs in the first year?\n"
   ]
  },
  {
   "cell_type": "code",
   "execution_count": 4,
   "id": "66996f6f-8908-4930-ac0e-bde3a6f4908d",
   "metadata": {},
   "outputs": [
    {
     "name": "stdout",
     "output_type": "stream",
     "text": [
      "[1] 0.2231302\n"
     ]
    }
   ],
   "source": [
    "# Calculate the probability\n",
    "probability <- exp(-3/2)\n",
    "print(probability)"
   ]
  },
  {
   "cell_type": "code",
   "execution_count": 5,
   "id": "3f9c0abf-2c6c-49ff-9ea6-57a45d251ce5",
   "metadata": {},
   "outputs": [
    {
     "name": "stdout",
     "output_type": "stream",
     "text": [
      "[1] 0.2211992\n"
     ]
    }
   ],
   "source": [
    "# Calculate the probability\n",
    "probability <- 1 - exp(-1/4)\n",
    "print(probability)"
   ]
  },
  {
   "cell_type": "markdown",
   "id": "e8da26e2-b225-4b7d-be82-9487506e34fe",
   "metadata": {},
   "source": [
    "### Question 4 \n",
    "\n",
    "Suppose that X and Y have the following joint probability function:\n",
    ">- (a)Find the expected value of g(X,Y)=XY^2.\n",
    ">- (b)Find μX and μY .\n"
   ]
  },
  {
   "cell_type": "markdown",
   "id": "de36f786-a738-4f1f-9be3-371a7db1f3f9",
   "metadata": {},
   "source": [
    "Possible Values of (X, Y)\n",
    "- (1,2) with probability 0.10\n",
    "- (1,4) with probability 0.15\n",
    "- (3,2) with probability 0.20\n",
    "- (3,4) with probability 0.30\n",
    "- (5,2) with probability 0.10\n",
    "- (5,4) with probability 0.15"
   ]
  },
  {
   "cell_type": "markdown",
   "id": "c55a7859-96b3-4886-92c2-fa1747e1eb11",
   "metadata": {},
   "source": [
    "Compute XY^2 for each pair (X,Y):\n",
    "- g(1,2)=1⋅2^2 =4\n",
    "- g(1,4)=1⋅4^2 =16\n",
    "- g(3,2)=3⋅2^2 =12\n",
    "- g(3,4)=3⋅4^2 =48\n",
    "- g(5,2)=5⋅2^2 =20\n",
    "- g(5,4)=5⋅4^2 =80"
   ]
  },
  {
   "cell_type": "markdown",
   "id": "e3b7e28f-9aab-4d13-ab61-ac142a83d970",
   "metadata": {},
   "source": [
    "Expected Value of g(X,Y)=XY^2 is E[XY^2]=34.60.:\n",
    "- E[XY^2]=4⋅0.10+16⋅0.15+12⋅0.20+48⋅0.30+20⋅0.10+80⋅0.15\n",
    "- E[XY^2]=0.40+2.40+2.40+14.40+2.00+12.00\n",
    "- E[XY^2]= 33.60"
   ]
  },
  {
   "cell_type": "markdown",
   "id": "b82c7cb5-864a-4687-ba9e-39b1dd760ca4",
   "metadata": {
    "jp-MarkdownHeadingCollapsed": true
   },
   "source": [
    "## Discrete Probability Distribution"
   ]
  },
  {
   "cell_type": "markdown",
   "id": "a71e1c19-9eef-443b-b010-95210e044b45",
   "metadata": {
    "jp-MarkdownHeadingCollapsed": true
   },
   "source": [
    "### Question 1"
   ]
  },
  {
   "cell_type": "markdown",
   "id": "1688cef0-9bb3-4a07-9ebc-813cb81361ca",
   "metadata": {},
   "source": [
    "5.15) It is known that 60% of mice inoculated with a serum are protected from a certain disease. If 5 mice are inoculated, find the probability that\n",
    "\n",
    "- (a) none contracts the disease.\n",
    "- (b) fewer than 2 contract the disease.\n",
    "- (c) more than 3 contract the disease.\n"
   ]
  },
  {
   "cell_type": "code",
   "execution_count": 6,
   "id": "b92cf390-40a7-4b55-a3e6-731fee9e8228",
   "metadata": {},
   "outputs": [],
   "source": [
    "# P(X=x) is the binomial probability (discrete probability distribution)\n",
    "# \"In relation to successfully protected from disease\"\n",
    "# n = 5 (5 mice)\n",
    "# x = 5 (5 successful protected mice trials)\n",
    "# p = .60 (success protected percentage)\n",
    "# q = (1-p)= .40 (failed contracted disease percentage)"
   ]
  },
  {
   "cell_type": "code",
   "execution_count": 7,
   "id": "7f419d01-fc68-41db-aeb0-c6486eb2da54",
   "metadata": {},
   "outputs": [
    {
     "data": {
      "text/html": [
       "7.776"
      ],
      "text/latex": [
       "7.776"
      ],
      "text/markdown": [
       "7.776"
      ],
      "text/plain": [
       "[1] 7.776"
      ]
     },
     "metadata": {},
     "output_type": "display_data"
    }
   ],
   "source": [
    "n <- 5\n",
    "x <- 5\n",
    "p <- 0.60\n",
    "\n",
    "# Calculate the binomial probability\n",
    "probability <- choose(n, x) * (p^x) * ((1-p)^(n-x))\n",
    "percentage <- probability * 100\n",
    "percentage"
   ]
  },
  {
   "cell_type": "code",
   "execution_count": 8,
   "id": "2ffc8d30-af0c-4121-bcf5-c9d099231f33",
   "metadata": {},
   "outputs": [],
   "source": [
    "# P(X < 2) = P(X = 0) + P(X = 1) \"In relation to contracted disease\"\n",
    "# n = 5 (5 mice)\n",
    "# x_0 = 0 (0 disease contracted mice trials)\n",
    "# x_1 = 1 (1 disease contracted mice trials)\n",
    "# p = .60 (success protected percentage)\n",
    "# q = (1-p)= .40 (failed disease contracted percentage)"
   ]
  },
  {
   "cell_type": "code",
   "execution_count": 9,
   "id": "cfaa2736-8f9e-4101-a6d2-1eb20a3ffcbe",
   "metadata": {},
   "outputs": [
    {
     "data": {
      "text/html": [
       "33.696"
      ],
      "text/latex": [
       "33.696"
      ],
      "text/markdown": [
       "33.696"
      ],
      "text/plain": [
       "[1] 33.696"
      ]
     },
     "metadata": {},
     "output_type": "display_data"
    }
   ],
   "source": [
    "# Number of mice trials\n",
    "n <- 5\n",
    "# Probability of contracting the disease\n",
    "p_contract <- 0.40\n",
    "# Probability of being protected\n",
    "p_protected <- 0.60\n",
    "\n",
    "# Calculate the probabilities\n",
    "P_X_0 <- choose(n, 0) * (p_contract^0) * (p_protected^5)\n",
    "P_X_1 <- choose(n, 1) * (p_contract^1) * (p_protected^4)\n",
    "\n",
    "# Total probability that fewer than 2 mice contract the disease\n",
    "P_X_less_than_2 <- P_X_0 + P_X_1\n",
    "\n",
    "# Convert to percentage\n",
    "P_X_less_than_2_percentage <- P_X_less_than_2 * 100\n",
    "\n",
    "# Print the result\n",
    "P_X_less_than_2_percentage"
   ]
  },
  {
   "cell_type": "code",
   "execution_count": 10,
   "id": "2879619c-77f4-4141-8cf9-f03cfde9a199",
   "metadata": {},
   "outputs": [],
   "source": [
    "# P(X > 3) = P(X = 4) + P(X = 5) \"In relation to contracted disease\"\n",
    "# n = 5 (5 mice)\n",
    "# x_4 = 4 (4 disease contracted mice trials)\n",
    "# x_5 = 5 (5 disease contracted mice trials)\n",
    "# p = .60 (success protected percentage)\n",
    "# q = (1-p)= .40 (failed disease contracted percentage)"
   ]
  },
  {
   "cell_type": "code",
   "execution_count": 11,
   "id": "43b68b24-7cd1-48ab-87b5-2f8a8c7b6d36",
   "metadata": {},
   "outputs": [
    {
     "data": {
      "text/html": [
       "8.704"
      ],
      "text/latex": [
       "8.704"
      ],
      "text/markdown": [
       "8.704"
      ],
      "text/plain": [
       "[1] 8.704"
      ]
     },
     "metadata": {},
     "output_type": "display_data"
    }
   ],
   "source": [
    "# Probability of contracting the disease\n",
    "p_contract <- 0.40\n",
    "# Probability of being protected\n",
    "p_protected <- 0.60\n",
    "\n",
    "# Calculate the probabilities\n",
    "P_X_4 <- choose(n, 4) * (p_contract^4) * (p_protected^(n-4))\n",
    "P_X_5 <- choose(n, 5) * (p_contract^5) * (p_protected^(n-5))\n",
    "\n",
    "# Total probability that more than 3 mice contract the disease\n",
    "P_X_more_than_3 <- P_X_4 + P_X_5\n",
    "\n",
    "# Convert to percentage\n",
    "P_X_more_than_3_percentage <- P_X_more_than_3 * 100\n",
    "\n",
    "P_X_more_than_3_percentage"
   ]
  },
  {
   "cell_type": "markdown",
   "id": "08ccd633-e81b-40fb-a033-9d2d4aff7b8e",
   "metadata": {},
   "source": [
    "### Question 2 "
   ]
  },
  {
   "cell_type": "markdown",
   "id": "99fbef87-073b-43cf-a4aa-7c47e0943854",
   "metadata": {},
   "source": [
    "5.63) Find the mean and variance of the random variable X in Exercise 5.58, representing the number of hurricanes per year to hit a certain area of the eastern United States.\n",
    ">5.58) A certain area of the eastern United States is, on average, hit by 6 hurricanes a year. Find the probability that in a given year that area will be hit by\n",
    "> - (a) fewer than 4 hurricanes.\n",
    "> - (b) anywhere from 6 to 8 hurricanes.\n"
   ]
  },
  {
   "cell_type": "markdown",
   "id": "6b7211bd-49e0-4034-adcc-8165cb369773",
   "metadata": {},
   "source": [
    "Answer: The mean (μ) and variance (σ) are 6. This is especially true (theorem) in a Poisson Distribution.  "
   ]
  },
  {
   "cell_type": "markdown",
   "id": "0729c098-2225-4360-b2c2-a36d969b2a53",
   "metadata": {},
   "source": [
    "### Question 3"
   ]
  },
  {
   "cell_type": "markdown",
   "id": "d261f365-cc54-45b3-a5e5-dc473c4376ac",
   "metadata": {},
   "source": [
    "6.13) A research scientist reports that mice will live an average of 40 months when their diets are sharply restricted and then enriched with vitamins and proteins. Assuming that the lifetimes of such mice are normally distributed with a standard deviation of 6.3 months, find the probability that a given mouse will live\n",
    "- (a) more than 32 months.\n",
    "- (b) less than 28 months.\n",
    "- (c) between 37 and 49 months.\n"
   ]
  },
  {
   "cell_type": "code",
   "execution_count": 12,
   "id": "87fdca58-1e73-479d-9d16-c3704f51fe86",
   "metadata": {},
   "outputs": [],
   "source": [
    "mu <- 40  # Mean (months)\n",
    "sigma <- 6.3  # Standard deviation (months)"
   ]
  },
  {
   "cell_type": "code",
   "execution_count": 13,
   "id": "d1342f6a-1107-4e57-b645-015ff1a95e00",
   "metadata": {},
   "outputs": [
    {
     "data": {
      "text/html": [
       "0.89792941162498"
      ],
      "text/latex": [
       "0.89792941162498"
      ],
      "text/markdown": [
       "0.89792941162498"
      ],
      "text/plain": [
       "[1] 0.8979294"
      ]
     },
     "metadata": {},
     "output_type": "display_data"
    }
   ],
   "source": [
    "# P(X > 32 months) = \n",
    "lower_bound <- 32\n",
    "\n",
    "# Calculate the probability using pnorm (normal distribution)\n",
    "probability <- 1 - pnorm(lower_bound, mean = mu, sd = sigma)\n",
    "\n",
    "# Print the result\n",
    "probability"
   ]
  },
  {
   "cell_type": "code",
   "execution_count": 14,
   "id": "7d87d361-a9f3-4099-b0a3-9712a469c885",
   "metadata": {},
   "outputs": [
    {
     "data": {
      "text/html": [
       "0.0284055139673638"
      ],
      "text/latex": [
       "0.0284055139673638"
      ],
      "text/markdown": [
       "0.0284055139673638"
      ],
      "text/plain": [
       "[1] 0.02840551"
      ]
     },
     "metadata": {},
     "output_type": "display_data"
    }
   ],
   "source": [
    "# P(X < 28 months) = \n",
    "upper_bound <- 28  # Given upper bound\n",
    "\n",
    "# Calculate the probability using pnorm\n",
    "probability <- pnorm(upper_bound, mean = mu, sd = sigma)\n",
    "\n",
    "# Print the result\n",
    "probability"
   ]
  },
  {
   "cell_type": "code",
   "execution_count": 15,
   "id": "0ea2b187-fed8-4a2b-8314-8ad549372a4a",
   "metadata": {},
   "outputs": [
    {
     "data": {
      "text/html": [
       "0.606466932549492"
      ],
      "text/latex": [
       "0.606466932549492"
      ],
      "text/markdown": [
       "0.606466932549492"
      ],
      "text/plain": [
       "[1] 0.6064669"
      ]
     },
     "metadata": {},
     "output_type": "display_data"
    }
   ],
   "source": [
    "# P( 37 < X < 49 months) = \n",
    "lower_bound <- 37  # Lower bound\n",
    "upper_bound <- 49  # Upper bound\n",
    "\n",
    "# Calculate the cumulative probabilities\n",
    "p_lower <- pnorm(lower_bound, mean = mu, sd = sigma)\n",
    "p_upper <- pnorm(upper_bound, mean = mu, sd = sigma)\n",
    "\n",
    "# The probability that the mouse will live between 37 and 49 months\n",
    "probability <- p_upper - p_lower\n",
    "\n",
    "# Print the result\n",
    "probability"
   ]
  },
  {
   "cell_type": "markdown",
   "id": "c959ccb5-bda4-43ef-a857-30f6f37260d2",
   "metadata": {},
   "source": [
    "### Question 4"
   ]
  },
  {
   "cell_type": "markdown",
   "id": "2c71acaf-47db-4d57-b053-03502cf66ce2",
   "metadata": {},
   "source": [
    "6.33) Statistics released by the National Highway Traffic Safety Administration and the National Safety Council show that on an average weekend night, 1 out of every 10 drivers on the road is drunk. If 400 drivers are randomly checked next Saturday night, what is the probability that the number of drunk drivers will be\n",
    "- (a) less than 32?\n",
    "- (b) more than 49?\n",
    "- (c) at least 35 but less than 47?\n"
   ]
  },
  {
   "cell_type": "code",
   "execution_count": 16,
   "id": "c1255315-5fbf-4d45-80f5-af5b9ea30635",
   "metadata": {},
   "outputs": [],
   "source": [
    "# Normal Approximation to the Binomial \n",
    "\n",
    "# n = 400 people\n",
    "# p = prob_drunk_driver = 1 / 10 = .10 \n",
    "n <- 400\n",
    "p <- 0.10\n",
    "\n",
    "# Mean and standard deviation for the normal approximation\n",
    "mu <- n * p\n",
    "sigma <- sqrt(n * p * (1 - p))"
   ]
  },
  {
   "cell_type": "code",
   "execution_count": 17,
   "id": "6c232cdb-7572-4322-abc3-310f12b06ae3",
   "metadata": {},
   "outputs": [
    {
     "data": {
      "text/html": [
       "0.105649773666855"
      ],
      "text/latex": [
       "0.105649773666855"
      ],
      "text/markdown": [
       "0.105649773666855"
      ],
      "text/plain": [
       "[1] 0.1056498"
      ]
     },
     "metadata": {},
     "output_type": "display_data"
    }
   ],
   "source": [
    "# P(X < 32) = P(Z > (x + .5)* mu / sigma) \n",
    "\n",
    "# Desired value (added continuity correction)\n",
    "x <- 32 + .5\n",
    "\n",
    "# Calculate the probability using pnorm\n",
    "probability <- pnorm(x, mean = mu, sd = sigma)\n",
    "\n",
    "# Print the result\n",
    "probability"
   ]
  },
  {
   "cell_type": "code",
   "execution_count": 18,
   "id": "ade255f2-5031-44ee-b5c3-b749c59e6f94",
   "metadata": {},
   "outputs": [
    {
     "data": {
      "text/html": [
       "0.0782902035448174"
      ],
      "text/latex": [
       "0.0782902035448174"
      ],
      "text/markdown": [
       "0.0782902035448174"
      ],
      "text/plain": [
       "[1] 0.0782902"
      ]
     },
     "metadata": {},
     "output_type": "display_data"
    }
   ],
   "source": [
    "# P(X > 49) = P(Z > (x - .5)* mu / sigma) \n",
    "\n",
    "# Desired value (added continuity correction)\n",
    "x <- 49 - .5\n",
    "\n",
    "# Calculate the probability using pnorm\n",
    "probability <- 1 - pnorm(x, mean = mu, sd = sigma)\n",
    "\n",
    "# Print the result\n",
    "probability"
   ]
  },
  {
   "cell_type": "code",
   "execution_count": 21,
   "id": "67b37620-0b63-4a0c-8583-94d0dc9871d4",
   "metadata": {},
   "outputs": [
    {
     "data": {
      "text/html": [
       "0.714691557168359"
      ],
      "text/latex": [
       "0.714691557168359"
      ],
      "text/markdown": [
       "0.714691557168359"
      ],
      "text/plain": [
       "[1] 0.7146916"
      ]
     },
     "metadata": {},
     "output_type": "display_data"
    }
   ],
   "source": [
    "# P(35 < X < 47) = P(Z < (47 + .5)* mu / sigma) - P(Z < (35 - .5)* mu / sigma) \n",
    "\n",
    "# Desired value (added continuity correction)\n",
    "lower_bound <- 35 - .5 # P(X > 35)\n",
    "upper_bound <- 47 + .5 # P(X < 47)\n",
    "\n",
    "# Calculate the probability using pnorm\n",
    "p_lower <- pnorm(lower_bound, mean = mu, sd = sigma) # P(Z < (35 - .5)* mu / sigma)\n",
    "p_upper <- pnorm(upper_bound, mean = mu, sd = sigma) #  P(Z < (47 + .5)* mu / sigma)\n",
    "\n",
    "# The probability the number drunk drivers will be between 35 and 47\n",
    "probability <- p_upper - p_lower\n",
    "\n",
    "# Print the result\n",
    "probability"
   ]
  },
  {
   "cell_type": "markdown",
   "id": "8c392e7c-cc3d-41c6-9030-f5abe7209375",
   "metadata": {},
   "source": [
    "### Question 5"
   ]
  },
  {
   "cell_type": "markdown",
   "id": "8703dcad-179f-4f5a-83bc-98d38193344b",
   "metadata": {},
   "source": [
    "6.45) The length of time for one individual to be served at a cafeteria is a random variable having an exponential distribution with a mean of 4 minutes. What is the probability that a person is served in less than 3 minutes on at least 4 of the next 6 days?"
   ]
  },
  {
   "cell_type": "code",
   "execution_count": 20,
   "id": "8485b829-93a1-4960-97f9-dd192a518fce",
   "metadata": {},
   "outputs": [
    {
     "name": "stdout",
     "output_type": "stream",
     "text": [
      "[1] 0.5276334\n"
     ]
    }
   ],
   "source": [
    "# mu (mean) = 4 (min)\n",
    "# lambda = 1 / mu = 1/4\n",
    "# time = 3 min\n",
    "# P(T < 3) = 1 - e^(-lambda * t)\n",
    "lambda <- .25\n",
    "time = 3 \n",
    "\n",
    "# Exponential Distribution (Continuous Probability Distribution)\n",
    "exp_distribution  <- (1 - exp(-lambda * time))\n",
    "print(exp_distribution)"
   ]
  },
  {
   "cell_type": "markdown",
   "id": "b6bc0b69-a24d-4dda-a48e-2f4dcbf88763",
   "metadata": {},
   "source": [
    "The probability that a person is served in less than 3 minutes is approximately 0.5276 or 52.76%"
   ]
  },
  {
   "cell_type": "markdown",
   "id": "2f7be188-1229-44db-b59c-c3d6524874a9",
   "metadata": {},
   "source": [
    "## Poisson Distribution & Gamma Function"
   ]
  },
  {
   "cell_type": "markdown",
   "id": "77d7c051-83f2-49d9-912d-97141ce7754e",
   "metadata": {},
   "source": [
    "### Poisson \n",
    "- Let's answer \"What's the probability of 'x' events occurring with the mean of 'lambda'?\" "
   ]
  },
  {
   "cell_type": "code",
   "execution_count": 9,
   "id": "4e04ea7f-cca2-4d28-b28e-c30d253219c4",
   "metadata": {},
   "outputs": [],
   "source": [
    "# help(ppois) # for explanantion of Poission Distribution"
   ]
  },
  {
   "cell_type": "code",
   "execution_count": 13,
   "id": "529cf288-d7f9-4514-b7d0-25798173efd5",
   "metadata": {},
   "outputs": [
    {
     "data": {
      "text/html": [
       "0.0347180696306841"
      ],
      "text/latex": [
       "0.0347180696306841"
      ],
      "text/markdown": [
       "0.0347180696306841"
      ],
      "text/plain": [
       "[1] 0.03471807"
      ]
     },
     "metadata": {},
     "output_type": "display_data"
    }
   ],
   "source": [
    "# lambda  = mu (mean) = simga (variance) = avg. of occurences \n",
    "# x = event occurrences 'random variable'\n",
    "lambda = 10\n",
    "desired_occurences = 15\n",
    "\n",
    "dpois(x= desired_occurences, lambda = lambda)"
   ]
  },
  {
   "cell_type": "markdown",
   "id": "8c796414-df0e-46ff-b1d9-82c70b4b1bd4",
   "metadata": {},
   "source": [
    "- λ = 10 (mean) ; x = 15\n",
    "P(X = 15) = 〖(λ〗^15*e^λ)/(15!)=  〖(10〗^15*e^(-10))/(15!)=(1000000000000000* 4.5399929762484854e-05)/ (1307674368000) =0.0347180696306841\n",
    "- P(X = 15) = 3.47181%"
   ]
  },
  {
   "cell_type": "markdown",
   "id": "44f36c66-7ebd-4042-9c18-ace149b9578a",
   "metadata": {},
   "source": [
    "### Gamma Function"
   ]
  },
  {
   "cell_type": "code",
   "execution_count": 37,
   "id": "7ea2c104-450e-47ad-9b1e-3f6caeb4a0d9",
   "metadata": {
    "scrolled": true
   },
   "outputs": [],
   "source": [
    "# help(qgamma)"
   ]
  },
  {
   "cell_type": "markdown",
   "id": "d1172fe6-7821-46f7-ab9d-2de58b5b0a12",
   "metadata": {},
   "source": [
    "The function call `pgamma(10, alpha, 1/beta)` computes `P(X≤10)`, which is the probability that a Gamma-distributed random variable X with shape parameter 3 and scale parameter 2."
   ]
  },
  {
   "cell_type": "code",
   "execution_count": 42,
   "id": "285b949f-f06b-4bd5-b259-829699b650ea",
   "metadata": {},
   "outputs": [
    {
     "data": {
      "text/html": [
       "0.875347980516919"
      ],
      "text/latex": [
       "0.875347980516919"
      ],
      "text/markdown": [
       "0.875347980516919"
      ],
      "text/plain": [
       "[1] 0.875348"
      ]
     },
     "metadata": {},
     "output_type": "display_data"
    },
    {
     "data": {
      "text/html": [
       "0.381066755136806"
      ],
      "text/latex": [
       "0.381066755136806"
      ],
      "text/markdown": [
       "0.381066755136806"
      ],
      "text/plain": [
       "[1] 0.3810668"
      ]
     },
     "metadata": {},
     "output_type": "display_data"
    }
   ],
   "source": [
    "# Gamma Cumulative Distribution Function at P(X <= 10)\n",
    "alpha = 3\n",
    "beta = 2\n",
    "\n",
    "pgamma(10, alpha, 1/beta) # Cumulative Distribution Function (CDF)\n",
    "qgamma(.001,alpha, 1/beta) # For note, quantile function"
   ]
  },
  {
   "cell_type": "code",
   "execution_count": 45,
   "id": "33a1009c-987a-451d-a3f0-b1040022c5f7",
   "metadata": {},
   "outputs": [
    {
     "data": {
      "text/html": [
       "0.0421121687442842"
      ],
      "text/latex": [
       "0.0421121687442842"
      ],
      "text/markdown": [
       "0.0421121687442842"
      ],
      "text/plain": [
       "[1] 0.04211217"
      ]
     },
     "metadata": {},
     "output_type": "display_data"
    }
   ],
   "source": [
    "# computed probability density function (PDF) value for x=10 in a Gamma distribution \n",
    "# Given parameters\n",
    "alpha <- 3\n",
    "beta <- 2\n",
    "x <- 10\n",
    "\n",
    "# Calculate the Gamma PDF value\n",
    "dgamma(x, shape = alpha, scale = beta)"
   ]
  },
  {
   "cell_type": "markdown",
   "id": "d6e50dc4-e16f-4068-ab78-e06b4d19ea1b",
   "metadata": {},
   "source": [
    "Gamma Distribution:\n",
    "alpha = 3; beta = 2\n",
    "\n",
    "Gamma Function:\n",
    "> gamma(alpha) = gamma(3)\n",
    "\n",
    "> gamma(3) = ∫ [0 ->∞] : {t^(3-1)*exp^(t) dt}\n",
    "\n",
    "> gamma(3) = 2\n",
    "\n",
    "Gamma Distribution: \n",
    ">f(x) = ( 1/(beta^(alpha)*gamma(alpha))) * x^(alpha - 1) * exp^(-x / beta)\n",
    "\n",
    ">f(x) = ( 1/(2^(3)*2)) * x^(3 - 1) * exp^(-x / 2)\n",
    "\n",
    ">f(x) = (1/16) * x^(2) * exp^(-x / 2)\n",
    "\n",
    ">f(X = 10) = (1/16) * 10^(2) * exp^(-10 / 2)"
   ]
  },
  {
   "cell_type": "code",
   "execution_count": 43,
   "id": "d0507ad7-017e-4a98-b1bd-4900fa59ebed",
   "metadata": {},
   "outputs": [
    {
     "data": {
      "text/html": [
       "0.0421121687442842"
      ],
      "text/latex": [
       "0.0421121687442842"
      ],
      "text/markdown": [
       "0.0421121687442842"
      ],
      "text/plain": [
       "[1] 0.04211217"
      ]
     },
     "metadata": {},
     "output_type": "display_data"
    }
   ],
   "source": [
    "gamma_distribution <- (1/16) * 10^(2) * exp(-10 / 2)\n",
    "gamma_distribution"
   ]
  },
  {
   "cell_type": "code",
   "execution_count": null,
   "id": "a28e01d2-da2a-4fea-8805-fceedc1b5f84",
   "metadata": {},
   "outputs": [],
   "source": []
  }
 ],
 "metadata": {
  "kernelspec": {
   "display_name": "R (r_stat)",
   "language": "R",
   "name": "ir_conda_env"
  },
  "language_info": {
   "codemirror_mode": "r",
   "file_extension": ".r",
   "mimetype": "text/x-r-source",
   "name": "R",
   "pygments_lexer": "r",
   "version": "4.1.3"
  }
 },
 "nbformat": 4,
 "nbformat_minor": 5
}
