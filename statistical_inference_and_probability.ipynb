{
 "cells": [
  {
   "cell_type": "markdown",
   "id": "69254b3c-5f77-4c3b-ac71-dd90d48a5183",
   "metadata": {},
   "source": [
    "# Statistical Inference and Probability"
   ]
  },
  {
   "cell_type": "markdown",
   "id": "342bf5ad-2ceb-4e2a-aaf4-1e8ab6139233",
   "metadata": {},
   "source": [
    "1.9 ) (Chapter 1, pg. 17) Exercise 1.3 on page 13 showed tensile strength data for two samples, one in which specimens were exposed to an aging process and one in which there was no aging of the specimens. \n",
    "> - (a) Calculate the sample variance as well as standard deviation in tensile strength for both samples.\n",
    "> - (b) Does there appear to be any evidence that aging affects the variability in tensile strength? (See also the plot for Exercise 1.3 on page 13.)\n"
   ]
  },
  {
   "cell_type": "code",
   "execution_count": 53,
   "id": "798b5305-f713-4e10-836f-ce2b48aa4237",
   "metadata": {},
   "outputs": [
    {
     "name": "stderr",
     "output_type": "stream",
     "text": [
      "-- \u001b[1mAttaching core tidyverse packages\u001b[22m --------------------- tidyverse 2.0.0 --\n",
      "\u001b[32mv\u001b[39m \u001b[34mdplyr    \u001b[39m 1.1.4     \u001b[32mv\u001b[39m \u001b[34mreadr    \u001b[39m 2.1.5\n",
      "\u001b[32mv\u001b[39m \u001b[34mforcats  \u001b[39m 1.0.0     \u001b[32mv\u001b[39m \u001b[34mstringr  \u001b[39m 1.5.0\n",
      "\u001b[32mv\u001b[39m \u001b[34mlubridate\u001b[39m 1.9.3     \u001b[32mv\u001b[39m \u001b[34mtibble   \u001b[39m 3.2.1\n",
      "\u001b[32mv\u001b[39m \u001b[34mpurrr    \u001b[39m 1.0.2     \u001b[32mv\u001b[39m \u001b[34mtidyr    \u001b[39m 1.3.1\n",
      "-- \u001b[1mConflicts\u001b[22m --------------------------------------- tidyverse_conflicts() --\n",
      "\u001b[31mx\u001b[39m \u001b[34mreadr\u001b[39m::\u001b[32mcol_factor()\u001b[39m        masks \u001b[34mscales\u001b[39m::col_factor()\n",
      "\u001b[31mx\u001b[39m \u001b[34mpurrr\u001b[39m::\u001b[32mdiscard()\u001b[39m           masks \u001b[34mscales\u001b[39m::discard()\n",
      "\u001b[31mx\u001b[39m \u001b[34mdplyr\u001b[39m::\u001b[32mfilter()\u001b[39m            masks \u001b[34mstats\u001b[39m::filter()\n",
      "\u001b[31mx\u001b[39m \u001b[34mggstance\u001b[39m::\u001b[32mgeom_errorbarh()\u001b[39m masks \u001b[34mggplot2\u001b[39m::geom_errorbarh()\n",
      "\u001b[31mx\u001b[39m \u001b[34mdplyr\u001b[39m::\u001b[32mlag()\u001b[39m               masks \u001b[34mstats\u001b[39m::lag()\n",
      "\u001b[36mi\u001b[39m Use the conflicted package (\u001b[3m\u001b[34m<http://conflicted.r-lib.org/>\u001b[39m\u001b[23m) to force all conflicts to become errors\n"
     ]
    }
   ],
   "source": [
    "# Imported library for data analysis and plotting\n",
    "library(\"tidyverse\")\n",
    "library(\"ggformula\")"
   ]
  },
  {
   "cell_type": "code",
   "execution_count": 55,
   "id": "5712bfab-2815-4054-91a1-ca1c3cc436fa",
   "metadata": {},
   "outputs": [],
   "source": [
    "# 20 specimens total\n",
    "# 10 exposed to as signed randomly to be exposed to an accelerated batch\n",
    "# aging process that involved exposure to high temperatures for 10 days\n",
    "\n",
    "# Measurements of tensile strength (psi)\n",
    "# Define the No aging array\n",
    "no_aging_tensile <- c(227, 222, 218, 217, 225, 218, 216, 229, 228, 221)\n",
    "\n",
    "# Define the Aging array\n",
    "aging_tensile <- c(219, 214, 215, 211, 209, 218, 203, 204, 201, 205)"
   ]
  },
  {
   "cell_type": "code",
   "execution_count": 56,
   "id": "a2dd36e5-0c50-4e84-b1cc-cf9fbba463c5",
   "metadata": {},
   "outputs": [
    {
     "name": "stdout",
     "output_type": "stream",
     "text": [
      " [1] 227 222 218 217 225 218 216 229 228 221\n",
      " [1] 219 214 215 211 209 218 203 204 201 205\n"
     ]
    }
   ],
   "source": [
    "# Print the arrays to verify\n",
    "print(no_aging_tensile)\n",
    "print(aging_tensile)"
   ]
  },
  {
   "cell_type": "code",
   "execution_count": 57,
   "id": "03f131de-f326-4d67-a4d5-f1a182aa701a",
   "metadata": {},
   "outputs": [
    {
     "name": "stdout",
     "output_type": "stream",
     "text": [
      "No Aging - Variance: 23.65556 Standard Deviation: 4.863698 \n",
      "Aging - Variance: 42.1 Standard Deviation: 6.488451 \n"
     ]
    }
   ],
   "source": [
    "# Calculate the sample variance and standard deviation for no_aging_tensile\n",
    "var_no_aging <- var(no_aging_tensile)\n",
    "sd_no_aging <- sd(no_aging_tensile)\n",
    "\n",
    "# Calculate the sample variance and standard deviation for aging_tensile\n",
    "var_aging <- var(aging_tensile)\n",
    "sd_aging <- sd(aging_tensile)\n",
    "\n",
    "# Print the results\n",
    "cat(\"No Aging - Variance:\", var_no_aging, \"Standard Deviation:\", sd_no_aging, \"\\n\")\n",
    "cat(\"Aging - Variance:\", var_aging, \"Standard Deviation:\", sd_aging, \"\\n\")"
   ]
  },
  {
   "cell_type": "code",
   "execution_count": 49,
   "id": "cd4a8070-1794-4545-89ae-9ebcb03322df",
   "metadata": {},
   "outputs": [],
   "source": [
    "# Create a data frame for the data\n",
    "tensile_data <- data.frame(\n",
    "  TensileStrength = c(no_aging_tensile, aging_tensile),\n",
    "  Condition = rep(c(\"no_aging_tensile\", \"aging_tensile\"), each = 10)\n",
    ")"
   ]
  },
  {
   "cell_type": "code",
   "execution_count": 52,
   "id": "816de64b-a137-4db5-8552-3da4c350255f",
   "metadata": {},
   "outputs": [
    {
     "data": {
      "image/png": "[encoded data removed]",
      "text/plain": [
       "plot without title"
      ]
     },
     "metadata": {
      "image/png": {
       "height": 420,
       "width": 420
      }
     },
     "output_type": "display_data"
    }
   ],
   "source": [
    "# Create a dot plot using ggplot2\n",
    "ggplot(tensile_data, aes(x = Condition, y = TensileStrength)) +\n",
    "  geom_dotplot(binaxis = 'y', stackdir = 'center', binwidth = .5, dotsize = 1) +\n",
    "  labs(\n",
    "    title = \"Dot Plot of Tensile Strength\",\n",
    "    x = \"Condition\",\n",
    "    y = \"Tensile Strength (psi)\"\n",
    "  ) +\n",
    "  theme_minimal()"
   ]
  },
  {
   "cell_type": "code",
   "execution_count": null,
   "id": "fb848f75-768a-4edd-abb3-0baf6ac7afe1",
   "metadata": {},
   "outputs": [],
   "source": []
  }
 ],
 "metadata": {
  "kernelspec": {
   "display_name": "R (r_stat)",
   "language": "R",
   "name": "ir_conda_env"
  },
  "language_info": {
   "codemirror_mode": "r",
   "file_extension": ".r",
   "mimetype": "text/x-r-source",
   "name": "R",
   "pygments_lexer": "r",
   "version": "4.1.3"
  }
 },
 "nbformat": 4,
 "nbformat_minor": 5
}
