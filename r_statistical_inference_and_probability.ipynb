{
 "cells": [
  {
   "cell_type": "markdown",
   "id": "69254b3c-5f77-4c3b-ac71-dd90d48a5183",
   "metadata": {
    "jp-MarkdownHeadingCollapsed": true
   },
   "source": [
    "# Statistical Inference and Probability"
   ]
  },
  {
   "cell_type": "markdown",
   "id": "926e7812-3104-48c8-8ca3-a99e18db57e6",
   "metadata": {
    "jp-MarkdownHeadingCollapsed": true
   },
   "source": [
    "## Problem 1 (Standard Deviation, Variance, and Dot Plot)"
   ]
  },
  {
   "cell_type": "markdown",
   "id": "342bf5ad-2ceb-4e2a-aaf4-1e8ab6139233",
   "metadata": {},
   "source": [
    "1.9 ) (Chapter 1, pg. 17) Exercise 1.3 on page 13 showed tensile strength data for two samples, one in which specimens were exposed to an aging process and one in which there was no aging of the specimens. \n",
    "> - (a) Calculate the sample variance as well as standard deviation in tensile strength for both samples.\n",
    "> - (b) Does there appear to be any evidence that aging affects the variability in tensile strength? (See also the plot for Exercise 1.3 on page 13.)\n"
   ]
  },
  {
   "cell_type": "code",
   "execution_count": 1,
   "id": "798b5305-f713-4e10-836f-ce2b48aa4237",
   "metadata": {},
   "outputs": [
    {
     "name": "stderr",
     "output_type": "stream",
     "text": [
      "-- \u001b[1mAttaching core tidyverse packages\u001b[22m ---------------------------------------------------------------- tidyverse 2.0.0 --\n",
      "\u001b[32mv\u001b[39m \u001b[34mdplyr    \u001b[39m 1.1.4     \u001b[32mv\u001b[39m \u001b[34mreadr    \u001b[39m 2.1.5\n",
      "\u001b[32mv\u001b[39m \u001b[34mforcats  \u001b[39m 1.0.0     \u001b[32mv\u001b[39m \u001b[34mstringr  \u001b[39m 1.5.0\n",
      "\u001b[32mv\u001b[39m \u001b[34mggplot2  \u001b[39m 3.4.2     \u001b[32mv\u001b[39m \u001b[34mtibble   \u001b[39m 3.2.1\n",
      "\u001b[32mv\u001b[39m \u001b[34mlubridate\u001b[39m 1.9.3     \u001b[32mv\u001b[39m \u001b[34mtidyr    \u001b[39m 1.3.1\n",
      "\u001b[32mv\u001b[39m \u001b[34mpurrr    \u001b[39m 1.0.2     \n",
      "-- \u001b[1mConflicts\u001b[22m ---------------------------------------------------------------------------------- tidyverse_conflicts() --\n",
      "\u001b[31mx\u001b[39m \u001b[34mdplyr\u001b[39m::\u001b[32mfilter()\u001b[39m masks \u001b[34mstats\u001b[39m::filter()\n",
      "\u001b[31mx\u001b[39m \u001b[34mdplyr\u001b[39m::\u001b[32mlag()\u001b[39m    masks \u001b[34mstats\u001b[39m::lag()\n",
      "\u001b[36mi\u001b[39m Use the conflicted package (\u001b[3m\u001b[34m<http://conflicted.r-lib.org/>\u001b[39m\u001b[23m) to force all conflicts to become errors\n",
      "Loading required package: ggstance\n",
      "\n",
      "\n",
      "Attaching package: 'ggstance'\n",
      "\n",
      "\n",
      "The following objects are masked from 'package:ggplot2':\n",
      "\n",
      "    geom_errorbarh, GeomErrorbarh\n",
      "\n",
      "\n",
      "Loading required package: scales\n",
      "\n",
      "\n",
      "Attaching package: 'scales'\n",
      "\n",
      "\n",
      "The following object is masked from 'package:purrr':\n",
      "\n",
      "    discard\n",
      "\n",
      "\n",
      "The following object is masked from 'package:readr':\n",
      "\n",
      "    col_factor\n",
      "\n",
      "\n",
      "Loading required package: ggridges\n",
      "\n",
      "\n",
      "New to ggformula?  Try the tutorials: \n",
      "\tlearnr::run_tutorial(\"introduction\", package = \"ggformula\")\n",
      "\tlearnr::run_tutorial(\"refining\", package = \"ggformula\")\n",
      "\n"
     ]
    }
   ],
   "source": [
    "# Imported library for data analysis and plotting\n",
    "library(\"tidyverse\")\n",
    "library(\"ggformula\")\n",
    "library(\"ggplot2\")"
   ]
  },
  {
   "cell_type": "code",
   "execution_count": 2,
   "id": "5712bfab-2815-4054-91a1-ca1c3cc436fa",
   "metadata": {},
   "outputs": [],
   "source": [
    "# 20 specimens total\n",
    "# 10 exposed to as signed randomly to be exposed to an accelerated batch\n",
    "# aging process that involved exposure to high temperatures for 10 days\n",
    "\n",
    "# Measurements of tensile strength (psi)\n",
    "# Define the No aging array\n",
    "no_aging_tensile <- c(227, 222, 218, 217, 225, 218, 216, 229, 228, 221)\n",
    "\n",
    "# Define the Aging array\n",
    "aging_tensile <- c(219, 214, 215, 211, 209, 218, 203, 204, 201, 205)"
   ]
  },
  {
   "cell_type": "code",
   "execution_count": 3,
   "id": "a2dd36e5-0c50-4e84-b1cc-cf9fbba463c5",
   "metadata": {},
   "outputs": [
    {
     "name": "stdout",
     "output_type": "stream",
     "text": [
      " [1] 227 222 218 217 225 218 216 229 228 221\n",
      " [1] 219 214 215 211 209 218 203 204 201 205\n"
     ]
    }
   ],
   "source": [
    "# Print the arrays to verify\n",
    "print(no_aging_tensile)\n",
    "print(aging_tensile)"
   ]
  },
  {
   "cell_type": "code",
   "execution_count": 4,
   "id": "03f131de-f326-4d67-a4d5-f1a182aa701a",
   "metadata": {},
   "outputs": [
    {
     "name": "stdout",
     "output_type": "stream",
     "text": [
      "No Aging - Variance: 23.65556 Standard Deviation: 4.863698 \n",
      "Aging - Variance: 42.1 Standard Deviation: 6.488451 \n"
     ]
    }
   ],
   "source": [
    "# Calculate the sample variance and standard deviation for no_aging_tensile\n",
    "var_no_aging <- var(no_aging_tensile)\n",
    "sd_no_aging <- sd(no_aging_tensile)\n",
    "\n",
    "# Calculate the sample variance and standard deviation for aging_tensile\n",
    "var_aging <- var(aging_tensile)\n",
    "sd_aging <- sd(aging_tensile)\n",
    "\n",
    "# Print the results\n",
    "cat(\"No Aging - Variance:\", var_no_aging, \"Standard Deviation:\", sd_no_aging, \"\\n\")\n",
    "cat(\"Aging - Variance:\", var_aging, \"Standard Deviation:\", sd_aging, \"\\n\")"
   ]
  },
  {
   "cell_type": "code",
   "execution_count": 5,
   "id": "cd4a8070-1794-4545-89ae-9ebcb03322df",
   "metadata": {},
   "outputs": [],
   "source": [
    "# Create a data frame for the data\n",
    "tensile_data <- data.frame(\n",
    "  TensileStrength = c(no_aging_tensile, aging_tensile),\n",
    "  Condition = rep(c(\"no_aging_tensile\", \"aging_tensile\"), each = 10)\n",
    ")"
   ]
  },
  {
   "cell_type": "code",
   "execution_count": 6,
   "id": "816de64b-a137-4db5-8552-3da4c350255f",
   "metadata": {},
   "outputs": [
    {
     "data": {
      "image/png": "[encoded data removed]",
      "text/plain": [
       "plot without title"
      ]
     },
     "metadata": {
      "image/png": {
       "height": 420,
       "width": 420
      }
     },
     "output_type": "display_data"
    }
   ],
   "source": [
    "# Create a dot plot using ggplot2\n",
    "ggplot(tensile_data, aes(x = Condition, y = TensileStrength)) +\n",
    "  geom_dotplot(binaxis = 'y', stackdir = 'center', binwidth = .5, dotsize = 1) +\n",
    "  labs(\n",
    "    title = \"Dot Plot of Tensile Strength\",\n",
    "    x = \"Condition\",\n",
    "    y = \"Tensile Strength (psi)\"\n",
    "  ) +\n",
    "  theme_minimal()"
   ]
  },
  {
   "cell_type": "markdown",
   "id": "b37d8941-58f6-40b0-a05a-d71b36b4e6b1",
   "metadata": {
    "jp-MarkdownHeadingCollapsed": true
   },
   "source": [
    "## Problem 2 (Relative Frequency Histogram, Mean, Median, 10% Trimmed Mean)"
   ]
  },
  {
   "cell_type": "markdown",
   "id": "9e096643-f2e1-4435-a5b3-b13c1f8f2b9c",
   "metadata": {},
   "source": [
    "1.25 ) The following data is related to that in Exercise 1.24. It gives the percentages of the families that are in the upper income level, for the same individual schools in the same order as in Exercise 1.24. \n",
    "> Data: 72.2 31.9 26.5 29.1 27.3 8.6 22.3 26.5 20.4 12.8 25.1 19.2 24.1 58.2 68.1 89.2 55.1 9.4 14.5 13.9 20.7 17.9 8.5 55.4 38.1 54.2 21.5 26.2 59.1 43.3\n",
    "> - (a)Calculate the sample mean.\n",
    "> - (b)Calculate the sample median.\n",
    "> - (c)Construct a relative frequency histogram of the data.\n",
    "> - (d)Compute the 10% trimmed mean. Compare with the results in (a)and(b) and comment.\n"
   ]
  },
  {
   "cell_type": "code",
   "execution_count": 7,
   "id": "508aa86d-460a-4224-a252-5d44cb244e76",
   "metadata": {},
   "outputs": [
    {
     "name": "stdout",
     "output_type": "stream",
     "text": [
      "Sum of values:  999.3 \n",
      "Sorted List:  8.5 8.6 9.4 12.8 13.9 14.5 17.9 19.2 20.4 20.7 21.5 22.3 24.1 25.1 26.2 26.5 26.5 27.3 29.1 31.9 38.1 43.3 54.2 55.1 55.4 58.2 59.1 68.1 72.2 89.2 \n",
      "Trimmed Set:  743.3"
     ]
    }
   ],
   "source": [
    "perc_upper_income <- c(72.2, 31.9, 26.5, 29.1, 27.3, 8.6, 22.3, 26.5, 20.4, \n",
    "                12.8, 25.1, 19.2, 24.1, 58.2, 68.1, 89.2, 55.1, 9.4, \n",
    "                14.5, 13.9, 20.7, 17.9, 8.5, 55.4, 38.1, 54.2, 21.5, \n",
    "                26.2, 59.1, 43.3)\n",
    "sorted_income <- sort(perc_upper_income)\n",
    "trimmed_income <- sorted_income[4:27]\n",
    "\n",
    "cat(\"Sum of values: \", sum(perc_upper_income), \"\\n\")\n",
    "cat(\"Sorted List: \", sort(sorted_income), \"\\n\")\n",
    "cat(\"Trimmed Set: \", sum(trimmed_income))"
   ]
  },
  {
   "cell_type": "code",
   "execution_count": 8,
   "id": "783d0a7b-0922-40bc-beab-1ebe5047aa94",
   "metadata": {},
   "outputs": [
    {
     "name": "stdout",
     "output_type": "stream",
     "text": [
      "Sample Median: 26.35 \n",
      "Sample Mean: 33.31 \n",
      "10% Trimmed Mean: 30.97083 \n"
     ]
    }
   ],
   "source": [
    "# calculate sample mean\n",
    "sample_mean_income <- mean(perc_upper_income)\n",
    "# calculate sample median\n",
    "sample_median_income <- median(perc_upper_income)\n",
    "# Calculate the 10% trimmed mean\n",
    "trimmed_mean_income <- mean(perc_upper_income, trim = 0.10)\n",
    "\n",
    "# Print the sample median, sample mean, & 10% trimmed mean\n",
    "cat(\"Sample Median:\", sample_median_income, \"\\n\")\n",
    "cat(\"Sample Mean:\", sample_mean_income, \"\\n\")\n",
    "cat(\"10% Trimmed Mean:\", trimmed_mean_income, \"\\n\")"
   ]
  },
  {
   "cell_type": "code",
   "execution_count": 9,
   "id": "28fc8950-d269-4138-883e-0ce9749fff79",
   "metadata": {
    "scrolled": true
   },
   "outputs": [
    {
     "data": {
      "text/html": [
       "<table class=\"dataframe\">\n",
       "<caption>A data.frame: 6 × 1</caption>\n",
       "<thead>\n",
       "\t<tr><th></th><th scope=col>perc_upper_income</th></tr>\n",
       "\t<tr><th></th><th scope=col>&lt;dbl&gt;</th></tr>\n",
       "</thead>\n",
       "<tbody>\n",
       "\t<tr><th scope=row>1</th><td>72.2</td></tr>\n",
       "\t<tr><th scope=row>2</th><td>31.9</td></tr>\n",
       "\t<tr><th scope=row>3</th><td>26.5</td></tr>\n",
       "\t<tr><th scope=row>4</th><td>29.1</td></tr>\n",
       "\t<tr><th scope=row>5</th><td>27.3</td></tr>\n",
       "\t<tr><th scope=row>6</th><td> 8.6</td></tr>\n",
       "</tbody>\n",
       "</table>\n"
      ],
      "text/latex": [
       "A data.frame: 6 × 1\n",
       "\\begin{tabular}{r|l}\n",
       "  & perc\\_upper\\_income\\\\\n",
       "  & <dbl>\\\\\n",
       "\\hline\n",
       "\t1 & 72.2\\\\\n",
       "\t2 & 31.9\\\\\n",
       "\t3 & 26.5\\\\\n",
       "\t4 & 29.1\\\\\n",
       "\t5 & 27.3\\\\\n",
       "\t6 &  8.6\\\\\n",
       "\\end{tabular}\n"
      ],
      "text/markdown": [
       "\n",
       "A data.frame: 6 × 1\n",
       "\n",
       "| <!--/--> | perc_upper_income &lt;dbl&gt; |\n",
       "|---|---|\n",
       "| 1 | 72.2 |\n",
       "| 2 | 31.9 |\n",
       "| 3 | 26.5 |\n",
       "| 4 | 29.1 |\n",
       "| 5 | 27.3 |\n",
       "| 6 |  8.6 |\n",
       "\n"
      ],
      "text/plain": [
       "  perc_upper_income\n",
       "1 72.2             \n",
       "2 31.9             \n",
       "3 26.5             \n",
       "4 29.1             \n",
       "5 27.3             \n",
       "6  8.6             "
      ]
     },
     "metadata": {},
     "output_type": "display_data"
    }
   ],
   "source": [
    "income_data <- data.frame(perc_upper_income)\n",
    "head(income_data)"
   ]
  },
  {
   "cell_type": "code",
   "execution_count": 10,
   "id": "9417fa97-f8b2-41d8-9f47-e16eef187d5e",
   "metadata": {},
   "outputs": [
    {
     "data": {
      "image/png": "[encoded data removed]",
      "text/plain": [
       "plot without title"
      ]
     },
     "metadata": {
      "image/png": {
       "height": 420,
       "width": 420
      }
     },
     "output_type": "display_data"
    }
   ],
   "source": [
    "# Create a relative frequency histogram using ggplot2\n",
    "# relative_frequency = count / sum(count)) \n",
    "ggplot(income_data, aes(x = perc_upper_income)) +\n",
    "  geom_histogram(aes(y = after_stat(count / sum(count))), bins = 20, fill = \"skyblue\", alpha = .7) +\n",
    "  labs(\n",
    "    title = \"Relative Frequency Histogram\",\n",
    "    x = \"Values\",\n",
    "    y = \"Relative Frequency\"\n",
    "  ) +\n",
    "  theme_minimal()"
   ]
  },
  {
   "cell_type": "markdown",
   "id": "3dfa800c-bfe1-4c6b-b2f0-0b4101976110",
   "metadata": {
    "jp-MarkdownHeadingCollapsed": true
   },
   "source": [
    "## Problem 3 (Probability of Dice)"
   ]
  },
  {
   "cell_type": "markdown",
   "id": "c0a3d33a-8f5a-4e0b-b35d-f0dd0e3e903c",
   "metadata": {},
   "source": [
    "2.50 ) Assuming that all elements of S in Exercise 2.8 on page 42 are equally likely to occur, find\n",
    "> - (a) the probability of event A;\n",
    "> - (b) the probability of event C;\n",
    "> - (c) the probability of event A ∩ C.\n"
   ]
  },
  {
   "cell_type": "markdown",
   "id": "ca72c89d-c99f-4a75-8e3b-57adb74daf6b",
   "metadata": {},
   "source": [
    "Important Facts:\n",
    "- green die = x\n",
    "- red die = y\n",
    "- 6 sides a die\n",
    "- Thus, S contains all possible pair of (x,y), so 6×6=36\n",
    "- (\"rule method\") S = {(x,y) | x ∈ {1,2,3,4,5,6} and y ∈ {1,2,3,4,5,6}}\n",
    "- S={(1,1),(1,2),(1,3),(1,4),(1,5),(1,6),\n",
    "(2,1),(2,2),(2,3),(2,4),(2,5),(2,6),\n",
    "(3,1),(3,2),(3,3),(3,4),(3,5),(3,6),\n",
    "(4,1),(4,2),(4,3),(4,4),(4,5),(4,6),\n",
    "(5,1),(5,2),(5,3),(5,4),(5,5),(5,6),\n",
    "(6,1),(6,2),(6,3),(6,4),(6,5),(6,6)}\n",
    "\n",
    "Events\n",
    "- Event A: The sum of the dice is greater than 8. (x + y > 8)\n",
    "- Event C: A number greater than 4 comes up on the green die. (x > 4)\n",
    "- Event A∩C: The sum of the dice is greater than 8 and the green die shows a number greater than 4. "
   ]
  },
  {
   "cell_type": "code",
   "execution_count": 11,
   "id": "31704e6e-b31f-4fd2-af83-e94cfb0b8cd6",
   "metadata": {},
   "outputs": [],
   "source": [
    "# Total number of possible outcomes\n",
    "total_outcomes <- 36\n",
    "\n",
    "# Define the event A\n",
    "event_a <- data.frame(\n",
    "  green_die = c(3, 4, 4, 5, 5, 5, 6, 6, 6, 6),\n",
    "  red_die = c(6, 5, 6, 4, 5, 6, 3, 4, 5, 6)\n",
    ")\n",
    "# Define the event B\n",
    "event_c <- data.frame(\n",
    "  green_die = c(rep(5, 6), rep(6, 6)),\n",
    "  red_die = c(1:6, 1:6)\n",
    ") \n",
    "\n",
    "# Define the event A ∩ C\n",
    "event_a_and_c <- data.frame(\n",
    "  green_die = c(5, 5, 5, 6, 6, 6, 6),\n",
    "  red_die = c(4, 5, 6, 3, 4, 5, 6)\n",
    ")"
   ]
  },
  {
   "cell_type": "code",
   "execution_count": 12,
   "id": "582da5c9-f74d-45a2-971e-9c4ba7cc5e00",
   "metadata": {},
   "outputs": [
    {
     "name": "stdout",
     "output_type": "stream",
     "text": [
      "Probabilities:\n",
      "Event A -> 0.2777778 \n",
      "Event C ->  0.3333333 \n",
      "Event A & C ->  0.1944444 \n"
     ]
    }
   ],
   "source": [
    "# Probability of event A\n",
    "probability_a <- nrow(event_a) / total_outcomes\n",
    "cat(\"Probabilities:\\nEvent A ->\", probability_a, \"\\n\")\n",
    "\n",
    "# Probability of event C\n",
    "probability_c <- nrow(event_c) / total_outcomes\n",
    "cat(\"Event C -> \", probability_c, \"\\n\")\n",
    "\n",
    "# Probability of event A ∩ C\n",
    "probability_a_and_c <- nrow(event_a_and_c) / total_outcomes\n",
    "cat(\"Event A & C -> \", probability_a_and_c, \"\\n\")"
   ]
  },
  {
   "cell_type": "markdown",
   "id": "05b7b731-41f0-46e1-a1e3-94b306b27bad",
   "metadata": {
    "jp-MarkdownHeadingCollapsed": true
   },
   "source": [
    "## Problem 4 (Logical Errors in Probability)"
   ]
  },
  {
   "cell_type": "markdown",
   "id": "2138edd1-3934-409e-b595-1949aaf80325",
   "metadata": {},
   "source": [
    "2.49 ) Find the errors in each of the following statements: \n",
    "> - (a) The probabilities that an automobile salesperson will sell 0, 1, 2, or 3 cars on any given day in February are, respectively, 0.19, 0.38, 0.29, and 0.15.\n",
    "> - (b) The probability that it will rain tomorrow is 0.40, and the probability that it will not rain tomorrow is 0.52.\n",
    "> - (c) The probabilities that a printer will make 0, 1, 2, 3, or 4 or more mistakes in setting a document are, respectively, 0.19,0.34,−0.25,0.43, and 0.29.\n",
    "> - (d) On a single draw from a deck of playing cards, the probability of selecting a heart is 1/4, the probability of selecting a black card is 1/2, and the probability of selecting both a heart and a black card is 1/8.\n"
   ]
  },
  {
   "cell_type": "markdown",
   "id": "3b4afab3-184e-4c16-9b59-8789258ddc48",
   "metadata": {},
   "source": [
    "### Problem A\n",
    "- P(0) = 0.19\n",
    "- P(1) = 0.38\n",
    "- P(2) = 0.29\n",
    "- P(3) = 0.15\n",
    "\n",
    "To be a valid probability distribution, the sum of all probabilities must equal 1.\n",
    "\n",
    "Error: The sum of the probabilities is 1.01, which is greater than 1."
   ]
  },
  {
   "cell_type": "code",
   "execution_count": 13,
   "id": "f07ca04f-e584-42d0-aa91-812371c02d87",
   "metadata": {},
   "outputs": [
    {
     "name": "stdout",
     "output_type": "stream",
     "text": [
      "[1] 1.01\n"
     ]
    }
   ],
   "source": [
    "total = 0.19 + 0.38 + .29 + .15\n",
    "\n",
    "print(total)"
   ]
  },
  {
   "cell_type": "markdown",
   "id": "3b52ee8f-c89e-43dd-9417-d9bd98c5faf0",
   "metadata": {},
   "source": [
    "### Problem B\n",
    "For complementary events (rain and no rain), the sum of the probabilities must be 1.\n",
    "\n",
    "0.40 + 0.52 = 0.92\n",
    "\n",
    "Error: The sum of the probabilities is 0.92, which is less than 1."
   ]
  },
  {
   "cell_type": "markdown",
   "id": "e0878e62-f54e-4e21-bb13-5853d1c7eedc",
   "metadata": {},
   "source": [
    "### Problem 3\n",
    "- P(0) = 0.19\n",
    "- P(1) = 0.34\n",
    "- P(2) = -0.25\n",
    "- P(3) = 0.43\n",
    "- P(4) = 0.29\n",
    "\n",
    "Error: Probabilities must be non-negative. Here,\n",
    "\n",
    "P(2)=−0.25 is negative, which is not possible."
   ]
  },
  {
   "cell_type": "markdown",
   "id": "74bc4f9b-1b83-4964-b258-e69a1b4c6d57",
   "metadata": {},
   "source": [
    "### Problem 4\n",
    "- P(heart) = 1/4\n",
    "- P(black_card) = 1/2\n",
    "- P(heart & black_card) = 1/8\n",
    "\n",
    "Error: Hearts and black cards are mutually exclusive events. A card cannot be both a heart and a black card at the same time, so P(heart and black card) must be 0."
   ]
  },
  {
   "cell_type": "markdown",
   "id": "2c53cfcc-bcdd-4144-b07d-d99597a8b6dc",
   "metadata": {},
   "source": [
    "# Culmination of Introduction of Statisical Inference and Probability\n",
    "> This includes permutations and combinations\n",
    ">\n",
    "> Histograms of Relative Frequency"
   ]
  },
  {
   "cell_type": "markdown",
   "id": "13b0b79d-2353-4c59-967d-b5eddd137d2a",
   "metadata": {
    "jp-MarkdownHeadingCollapsed": true
   },
   "source": [
    "## Problem 1 (Sample Space, Coin Toss Probability)"
   ]
  },
  {
   "cell_type": "markdown",
   "id": "588f37a7-2913-4d95-9193-2d32cf93e179",
   "metadata": {},
   "source": [
    "1) A coin is tossed 4 times. We use H to denote heads and T to denote tails. For instance, HTHH means we got the sequence heads, tails, heads, heads."
   ]
  },
  {
   "cell_type": "markdown",
   "id": "ce0953ac-0bea-49ed-8771-22301a45a0c6",
   "metadata": {},
   "source": [
    "### Problem A:\n",
    "Write down the elements of the sample space.  Hint: Using a tree diagram can be helpful.\n",
    "- 4 events (\"tosses\")\n",
    "- 2 options (H & T)\n",
    "\n",
    "So, Sample Space = 2^(4) = 16\n",
    "\n",
    "sample_space = {HHHH, HHHT, HHTH, HHTT, HTHH, HTHT, HTTH, HTTT, THHH, THHT, THTH, THTT, TTHH, TTHT, TTTH, TTTT}"
   ]
  },
  {
   "cell_type": "markdown",
   "id": "de729baa-2b42-46e3-94c0-9e8e95f8e0b1",
   "metadata": {},
   "source": [
    "### Problem B:\n",
    "List the outcomes included in each of the following events. Also compute the probabilities for each event. Assume that the coin is fair.\n",
    "- Event A: Number of times the coin came up heads is 2.\n",
    "- Event B: Number of times the coin came up heads is 1.\n",
    "- Event C: The first two tosses came up tails.\n",
    "- Event D: Number of times the coin came up heads is greater than 1.\n"
   ]
  },
  {
   "cell_type": "code",
   "execution_count": 14,
   "id": "8e4b3754-e068-4129-9a8e-ac59a60667c7",
   "metadata": {},
   "outputs": [
    {
     "name": "stdout",
     "output_type": "stream",
     "text": [
      "Event A outcomes: HHTT HTHT HTTH THHT THTH TTHH \n",
      "Event A probability: 0.375 \n",
      "\n",
      "Event B outcomes: HTTT THTT TTHT TTTH \n",
      "Event B probability: 0.25 \n",
      "\n",
      "Event C outcomes: TTHH TTHT TTTH TTTT \n",
      "Event C probability: 0.25 \n",
      "\n",
      "Event D outcomes: HHHH HHHT HHTH HHTT HTHH HTHT HTTH THHH THHT THTH TTHH \n",
      "Event D probability: 0.6875 \n"
     ]
    }
   ],
   "source": [
    "# Define the sample space\n",
    "sample_space <- c(\"HHHH\", \"HHHT\", \"HHTH\", \"HHTT\", \"HTHH\", \"HTHT\", \"HTTH\", \"HTTT\", \n",
    "                  \"THHH\", \"THHT\", \"THTH\", \"THTT\", \"TTHH\", \"TTHT\", \"TTTH\", \"TTTT\")\n",
    "\n",
    "# Event A: Number of times the coin came up heads is 2\n",
    "event_A <- sample_space[sapply(sample_space, function(x) sum(strsplit(x, \"\")[[1]] == \"H\") == 2)]\n",
    "\n",
    "# Event B: Number of times the coin came up heads is 1\n",
    "event_B <- sample_space[sapply(sample_space, function(x) sum(strsplit(x, \"\")[[1]] == \"H\") == 1)]\n",
    "\n",
    "# Event C: The first two tosses came up tails\n",
    "event_C <- sample_space[substr(sample_space, 1, 2) == \"TT\"]\n",
    "\n",
    "# Event D: Number of times the coin came up heads is greater than 1\n",
    "event_D <- sample_space[sapply(sample_space, function(x) sum(strsplit(x, \"\")[[1]] == \"H\") > 1)]\n",
    "\n",
    "# Print outcomes and probabilities for each event\n",
    "cat(\"Event A outcomes:\", event_A, \"\\n\")\n",
    "cat(\"Event A probability:\", length(event_A) / length(sample_space), \"\\n\\n\")\n",
    "\n",
    "cat(\"Event B outcomes:\", event_B, \"\\n\")\n",
    "cat(\"Event B probability:\", length(event_B) / length(sample_space), \"\\n\\n\")\n",
    "\n",
    "cat(\"Event C outcomes:\", event_C, \"\\n\")\n",
    "cat(\"Event C probability:\", length(event_C) / length(sample_space), \"\\n\\n\")\n",
    "\n",
    "cat(\"Event D outcomes:\", event_D, \"\\n\")\n",
    "cat(\"Event D probability:\", length(event_D) / length(sample_space), \"\\n\")\n"
   ]
  },
  {
   "cell_type": "markdown",
   "id": "717b510a-0e36-4fe0-97ab-a9dc064b78d5",
   "metadata": {},
   "source": [
    "### Problem C: \n",
    "- Are the events A and B mutually exclusive? Yes, mutually exclusive\n",
    "- Are the events B and C mutually exclusive? No (TTTH is same)\n",
    "- Are the events C and D mutually exclusive? No (TTHH is same)\n"
   ]
  },
  {
   "cell_type": "markdown",
   "id": "e49d893e-e3a6-4c7e-8c5d-19bf6e328652",
   "metadata": {},
   "source": [
    "### Problem D: \n",
    "Probability of A union D. \n",
    "- P(A) = 6/16 = 0.375\n",
    "- P(D) = 11/16 = 0.6875\n",
    "- P(A intersect D) = 6/16 = 0.375 ... {HHHT, HHTH, HTHH, HHTT, HTHT, HTTH}\n",
    "- P(A union D) = P(A) + P(D) - P(A intersect D)= 0.375 + 0.6875 - 0.375 = 0.6875"
   ]
  },
  {
   "cell_type": "markdown",
   "id": "8dd95d7e-c7c1-4bd8-9364-e7610ba302e1",
   "metadata": {},
   "source": [
    "### Problem E:\n",
    "Probability of C intersect D.\n",
    "- P(C) = 4/16 = 0.25\n",
    "- P(D) = 11/16 = 0.6875\n",
    "- P (C intersect D) = 3/16 = 0.1875 ... {TTTH, TTHT, TTHH}"
   ]
  },
  {
   "cell_type": "markdown",
   "id": "ef7134fb-993c-49c0-b315-031412756098",
   "metadata": {
    "jp-MarkdownHeadingCollapsed": true
   },
   "source": [
    "## Problem 2 (Union, Intersection, and Complements)"
   ]
  },
  {
   "cell_type": "markdown",
   "id": "8df2c9be-f0a7-419c-9e25-63bba51051fd",
   "metadata": {},
   "source": [
    "Suppose that A and B are two events. Write expressions involving unions, intersections, and complements that describe the following: \n",
    "- a) Both events occur.\n",
    "  > A ∩ B ; intersection of events A & B\n",
    "- b) At least one occurs.\n",
    "  > A ∪ B ; union of events A & B\n",
    "- c) Neither occurs.\n",
    "  > (A ∪ B)^c ; complement of the union of events A & B\n",
    "- d) Exactly one occurs.\n",
    "  > (A ∩ B^c) ∪ (B ∩ A^c) ;\n",
    "  > union of the events where A occurs and B does not, and where B occurs and A does not. Symmetric difference between A & B. "
   ]
  },
  {
   "cell_type": "markdown",
   "id": "c8fce578-f476-4c85-b5bd-c57d620b6e83",
   "metadata": {
    "jp-MarkdownHeadingCollapsed": true
   },
   "source": [
    "## Problem 3  (Denote Set of all possible pairs)"
   ]
  },
  {
   "cell_type": "markdown",
   "id": "b5f82ff6-232a-4a3e-870d-659f711f7424",
   "metadata": {},
   "source": [
    "Suppose two dice are tossed and the numbers on the upper faces are observed. Let S denote the set of all possible pairs that can be observed. [These pairs can be listed, for example, by letting (2, 3) denote that a 2 was observed on the first die and a 3 on the second.] \n",
    "\n",
    "> 2 dice\n",
    "> \n",
    "> 6 faces on each die\n",
    "> \n",
    "> 6^2 = 36 possible outcomes\n",
    ">\n",
    "> Set S is S={(i,j)| 1≤i≤6, 1≤j≤6}\n",
    "\n",
    "- a) Define the following subsets of S: \n",
    "> A: The number on the second die is even.\n",
    "> > A={(i,j)| 1≤i≤6, j ∈ {2,4,6} }\n",
    "> >\n",
    "> > A={(1,2),(1,4),(1,6),(2,2),(2,4),(2,6),(3,2),(3,4),(3,6),(4,2),(4,4),(4,6),(5,2),(5,4),(5,6),(6,2),(6,4),(6,6)}\n",
    "> > \n",
    "> B: The sum of the two numbers is even.\n",
    "> > B={(i,j)| (i and j are both even) or (i and j are both odd) }\n",
    "> >\n",
    "> > B={(1,1),(1,3),(1,5),(2,2),(2,4),(2,6),(3,1),(3,3),(3,5),(4,2),(4,4),(4,6),(5,1),(5,3),(5,5),(6,2),(6,4),(6,6)}\n",
    "> >\n",
    "> C: At least one number in the pair is odd.\n",
    "> >\n",
    "> > C={(i,j)∣i is odd or j is odd}\n",
    "> >\n",
    "> > C={(1,1),(1,2),(1,3),(1,4),(1,5),(1,6),(2,1),(2,3),(2,5),(3,1),(3,2),(3,3),(3,4),(3,5),(3,6),(4,1),(4,3),(4,5),(5,1),(5,2),(5,3),(5,4),(5,5),(5,6),(6,1),(6,3),(6,5)}\n",
    "> > \n",
    "- b) List the points in A, C, A intersect C, A intersect B, and A union C.\n",
    "> A={(1,2),(1,4),(1,6),(2,2),(2,4),(2,6),(3,2),(3,4),(3,6),(4,2),(4,4),(4,6),(5,2),(5,4),(5,6),(6,2),(6,4),(6,6)}\n",
    ">\n",
    "> C={(1,1),(1,2),(1,3),(1,4),(1,5),(1,6),(2,1),(2,3),(2,5),(3,1),(3,2),(3,3),(3,4),(3,5),(3,6),(4,1),(4,3),(4,5),(5,1),(5,2),(5,3),(5,4),(5,5),(5,6),(6,1),(6,3),(6,5)}\n",
    ">\n",
    "> A intersect C = {(1,2),(1,4),(1,6),(3,2),(3,4),(3,6),(5,2),(5,4),(5,6)}\n",
    ">\n",
    "> A intersect B = {(2,2),(2,4),(2,6),(4,2),(4,4),(4,6),(6,2),(6,4),(6,6)}\n",
    ">\n",
    "> A union C = {(1,1),(1,2),(1,3),(1,4),(1,5),(1,6),(2,1),(2,2),(2,3),(2,4),(2,5),(2,6),(3,1),(3,2),(3,3),(3,4),(3,5),(3,6),(4,1),(4,2),(4,3),(4,4),(4,5),(4,6),(5,1),(5,2),(5,3),(5,4),(5,5),(5,6),(6,1),(6,2),(6,3),(6,4),(6,5),(6,6)}\n"
   ]
  },
  {
   "cell_type": "markdown",
   "id": "61e8e114-b382-4731-b394-de0173649b64",
   "metadata": {
    "jp-MarkdownHeadingCollapsed": true
   },
   "source": [
    "## Problem 4 (Possible Outcomes of Multiple Options)"
   ]
  },
  {
   "cell_type": "markdown",
   "id": "9abd91b9-8198-4097-8d64-b41d1905ab72",
   "metadata": {},
   "source": [
    "An upscale restaurant offers a special fixe prix (assume: fixed price) menu in which, for a fixed dinner cost, a diner can select from four appetizers, three salads, four entrees, and five desserts. How many different dinners are available if a dinner consists of one appetizer, one salad, one entree, and one dessert?"
   ]
  },
  {
   "cell_type": "code",
   "execution_count": 15,
   "id": "9b5bd4e5-9710-4f35-8764-dd77e1f23e41",
   "metadata": {},
   "outputs": [
    {
     "data": {
      "text/html": [
       "240"
      ],
      "text/latex": [
       "240"
      ],
      "text/markdown": [
       "240"
      ],
      "text/plain": [
       "[1] 240"
      ]
     },
     "metadata": {},
     "output_type": "display_data"
    }
   ],
   "source": [
    "appetizers <- 4\n",
    "salads <- 3\n",
    "entrees <- 4 \n",
    "desserts <- 5\n",
    "\n",
    "total_number_dinners <- appetizers*salads*entrees*desserts\n",
    "total_number_dinners"
   ]
  },
  {
   "cell_type": "markdown",
   "id": "633b9fba-6dc3-4fb9-b91a-82e9195622b5",
   "metadata": {
    "jp-MarkdownHeadingCollapsed": true
   },
   "source": [
    "## Problem 5 (Venn Diagram, Sample Space, Event Probability)"
   ]
  },
  {
   "cell_type": "markdown",
   "id": "546e82b4-9a84-4df7-9619-5d6a5e4a6554",
   "metadata": {},
   "source": [
    "The accompanying Venn diagram describes the sample space of a particular experiment and events A and B. Suppose P(1) = P(2) = P(3) = P(4) =1/16 and P(5) = P(6) = P(7) = P(8) = P(9) = P(10) =1/8. Find P(A) and P(B). Show work."
   ]
  },
  {
   "attachments": {
    "3aba88db-b2b0-4956-b5b2-717d53aad869.png": {
     "image/png": "[encoded data removed]"
    },
    "7897ab48-5c15-4c90-bd43-c7063612f180.png": {
     "image/png": "[encoded data removed]"
    }
   },
   "cell_type": "markdown",
   "id": "f80dfed0-f031-4d91-9410-ae9de90501a3",
   "metadata": {},
   "source": [
    "![image.png](attachment:3aba88db-b2b0-4956-b5b2-717d53aad869.png)![image.png](attachment:7897ab48-5c15-4c90-bd43-c7063612f180.png)"
   ]
  },
  {
   "cell_type": "code",
   "execution_count": 16,
   "id": "dffb8987-a6d7-458c-b2d6-e986355e0f03",
   "metadata": {},
   "outputs": [
    {
     "name": "stdout",
     "output_type": "stream",
     "text": [
      "P(A) =  0.3125 \n",
      "P(B) =  0.5 \n"
     ]
    }
   ],
   "source": [
    "# Event A = 4, 5, 6\n",
    "# P(A) = P(4) + P(5) + P(6)\n",
    "P_4 <- 1/16\n",
    "P_5 <- 1/8\n",
    "P_6 <- 1/8\n",
    "P_A <- P_4 + P_5 + P_6 # = 5/16\n",
    "cat(\"P(A) = \", P_A, \"\\n\")\n",
    "\n",
    "# Event B = 5, 6, 7, 8 \n",
    "# P(B) = P(5) + P(6) + P(7) + P(8)\n",
    "P_5 <- 1/8\n",
    "P_6 <- 1/8\n",
    "P_7 <- 1/8\n",
    "P_8 <- 1/8\n",
    "P_B <- P_5 + P_6 + P_7 + P_8 # = 1/2\n",
    "cat(\"P(B) = \", P_B, \"\\n\")"
   ]
  },
  {
   "cell_type": "markdown",
   "id": "6d4fec3d-3ff7-4ae7-b7b3-e6f3fbcd0835",
   "metadata": {
    "jp-MarkdownHeadingCollapsed": true
   },
   "source": [
    "## Problem 6 (Combinations For Workers)"
   ]
  },
  {
   "cell_type": "markdown",
   "id": "f76391e2-675f-4a47-9262-74563e650d04",
   "metadata": {},
   "source": [
    "A personnel director for a corporation has hired ten new engineers. If three (distinctly different meaning each position has different job description) positions are open at a Cleveland plant, in how many ways can she fill the positions?"
   ]
  },
  {
   "cell_type": "code",
   "execution_count": 17,
   "id": "9bbf734c-eb73-431c-9fa6-7cf1fceb036c",
   "metadata": {},
   "outputs": [
    {
     "name": "stdout",
     "output_type": "stream",
     "text": [
      "Possible combinations of Engineers for each position:  720"
     ]
    }
   ],
   "source": [
    "n <- 10 # new_engineers\n",
    "r <- 3 # new_positions\n",
    "\n",
    "# Identify permutation, specified order matters because engineers fill distinct positions\n",
    "permutation <- factorial(n) / factorial(n-r)\n",
    "cat(\"Possible combinations of Engineers for each position: \", permutation)"
   ]
  },
  {
   "cell_type": "markdown",
   "id": "6163338b-b34d-431f-bbad-93b7e76c75be",
   "metadata": {
    "jp-MarkdownHeadingCollapsed": true
   },
   "source": [
    "## Problem 7 (Combinations of Deck of Cards) "
   ]
  },
  {
   "cell_type": "markdown",
   "id": "334f182f-3b04-4356-8b67-6dc14649e7f2",
   "metadata": {},
   "source": [
    "Five cards are dealt from a standard 52-card deck. What is the probability that we draw\n",
    "- (a) 3 aces and 2 kings?\n",
    "- (b) a “full house” (3 cards of one kind, 2 cards of another kind)?\n",
    "\n",
    "Note: There are 13 kinds in a deck of cards: aces, twos, threes, tens, jacks queens, and kinds, and four of each in a deck of 52 cards."
   ]
  },
  {
   "cell_type": "code",
   "execution_count": 13,
   "id": "a2cb1d4a-abd2-4bef-82c6-95246afca75b",
   "metadata": {},
   "outputs": [
    {
     "name": "stdout",
     "output_type": "stream",
     "text": [
      "5 of 52 cards =  2598960 \n",
      "3 aces out of 4 =  4 \n",
      "2 kings out 4 =  6 \n",
      "P(3 aces & 2 kings) =  24 / 2598960"
     ]
    }
   ],
   "source": [
    "# 52 cards\n",
    "# Probability of drawing 3 aces and 2 kings\n",
    "# Combination(52, 5) = 5 cards from 52 cards\n",
    "# Combination(4, 3) = 3 aces out of 4\n",
    "# Combination(4, 2) = 2 kings out 4\n",
    "\n",
    "C_five_cards <- choose(52, 5)\n",
    "C_ace <- choose(4, 3)\n",
    "C_king <- choose(4, 2)\n",
    "\n",
    "cat(\"5 of 52 cards = \", C_five_cards, \"\\n\")\n",
    "cat(\"3 aces out of 4 = \", C_ace, \"\\n\")\n",
    "cat(\"2 kings out 4 = \", C_king, \"\\n\")\n",
    "cat(\"P(3 aces & 2 kings) = \", (C_ace * C_king), \"/\", (C_five_cards)) # 3 aces & 2 kings (52 card deck)"
   ]
  },
  {
   "cell_type": "markdown",
   "id": "af90b97d-fc4e-446c-b6fd-b7c6842920fc",
   "metadata": {},
   "source": [
    "P(3 aces & 2 kings) = 1 / 108290 = 0.00000924"
   ]
  },
  {
   "cell_type": "code",
   "execution_count": 1,
   "id": "fd43b138-4a08-4903-9a44-34719753263b",
   "metadata": {},
   "outputs": [],
   "source": [
    "# Probability of drawing a \"full house\" (3 cards of one kind, 2 cards of another kind)\n",
    "# rank for the three of a kind\n",
    "# 3 cards out of 4 of the chosen rank\n",
    "# Number of ways to choose the rank for the pair (different from the rank chosen for the three of a kind)\n",
    "# 2 cards out of 4 of the chosen rank\n",
    "# probability of full house"
   ]
  },
  {
   "cell_type": "code",
   "execution_count": 10,
   "id": "5e63fb68-8ffe-4fd3-94df-5c7d9e7a3789",
   "metadata": {},
   "outputs": [
    {
     "name": "stdout",
     "output_type": "stream",
     "text": [
      "Probability of drawing a full house:  3744  /  2598960"
     ]
    }
   ],
   "source": [
    "# Choose 5 cards out of the deck\n",
    "C_five_cards <- choose(52, 5)\n",
    "# 13 possible ranks (3 aces, 3 kings, etc.)\n",
    "C_3_rank <- choose(13, 1)\n",
    "# 3 cards out of 4 of that rank\n",
    "C_3_one_of_a_kind <- choose(4,3)\n",
    "# rank for the 2 cards (different from the first rank)\n",
    "C_first_rank <- choose(12, 1)\n",
    "# 2 cards out of 4 of that second rank\n",
    "C_second_rank <- choose(4, 2)\n",
    "# favorable outcomes for a full house\n",
    "favorable_fullhouse <- C_3_rank*C_3_one_of_a_kind*C_first_rank*C_second_rank\n",
    "\n",
    "cat(\"Probability of drawing a full house: \", favorable_fullhouse, \" / \", C_five_cards)"
   ]
  },
  {
   "cell_type": "markdown",
   "id": "9dd3b8fc-3db4-4bfa-ae1a-838d49a2219b",
   "metadata": {},
   "source": [
    "Probability of drawing a full house: 6 / 4165 = 0.001440576 = .1440576%|"
   ]
  },
  {
   "cell_type": "markdown",
   "id": "f45949ce-f110-49ee-b334-e4df0d4a167d",
   "metadata": {
    "jp-MarkdownHeadingCollapsed": true
   },
   "source": [
    "## Problem 8 (Combinatorics and Probability)"
   ]
  },
  {
   "cell_type": "markdown",
   "id": "d4922903-ca07-4f6a-9582-f56376b04301",
   "metadata": {},
   "source": [
    "There is a deck of 25 cards numbered 1 through 25. You draw 5 cards without replacement (you don't put the cards you draw back in the deck), and lay them on the table from left to right in the order they are drawn.\n",
    "- (a) How many possible outcomes are there?\n",
    "- (b) What is the probability that the leftmost card will be 10 and the rightmost card will be number 17?\n",
    "- (c) What is the probability that the cards 10 and 17 will be on the table?\n"
   ]
  },
  {
   "cell_type": "code",
   "execution_count": 24,
   "id": "ecacc5c6-5936-4c05-94e3-25bbe74ed0f3",
   "metadata": {},
   "outputs": [
    {
     "name": "stdout",
     "output_type": "stream",
     "text": [
      "Total amount of possibilities:  6375600"
     ]
    }
   ],
   "source": [
    "# drawing 5 cards from a deck of 25 without replacement \n",
    "deck_total <- 25\n",
    "card_draw <- 5\n",
    "total_outcomes <- choose(deck_total, card_draw) * factorial(card_draw)\n",
    "cat(\"Total amount of possibilities: \", total_outcomes)"
   ]
  },
  {
   "cell_type": "code",
   "execution_count": 3,
   "id": "d30cdbd6-80b9-4ca4-a12c-bf4e71e3b6cf",
   "metadata": {},
   "outputs": [
    {
     "data": {
      "text/html": [
       "0.00166666666666667"
      ],
      "text/latex": [
       "0.00166666666666667"
      ],
      "text/markdown": [
       "0.00166666666666667"
      ],
      "text/plain": [
       "[1] 0.001666667"
      ]
     },
     "metadata": {},
     "output_type": "display_data"
    }
   ],
   "source": [
    "total_outcomes <- choose(25, 5)* factorial(5) # permutation needed\n",
    "#  3 cards from 23\n",
    "# arrange the remaining 3 cards from the remaining 23 cards (since 10 and 17 are already chosen)\n",
    "# Calculate the number of favorable outcomes for part (b)\n",
    "favorable_outcomes_b <- choose(23, 3) * factorial(3) # permutation needed\n",
    "# Calculate the probability for part (b)\n",
    "probability_b <- favorable_outcomes_b / total_outcomes\n",
    "probability_b"
   ]
  },
  {
   "cell_type": "markdown",
   "id": "382160b9-c6ed-4c54-b38d-155e51b143b7",
   "metadata": {},
   "source": [
    "P(leftmost 10, rightmost 17) = 0.00166666666666667"
   ]
  },
  {
   "cell_type": "code",
   "execution_count": 33,
   "id": "a84b553e-694f-4f98-b2f7-ccf22a067796",
   "metadata": {},
   "outputs": [
    {
     "data": {
      "text/html": [
       "0.0333333333333333"
      ],
      "text/latex": [
       "0.0333333333333333"
      ],
      "text/markdown": [
       "0.0333333333333333"
      ],
      "text/plain": [
       "[1] 0.03333333"
      ]
     },
     "metadata": {},
     "output_type": "display_data"
    },
    {
     "data": {
      "text/html": [
       "1771"
      ],
      "text/latex": [
       "1771"
      ],
      "text/markdown": [
       "1771"
      ],
      "text/plain": [
       "[1] 1771"
      ]
     },
     "metadata": {},
     "output_type": "display_data"
    },
    {
     "data": {
      "text/html": [
       "53130"
      ],
      "text/latex": [
       "53130"
      ],
      "text/markdown": [
       "53130"
      ],
      "text/plain": [
       "[1] 53130"
      ]
     },
     "metadata": {},
     "output_type": "display_data"
    }
   ],
   "source": [
    "# positions for 10 and 17 out of the 5 positions\n",
    "favorable_outcomes <- choose(23,3)\n",
    "total_outcomes <- choose(25, 5)\n",
    "probability_c <- (favorable_outcomes) / (total_outcomes)\n",
    "probability_c"
   ]
  },
  {
   "cell_type": "markdown",
   "id": "4ea56276-05e8-4ace-9dda-04dd1de52a2b",
   "metadata": {},
   "source": [
    "P(cards 10 and 17 on table) = 3.3333 %"
   ]
  },
  {
   "cell_type": "markdown",
   "id": "2e402152-7a93-4495-91a9-498fe7ae5321",
   "metadata": {
    "jp-MarkdownHeadingCollapsed": true
   },
   "source": [
    "## Problem 9 (Space Space Outcomes)"
   ]
  },
  {
   "cell_type": "markdown",
   "id": "fe555fd1-ddb1-47f9-a0fe-64d3f424914a",
   "metadata": {},
   "source": [
    "Find the number of outcomes in the sample space in each of the following cases. \n",
    "- (a) A drug for asthma is manufactured by 3 different companies in liquid, tablet and capsule form, all of which come in regular or extra strength versions. How many different varieties of drug are available for an asthma patient?\n",
    "- (b) In how many different ways can a 5 question multiple choice exam with 4 choices for each of the questions be answered?\n",
    "- (c) 10 people have bought 10 seats in the same row for a concert. In how many ways can they be seated?\n",
    "\n",
    "- (d) 5 couples have bought 10 seats in the same row for a concert. If each couple is to sit together, in how many ways can they be seated?"
   ]
  },
  {
   "cell_type": "code",
   "execution_count": 37,
   "id": "5ca84aa4-7ac4-4638-abd6-abec233dae4b",
   "metadata": {},
   "outputs": [
    {
     "name": "stdout",
     "output_type": "stream",
     "text": [
      "Varieties of drugs available for an asthma patient:  18"
     ]
    }
   ],
   "source": [
    "# Number of companies = 3\n",
    "# Forms (liquid, tablet, capsule) = 3\n",
    "# Strength versions (regular, extra) = 2\n",
    "total_varieties <- 3*3*2 \n",
    "cat(\"Varieties of drugs available for an asthma patient: \", total_varieties)"
   ]
  },
  {
   "cell_type": "code",
   "execution_count": 40,
   "id": "db04d742-3c77-428a-858b-ba034baef5b5",
   "metadata": {},
   "outputs": [
    {
     "name": "stdout",
     "output_type": "stream",
     "text": [
      "Number of ways :  1024"
     ]
    }
   ],
   "source": [
    "#  5-question multiple choice exam with 4 choices for each question\n",
    "choices <- 4\n",
    "number_of_questions <- 5\n",
    "number_of_ways <- choices**number_of_questions\n",
    "cat(\"Number of ways : \", number_of_ways)"
   ]
  },
  {
   "cell_type": "code",
   "execution_count": 44,
   "id": "5c7dcc35-e090-4656-be51-1a26f9b3670e",
   "metadata": {},
   "outputs": [
    {
     "name": "stdout",
     "output_type": "stream",
     "text": [
      "Number of ways 10 poeple can arrange at a concert:  3628800"
     ]
    }
   ],
   "source": [
    "# 10 people have bought 10 seats in the same row for a concert.\n",
    "people <- 10\n",
    "number_of_ways <- factorial(people)\n",
    "cat(\"Number of ways 10 people can arrange at a concert: \", number_of_ways)"
   ]
  },
  {
   "cell_type": "code",
   "execution_count": 52,
   "id": "137d4303-f68f-422c-9a42-e7564599c963",
   "metadata": {},
   "outputs": [
    {
     "name": "stdout",
     "output_type": "stream",
     "text": [
      "Number of ways 5 couples to be seated together at a concert:  3840"
     ]
    }
   ],
   "source": [
    "# 5 couples have bought 10 seats in the same row for a concert. \n",
    "couple_num <- 2\n",
    "# arranged 5 couples \n",
    "couples_arranged <- couple_num**5\n",
    "# number of ways to arrange 5 blocks in 10 seats\n",
    "number_of_ways <- factorial(5) * couples_arranged\n",
    "cat(\"Number of ways 5 couples to be seated together at a concert: \", number_of_ways)"
   ]
  },
  {
   "cell_type": "markdown",
   "id": "ec7df5ee-23fb-4b30-8064-8afcadd39fcf",
   "metadata": {
    "jp-MarkdownHeadingCollapsed": true
   },
   "source": [
    "## Problem 10 (Relative Frequency Histogram, Mean, Variance, Standard Deviation)\n",
    "The following are historical data on staff salaries (dollars per pupil) for 16 schools sampled in the eastern part of the United States in the early 1980s. Show work."
   ]
  },
  {
   "cell_type": "markdown",
   "id": "8ae631f8-84e6-4a20-99a5-04e9cee00032",
   "metadata": {},
   "source": [
    "### Problem A: \n",
    "Compute the sample mean, sample variance, and sample standard deviation. "
   ]
  },
  {
   "cell_type": "code",
   "execution_count": 20,
   "id": "5481472c-aacd-4ba3-816a-1c8d5e3cd695",
   "metadata": {},
   "outputs": [],
   "source": [
    "# Input the data\n",
    "salaries <- c(3.79, 2.97, 2.77, 2.98, 3.10, 1.84, 3.52, 3.25,\n",
    "              2.45, 2.14, 2.67, 2.52, 3.41, 1.78, 3.57, 3.85)"
   ]
  },
  {
   "cell_type": "code",
   "execution_count": 21,
   "id": "3fa96e79-e042-436f-801a-d320b4096807",
   "metadata": {},
   "outputs": [],
   "source": [
    "mean_salary <- mean(salaries) # Calculate sample mean\n",
    "var_salary <- var(salaries) # Calculate sample variance\n",
    "sd_salary <- sd(salaries) # Calculate sample standard deviation"
   ]
  },
  {
   "cell_type": "code",
   "execution_count": 22,
   "id": "b42f3fe8-91e0-4906-955b-7a3cd3a66742",
   "metadata": {},
   "outputs": [
    {
     "name": "stdout",
     "output_type": "stream",
     "text": [
      "Mean:  2.913125 \n",
      "Variance:  0.4220896 \n",
      "Standard Deviation:  0.6496842"
     ]
    }
   ],
   "source": [
    "cat(\"Mean: \", mean_salary, \"\\n\")\n",
    "cat(\"Variance: \", var_salary, \"\\n\")\n",
    "cat(\"Standard Deviation: \", sd_salary)"
   ]
  },
  {
   "cell_type": "markdown",
   "id": "be4fc3e3-d2c8-4dcb-960c-560a5a35bc85",
   "metadata": {},
   "source": [
    "### Problem B:\n",
    "Construct a cumulative relative frequency histogram of the data."
   ]
  },
  {
   "cell_type": "code",
   "execution_count": 24,
   "id": "7026322f-b952-4542-82ed-b6f9dc751e5c",
   "metadata": {},
   "outputs": [
    {
     "name": "stderr",
     "output_type": "stream",
     "text": [
      "Warning message:\n",
      "\"\u001b[1m\u001b[22mUsing `size` aesthetic for lines was deprecated in ggplot2 3.4.0.\n",
      "\u001b[36mi\u001b[39m Please use `linewidth` instead.\"\n"
     ]
    },
    {
     "data": {
      "image/png": "[encoded data removed]",
      "text/plain": [
       "plot without title"
      ]
     },
     "metadata": {
      "image/png": {
       "height": 420,
       "width": 420
      }
     },
     "output_type": "display_data"
    }
   ],
   "source": [
    "# Load ggplot2 library\n",
    "library(ggplot2)\n",
    "\n",
    "# Create a data frame with cumulative relative frequencies\n",
    "df <- data.frame(Salary = salaries)\n",
    "df <- transform(df, Cumulative_Relative_Frequency = ecdf(salaries)(Salary))\n",
    "\n",
    "# Plot cumulative relative frequency histogram\n",
    "ggplot(df, aes(x = Salary, y = Cumulative_Relative_Frequency)) +\n",
    "  geom_histogram(aes(y = after_stat(density)), bins = 10, fill = \"lightblue\", color = \"black\") +\n",
    "  geom_step(color = \"blue\", size = 1) +\n",
    "  labs(title = \"Cumulative Relative Frequency Histogram\",\n",
    "       x = \"Salary (dollars per pupil)\",\n",
    "       y = \"Cumulative Relative Frequency\") +\n",
    "  theme_minimal()\n"
   ]
  },
  {
   "cell_type": "code",
   "execution_count": null,
   "id": "76315bbe-47ed-4065-a518-54905b7b7ccf",
   "metadata": {},
   "outputs": [],
   "source": []
  }
 ],
 "metadata": {
  "kernelspec": {
   "display_name": "R (r_stat)",
   "language": "R",
   "name": "ir_conda_env"
  },
  "language_info": {
   "codemirror_mode": "r",
   "file_extension": ".r",
   "mimetype": "text/x-r-source",
   "name": "R",
   "pygments_lexer": "r",
   "version": "4.1.3"
  }
 },
 "nbformat": 4,
 "nbformat_minor": 5
}
