{
 "cells": [
  {
   "cell_type": "markdown",
   "id": "23df175a-56ee-4c40-91c4-42a85d053fe2",
   "metadata": {},
   "source": [
    "# One-, Two- Sample Estimation of the Mean "
   ]
  },
  {
   "cell_type": "markdown",
   "id": "ba1e732c-ae74-4002-ae93-2ab77feb5cf4",
   "metadata": {},
   "source": [
    "## Estimation Problems"
   ]
  },
  {
   "cell_type": "markdown",
   "id": "bf8d6cb2-2fc0-4e78-a5f8-0896ec0e5e3d",
   "metadata": {},
   "source": [
    "### Problem 1\n",
    "\n",
    "9.10) A random sample of 12 graduates of a certain secretarial school typed an average of 79.3 words per minute with a standard deviation of 7.8 words per minute. Assuming a normal distribution for the number of words typed per minute, find a 95% confidence interval for the average number of words typed by all graduates of this school."
   ]
  },
  {
   "cell_type": "code",
   "execution_count": 30,
   "id": "5622f37a-2d0b-43c1-be1a-32b18c68564b",
   "metadata": {},
   "outputs": [
    {
     "name": "stdout",
     "output_type": "stream",
     "text": [
      "t-value:  2.200985 \n",
      "Margin of Error:  4.955884 \n",
      "95% Confidence Interval : [  74.34412  ,  84.25588  ]"
     ]
    }
   ],
   "source": [
    "n <- 12 # n = \"size\" = graduate_students\n",
    "dof<- (n - 1) # degrees of freedom\n",
    "sample_mean <- 79.3 # words per minute, \"x bar\"\n",
    "s <- 7.8 # sample standard deviation \"sigma\" = \"S\"\n",
    "confidence_level <- .95 #95% confidence level interval\n",
    "\n",
    "# Set the confidence level\n",
    "alpha <- (1 - confidence_level)\n",
    "\n",
    "# Calculate the critical t-value\n",
    "t_value <- qt(1 - alpha/2, dof)\n",
    "cat(\"t-value: \", t_value, \"\\n\")\n",
    "\n",
    "# Calculate Margin of Error with the formula for the confidence interval\n",
    "margin_of_error <- t_value * (s / sqrt(n))\n",
    "cat(\"Margin of Error: \", margin_of_error, \"\\n\")\n",
    "cat(\"95% Confidence Interval : [ \", sample_mean - margin_of_error, \" , \", sample_mean + margin_of_error , \" ]\")"
   ]
  },
  {
   "cell_type": "markdown",
   "id": "2e2e83af-68a4-4064-ac5e-15b39c626876",
   "metadata": {},
   "source": [
    "### Problem 2\n",
    "\n",
    "9.13) A random sample of 12 shearing pins is taken in a study of the Rockwell hardness of the pin head. Measurements on the Rockwell hardness are made for each of the 12, yielding an average value of 48.50 with a sample standard deviation of 1.5. Assuming the measurements to be normally distributed, construct a 90% confidence interval for the mean Rockwell hardness."
   ]
  },
  {
   "cell_type": "code",
   "execution_count": 8,
   "id": "c6f79a34-0ce2-4a5d-af99-f992a3d14d63",
   "metadata": {},
   "outputs": [
    {
     "name": "stdout",
     "output_type": "stream",
     "text": [
      "t-value:  1.795885 \n",
      "Margin of Error:  0.7776409 \n",
      "90% Confidence Interval : [  47.72236  ,  49.27764  ]"
     ]
    }
   ],
   "source": [
    "n <- 12 # random sample of shearing pins\n",
    "dof<- (n - 1) # degrees of freedom\n",
    "sample_mean <- 48.50 # average value\n",
    "s <- 1.5 # sample standard deviation \"sigma\" = \"S\"\n",
    "confidence_level <- .90 #90% confidence level interval\n",
    "\n",
    "# Set the confidence level\n",
    "alpha <- (1 - confidence_level)\n",
    "\n",
    "# Calculate the critical t-value\n",
    "t_value <- qt(1 - alpha/2, dof)\n",
    "cat(\"t-value: \", t_value, \"\\n\")\n",
    "\n",
    "# Calculate Margin of Error with the formula for the confidence interval\n",
    "margin_of_error <- t_value * (s / sqrt(n))\n",
    "cat(\"Margin of Error: \", margin_of_error, \"\\n\")\n",
    "cat(\"90% Confidence Interval : [ \", sample_mean - margin_of_error, \" , \", sample_mean + margin_of_error , \" ]\")"
   ]
  },
  {
   "cell_type": "markdown",
   "id": "a8683675-d1f7-4e5c-af66-9fc1ba1bc58e",
   "metadata": {},
   "source": [
    "### Problem 3\n",
    "\n",
    "9.19) A random sample of 25 tablets of buffered aspirin contains, on average, 325.05 mg of aspirin per tablet, with a standard deviation of 0.5 mg. Find the 95% tolerance limits that will contain 90% of the tablet contents for this brand of buffered aspirin. Assume that the aspirin content is normally distributed."
   ]
  },
  {
   "cell_type": "code",
   "execution_count": 9,
   "id": "b650bb71-8c6c-4eeb-bacc-107243e3d0a9",
   "metadata": {
    "editable": true,
    "slideshow": {
     "slide_type": ""
    },
    "tags": []
   },
   "outputs": [
    {
     "name": "stdout",
     "output_type": "stream",
     "text": [
      "z_value:  1.281552 \n",
      "Chi-Squared value:  36.41503 \n"
     ]
    }
   ],
   "source": [
    "n <- 25 # random sample of tablets of buffered aspirin\n",
    "dof<- (n - 1) # degrees of freedom\n",
    "sample_mean <- 325.05 # average value, 325.05 mg of aspirin per tablet\n",
    "s <- 0.5 # sample standard deviation \"sigma\" = \"S\", of 0.5 mg \n",
    "lambda <- .95 #95% confidence level interval\n",
    "p <- .90 # Proportion of the population p = 0.90\n",
    "\n",
    "# Set the confidence level\n",
    "alpha <- (1 - lambda)\n",
    "# z-value corresponding to the cumulative probability p\n",
    "z_value <- qnorm(p)\n",
    "cat(\"z_value: \", z_value, \"\\n\")\n",
    "\n",
    "# chi-square value with n−1 degrees of freedom for the confidence level \"lambda\"\n",
    "chi_squared <-  qchisq(lambda, dof)\n",
    "cat(\"Chi-Squared value: \", chi_squared, \"\\n\")"
   ]
  },
  {
   "cell_type": "code",
   "execution_count": 10,
   "id": "4dc9be00-87fd-43cb-8c0a-fd70bcf4a4e7",
   "metadata": {},
   "outputs": [
    {
     "name": "stdout",
     "output_type": "stream",
     "text": [
      "95% Confidence Interval : [  324.5195  ,  325.5805  ]"
     ]
    }
   ],
   "source": [
    "# k = tolerance factor\n",
    "tolerance_level <- (z_value * sqrt(1 + (1/n))) / sqrt(chi_squared / dof)\n",
    "\n",
    "# calculate tolerance interval\n",
    "lower_bound <- sample_mean - (tolerance_level * s)\n",
    "upper_bound <- sample_mean + (tolerance_level * s)\n",
    "\n",
    "cat(\"95% Confidence Interval : [ \", lower_bound, \" , \", upper_bound , \" ]\")"
   ]
  },
  {
   "cell_type": "markdown",
   "id": "bdefe61c-c032-4032-a336-264f20c78d06",
   "metadata": {},
   "source": [
    "### Problem 4\n",
    "\n",
    "9.28) In Section 9.3, we emphasized the notion of “most efficient estimator” by comparing the variance of two unbiased estimators ˆ Θ sub 1 and ˆ Θ sub 2. However, this does not take into account bias in case one or both estimators are not unbiased. Consider the quantity \n",
    "\n",
    "> MSE=E(ˆ Θ−θ),\n",
    "\n",
    "where MSE denotes mean squared error. The MSE is often used to compare two estimators ˆ Θ1 and ˆ Θ2 of θ when either or both is unbiased because (i) it is intuitively reasonable and (ii) it accounts for bias. Show that MSE can be written\n",
    "\n",
    "> MSE=E[ˆ Θ−E(ˆ Θ)]^2 +[E(ˆ Θ−θ)]^2\n",
    ">\n",
    "> =Var(ˆ Θ) +[Bias(ˆ Θ)]^2\n"
   ]
  },
  {
   "cell_type": "markdown",
   "id": "25131109-3686-4492-9185-d14bb1a5629d",
   "metadata": {},
   "source": [
    "**Solution:**\n",
    "\n",
    "^Θ is referred to as \"big theta\"; Θ is referred to as \"theta\"; E is Expected Value\n",
    "\n",
    "Step 1: Definition of Mean Squared Error, <b>MSE(big theta) = E[(big theta - theta)^2]</b>\n",
    "\n",
    "Step 2: Introduced expected value of the estimator E(big theta) in squared term\n",
    "> MSE(big theta) = E[(big theta - E(big theta) + E(big theta) - theta)^2]\n",
    "\n",
    "Step 3: Expanding the Squared Term\n",
    "> (big theta - theta)^2 = (theta - E(big theta) + E(big theta) - theta)^2\n",
    "> \n",
    "> (big theta - theta)^2 = (big theta - E(big theta))^2 + 2(big theta - E(big theta))*(E(big theta) - theta) + (E(big theta) - theta)^2\n",
    "\n",
    "Step 4: Taking the Expectation for each term separately \n",
    "> E(big theta - theta)^2 = E(big theta - E(big theta))^2 + E[2(big theta - E(big theta))*(E(big theta) - theta)] + E[(E(big theta) - theta)^2]\n",
    "\n",
    "Step 5: Simplify each term\n",
    "> \"first term\" E(big theta - E(big theta))^2 = VAR(big theta)\n",
    "> \n",
    "> \"second term\" E[2(big theta - E(big theta))*(E(big theta) - theta)] = 0\n",
    "> \n",
    "> > <b>Justification</b> => E(big theta - E(big theta)) = 0 ; E(big theta) - theta = k\n",
    "> > \n",
    "> \"third term\" E(big theta) - theta = k thus, E[(E(big theta) - theta)^2] = (E(big theta) - theta)^2\n",
    "\n",
    "Step 6: Combine Term Results\n",
    "> MSE(big theta) = Var(big theta) + (E(big theta) - theta)^2\n",
    "\n",
    "Conclusion\n",
    "> MSE(big theta) = Var(big theta) + Bias(big theta)^2\n",
    "> \n",
    "> where the bias \"big theta\" is defined as => Bias(big theta) = E(big theta) - theta"
   ]
  },
  {
   "attachments": {
    "3b272b92-4b06-40aa-8ccb-3509a384ff38.png": {
     "image/png": "[encoded data removed]"
    }
   },
   "cell_type": "markdown",
   "id": "bc150269-d659-4e8c-83c6-b4a282d9d42a",
   "metadata": {},
   "source": [
    "### Problem 5\n",
    "\n",
    "The following data represent the length of time, in days, to recovery for patients randomly treated with one of two medications to clear up severe bladder infections:\n",
    "\n",
    "![image.png](attachment:3b272b92-4b06-40aa-8ccb-3509a384ff38.png)\n",
    "\n",
    "\n",
    "- Medication 1 : n sub 1 is 14, x bar 1 is 17, s to the power of 2 sub 1 is 1.5\n",
    "- Medication 2 : n sub 2 is 16, x bar 2 is 19, s to the power of 2 sub 2 is 1.8\n",
    "\n",
    "Find a 99% confidence interval for the difference μ2−μ1 in the mean recovery times for the two medications, assuming normal populations with equal variances."
   ]
  },
  {
   "cell_type": "code",
   "execution_count": 11,
   "id": "17e2583c-527e-4809-9768-03d3655bee3b",
   "metadata": {},
   "outputs": [],
   "source": [
    "# Medication 1\n",
    "n_1 <- 14 # n sub 1 is 14\n",
    "sample_mean_1 <- 17 # x bar 1 is 17\n",
    "s_1 <- 1.5 # s to the power of 2 sub 1 is 1.5 \n",
    "\n",
    "# Medication 2\n",
    "n_2 <- 16 # n sub 2 is 16\n",
    "sample_mean_2 <- 19 # x bar 2 is 19\n",
    "s_2 <- 1.8 #s to the power of 2 sub 2 is 1.8"
   ]
  },
  {
   "cell_type": "code",
   "execution_count": 12,
   "id": "9dff5379-886e-4952-a3d1-f58e006754e6",
   "metadata": {},
   "outputs": [
    {
     "name": "stdout",
     "output_type": "stream",
     "text": [
      "Pooled Variance:  1.660714 \n",
      "Standard Error (SE):  0.4716112 \n",
      "Critical T Value:  2.763262 \n",
      "Margin of Error (ME):  1.303185 \n"
     ]
    }
   ],
   "source": [
    "# Pooled Variance calculation\n",
    "pooled_variance <- (((n_1 - 1) * s_1 ) + ((n_2 - 1) * s_2)) / (n_1 + n_2 - 2) # = s squared sub p\n",
    "cat(\"Pooled Variance: \", pooled_variance, \"\\n\")\n",
    "\n",
    "# Standard Error, (SE)\n",
    "standard_error <- sqrt(pooled_variance * ((1 / n_1) + (1 / n_2)))# Difference in means = \"SE\"\n",
    "cat(\"Standard Error (SE): \", standard_error, \"\\n\")\n",
    "\n",
    "# Margin of Error, (ME) = (t sub alpha/2) * SE \n",
    "alpha <- 0.01 # since we want the 99% confidence interval\n",
    "dof <- n_1 + n_2 - 2 # degrees of freedom \n",
    "t_value <- qt(1 - alpha/2, dof) # get t value since n <30\n",
    "\n",
    "margin_of_error <- t_value * standard_error\n",
    "\n",
    "cat(\"Critical T Value: \", t_value, \"\\n\")\n",
    "cat(\"Margin of Error (ME): \", margin_of_error, \"\\n\")"
   ]
  },
  {
   "cell_type": "code",
   "execution_count": 13,
   "id": "2bafa715-3ab0-45d3-8976-0cc078679462",
   "metadata": {},
   "outputs": [
    {
     "name": "stdout",
     "output_type": "stream",
     "text": [
      "99% Confidence Interval : [  0.6968146  ,  3.303185  ]"
     ]
    }
   ],
   "source": [
    "# Confidence Interval (mu sub 1 - mu sub 2) +- ME \n",
    "mean_combined <- sample_mean_2 - sample_mean_1\n",
    "\n",
    "lower_bound <- mean_combined-margin_of_error\n",
    "upper_bound <- mean_combined+margin_of_error\n",
    "cat(\"99% Confidence Interval : [ \", lower_bound, \" , \", upper_bound , \" ]\")"
   ]
  },
  {
   "cell_type": "markdown",
   "id": "ea21f73b-c509-4f93-b25d-a88c75e67722",
   "metadata": {},
   "source": [
    "## R Built-in Datasets, Assess data with Confidence interval for the Mean"
   ]
  },
  {
   "cell_type": "code",
   "execution_count": 1,
   "id": "408de4fa-b0cb-416a-b8dc-5b46fda08c1b",
   "metadata": {},
   "outputs": [],
   "source": [
    "# enable built-in R datasets for analysis\n",
    "library(datasets)"
   ]
  },
  {
   "cell_type": "code",
   "execution_count": 11,
   "id": "9aa95d89-ed77-40e9-9527-caf8477bc260",
   "metadata": {},
   "outputs": [],
   "source": [
    "# Traverse data frame, identify desired dataset\n",
    "# data()"
   ]
  },
  {
   "cell_type": "code",
   "execution_count": 14,
   "id": "4fa2ca65-6e3e-48bb-844a-a78353e61fa6",
   "metadata": {},
   "outputs": [
    {
     "data": {
      "text/html": [
       "<table class=\"dataframe\">\n",
       "<caption>A data.frame: 6 × 4</caption>\n",
       "<thead>\n",
       "\t<tr><th></th><th scope=col>Murder</th><th scope=col>Assault</th><th scope=col>UrbanPop</th><th scope=col>Rape</th></tr>\n",
       "\t<tr><th></th><th scope=col>&lt;dbl&gt;</th><th scope=col>&lt;int&gt;</th><th scope=col>&lt;int&gt;</th><th scope=col>&lt;dbl&gt;</th></tr>\n",
       "</thead>\n",
       "<tbody>\n",
       "\t<tr><th scope=row>Alabama</th><td>13.2</td><td>236</td><td>58</td><td>21.2</td></tr>\n",
       "\t<tr><th scope=row>Alaska</th><td>10.0</td><td>263</td><td>48</td><td>44.5</td></tr>\n",
       "\t<tr><th scope=row>Arizona</th><td> 8.1</td><td>294</td><td>80</td><td>31.0</td></tr>\n",
       "\t<tr><th scope=row>Arkansas</th><td> 8.8</td><td>190</td><td>50</td><td>19.5</td></tr>\n",
       "\t<tr><th scope=row>California</th><td> 9.0</td><td>276</td><td>91</td><td>40.6</td></tr>\n",
       "\t<tr><th scope=row>Colorado</th><td> 7.9</td><td>204</td><td>78</td><td>38.7</td></tr>\n",
       "</tbody>\n",
       "</table>\n"
      ],
      "text/latex": [
       "A data.frame: 6 × 4\n",
       "\\begin{tabular}{r|llll}\n",
       "  & Murder & Assault & UrbanPop & Rape\\\\\n",
       "  & <dbl> & <int> & <int> & <dbl>\\\\\n",
       "\\hline\n",
       "\tAlabama & 13.2 & 236 & 58 & 21.2\\\\\n",
       "\tAlaska & 10.0 & 263 & 48 & 44.5\\\\\n",
       "\tArizona &  8.1 & 294 & 80 & 31.0\\\\\n",
       "\tArkansas &  8.8 & 190 & 50 & 19.5\\\\\n",
       "\tCalifornia &  9.0 & 276 & 91 & 40.6\\\\\n",
       "\tColorado &  7.9 & 204 & 78 & 38.7\\\\\n",
       "\\end{tabular}\n"
      ],
      "text/markdown": [
       "\n",
       "A data.frame: 6 × 4\n",
       "\n",
       "| <!--/--> | Murder &lt;dbl&gt; | Assault &lt;int&gt; | UrbanPop &lt;int&gt; | Rape &lt;dbl&gt; |\n",
       "|---|---|---|---|---|\n",
       "| Alabama | 13.2 | 236 | 58 | 21.2 |\n",
       "| Alaska | 10.0 | 263 | 48 | 44.5 |\n",
       "| Arizona |  8.1 | 294 | 80 | 31.0 |\n",
       "| Arkansas |  8.8 | 190 | 50 | 19.5 |\n",
       "| California |  9.0 | 276 | 91 | 40.6 |\n",
       "| Colorado |  7.9 | 204 | 78 | 38.7 |\n",
       "\n"
      ],
      "text/plain": [
       "           Murder Assault UrbanPop Rape\n",
       "Alabama    13.2   236     58       21.2\n",
       "Alaska     10.0   263     48       44.5\n",
       "Arizona     8.1   294     80       31.0\n",
       "Arkansas    8.8   190     50       19.5\n",
       "California  9.0   276     91       40.6\n",
       "Colorado    7.9   204     78       38.7"
      ]
     },
     "metadata": {},
     "output_type": "display_data"
    }
   ],
   "source": [
    "head(USArrests)"
   ]
  },
  {
   "cell_type": "code",
   "execution_count": 22,
   "id": "a049a2d7-d875-4d8f-aa84-d1d9ba3e8f89",
   "metadata": {},
   "outputs": [
    {
     "data": {
      "text/html": [
       "<style>\n",
       ".list-inline {list-style: none; margin:0; padding: 0}\n",
       ".list-inline>li {display: inline-block}\n",
       ".list-inline>li:not(:last-child)::after {content: \"\\00b7\"; padding: 0 .5ex}\n",
       "</style>\n",
       "<ol class=list-inline><li>'Murder'</li><li>'Assault'</li><li>'UrbanPop'</li><li>'Rape'</li></ol>\n"
      ],
      "text/latex": [
       "\\begin{enumerate*}\n",
       "\\item 'Murder'\n",
       "\\item 'Assault'\n",
       "\\item 'UrbanPop'\n",
       "\\item 'Rape'\n",
       "\\end{enumerate*}\n"
      ],
      "text/markdown": [
       "1. 'Murder'\n",
       "2. 'Assault'\n",
       "3. 'UrbanPop'\n",
       "4. 'Rape'\n",
       "\n",
       "\n"
      ],
      "text/plain": [
       "[1] \"Murder\"   \"Assault\"  \"UrbanPop\" \"Rape\"    "
      ]
     },
     "metadata": {},
     "output_type": "display_data"
    },
    {
     "data": {
      "text/html": [
       "50"
      ],
      "text/latex": [
       "50"
      ],
      "text/markdown": [
       "50"
      ],
      "text/plain": [
       "[1] 50"
      ]
     },
     "metadata": {},
     "output_type": "display_data"
    }
   ],
   "source": [
    "# identify dataframe characteristics\n",
    "names(USArrests)\n",
    "nrow(USArrests)\n",
    "attach(USArrests) #attaches columns to callable \"Variables\""
   ]
  },
  {
   "cell_type": "code",
   "execution_count": 39,
   "id": "dfa86b0a-6642-44fb-80d2-01677916765e",
   "metadata": {},
   "outputs": [
    {
     "name": "stdout",
     "output_type": "stream",
     "text": [
      "z value:  2.009575 \n",
      "Standard Error:  0.6159621 \n",
      "95% Confidence Interval : [  6.550178  ,  9.025822  ]"
     ]
    }
   ],
   "source": [
    "n <- length(Murder) # sample size\n",
    "df <- n - 1 # Degree of Freedom\n",
    "sample_mean <- mean(Murder) # sample mean\n",
    "\n",
    "confidence_level <- .95\n",
    "alpha <- (1 - confidence_level)\n",
    "\n",
    "z_value <- qt(1 - alpha/2, df)\n",
    "standard_error <- sd(Murder) / sqrt(n)\n",
    "margin_of_error <- z_value * standard_error\n",
    "\n",
    "cat(\"z value: \",z_value,\"\\n\")\n",
    "cat(\"Standard Error: \",standard_error,\"\\n\")\n",
    "cat(\"95% Confidence Interval : [ \", sample_mean - margin_of_error, \" , \", sample_mean + margin_of_error , \" ]\")"
   ]
  },
  {
   "cell_type": "code",
   "execution_count": 37,
   "id": "74cf9d24-a894-41b5-9967-688168c5e33d",
   "metadata": {},
   "outputs": [
    {
     "data": {
      "text/html": [
       "0.05"
      ],
      "text/latex": [
       "0.05"
      ],
      "text/markdown": [
       "0.05"
      ],
      "text/plain": [
       "[1] 0.05"
      ]
     },
     "metadata": {},
     "output_type": "display_data"
    }
   ],
   "source": []
  }
 ],
 "metadata": {
  "kernelspec": {
   "display_name": "R (r_stat)",
   "language": "R",
   "name": "ir_conda_env"
  },
  "language_info": {
   "codemirror_mode": "r",
   "file_extension": ".r",
   "mimetype": "text/x-r-source",
   "name": "R",
   "pygments_lexer": "r",
   "version": "4.1.3"
  }
 },
 "nbformat": 4,
 "nbformat_minor": 5
}
