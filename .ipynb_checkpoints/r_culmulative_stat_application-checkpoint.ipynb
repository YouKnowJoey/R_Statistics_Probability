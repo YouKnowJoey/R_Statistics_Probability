{
 "cells": [
  {
   "cell_type": "markdown",
   "id": "5768facf-2dd9-46b1-9fb5-9b8d69ee0d6b",
   "metadata": {},
   "source": [
    "# Cumulative Statistical Practical Application"
   ]
  },
  {
   "cell_type": "markdown",
   "id": "3e43d280-3ef0-473a-af94-293c96d4b122",
   "metadata": {},
   "source": [
    "## Problem 1 ()"
   ]
  },
  {
   "cell_type": "markdown",
   "id": "a5909495-b299-43f6-ae07-b541b44e7c7d",
   "metadata": {},
   "source": [
    "Raymond Computer Inc., a manufacturer of computers, buys microchips (or chips) from Hall Electronics, Deltronics and Alpha. Raymond buys 30 percent of microchips from Hall Electronics, 20 percent from Deltronics and 50 percent from Alpha.  Raymond has extensive histories of the three suppliers and knows that 3 percent of the chips purchased from Hall Electronics are defective, 5 percent of chips from Deltronics are defective and 4 percent of chips from Alpha are defective. When the chips arrive at the Raymond, they are placed directly in a bin and not inspected or otherwise identified by a supplier. A worker selects a chip for installation in the computer and finds it defective. What is the probability (using Bayes’ Theorem) that it was manufactured by Deltronics?  "
   ]
  },
  {
   "cell_type": "code",
   "execution_count": 4,
   "id": "45dfbbc3-f0b3-4c6e-a613-33c769ef0f14",
   "metadata": {},
   "outputs": [
    {
     "data": {
      "text/html": [
       "0.256410256410256"
      ],
      "text/latex": [
       "0.256410256410256"
      ],
      "text/markdown": [
       "0.256410256410256"
      ],
      "text/plain": [
       "[1] 0.2564103"
      ]
     },
     "metadata": {},
     "output_type": "display_data"
    },
    {
     "name": "stdout",
     "output_type": "stream",
     "text": [
      "25.64103 %\n"
     ]
    }
   ],
   "source": [
    "# Define the probabilities\n",
    "P_H <- 0.30 # probability chip is from Hall Electronics\n",
    "P_DEL <- 0.20 # probability chip is from Deltronics\n",
    "P_A <- 0.50 # probability chip is from Alpha\n",
    "\n",
    "# Percent of defective chips\n",
    "P_D_given_H <- 0.03\n",
    "P_D_given_DEL <- 0.05\n",
    "P_D_given_A <- 0.04\n",
    "\n",
    "# Calculate the total probability of a defective chip\n",
    "P_D <- P_D_given_H * P_H + P_D_given_DEL * P_DEL + P_D_given_A * P_A\n",
    "\n",
    "# Calculate the probability that a defective chip is from Deltronics\n",
    "# Bayes Theorem\n",
    "P_DEL_given_D <- (P_D_given_DEL * P_DEL) / P_D\n",
    "P_DEL_given_D\n",
    "cat(100*P_DEL_given_D, \"%\\n\")"
   ]
  },
  {
   "cell_type": "markdown",
   "id": "5587abdc-cafa-4522-856c-064ccba6e0ad",
   "metadata": {},
   "source": [
    "## Problem 2 ()"
   ]
  },
  {
   "cell_type": "markdown",
   "id": "55ec8b6e-7215-4208-8b33-dd6ae145241a",
   "metadata": {},
   "source": [
    "A sample of executives were surveyed about the loyalty to their company. One of question was “If you were given an offer by another company equal to or slightly better than your position, would you remain with the company or take the position” The responses of 200 executives in the survey were cross-classified with their length of service with the company in the table below: \n",
    " \n",
    "Length of Service (table below in csv format)\n",
    "\n",
    ">Loyalty, Less than 1 year (B1), 1-5  Years (B2),  6-10 Years (B3), More than 10 Years (B4), Total\n",
    ">\n",
    ">Would Remain A1, 10, 30, 5, 75, 120\n",
    ">\n",
    ">Would not remain A2, 25, 15, 10, 30, 80\n",
    "\n",
    "\n",
    "Answer the following questions: \n",
    "\n",
    "(a) What is the probability of selecting an executive with more than 10 years of service? \n",
    "\n",
    "(b) What is the probability of selecting an executive who would not remain with the company given that he or she has more than 10 years of service? \n",
    "\n",
    "(c) What is the probability of selecting an executive with more than 10 years of service or one who would not remain with the company? \n"
   ]
  },
  {
   "cell_type": "code",
   "execution_count": 8,
   "id": "945fbfee-7aa4-4373-9e56-d93ce1009dd7",
   "metadata": {},
   "outputs": [
    {
     "name": "stdout",
     "output_type": "stream",
     "text": [
      "                 Less than 1 year 1-5 Years 6-10 Years More than 10 Years Total\n",
      "Would Remain                   10        30          5                 75   120\n",
      "Would not remain               25        15         10                 30    80\n"
     ]
    }
   ],
   "source": [
    "# Define the data\n",
    "data <- matrix(c(\n",
    "  10, 30, 5, 75, 120,  # Would Remain A1\n",
    "  25, 15, 10, 30, 80   # Would not remain A2\n",
    "), nrow = 2, byrow = TRUE)\n",
    "\n",
    "# Set row and column names\n",
    "rownames(data) <- c(\"Would Remain\", \"Would not remain\")\n",
    "colnames(data) <- c(\"Less than 1 year\", \"1-5 Years\", \"6-10 Years\", \"More than 10 Years\", \"Total\")\n",
    "\n",
    "# Print the matrix\n",
    "print(data)"
   ]
  },
  {
   "cell_type": "code",
   "execution_count": 9,
   "id": "085ecb6e-d46d-44e2-a5a6-e90a0aa3a92a",
   "metadata": {},
   "outputs": [
    {
     "data": {
      "text/html": [
       "0.525"
      ],
      "text/latex": [
       "0.525"
      ],
      "text/markdown": [
       "0.525"
      ],
      "text/plain": [
       "[1] 0.525"
      ]
     },
     "metadata": {},
     "output_type": "display_data"
    },
    {
     "name": "stdout",
     "output_type": "stream",
     "text": [
      "52.5 %\n"
     ]
    }
   ],
   "source": [
    "# (a)\n",
    "\n",
    "ten_yos <- 105 # Number of executives more than 10 years of service\n",
    "total_exec <- 200 # Total number of executives\n",
    "\n",
    "# P(B4) = \n",
    "probability <- ten_yos / total_exec\n",
    "probability\n",
    "cat(100*probability, \"%\\n\")"
   ]
  },
  {
   "cell_type": "code",
   "execution_count": 10,
   "id": "038b5b3f-1d76-43f4-b2f6-1ab0afae3ff4",
   "metadata": {},
   "outputs": [
    {
     "data": {
      "text/html": [
       "0.285714285714286"
      ],
      "text/latex": [
       "0.285714285714286"
      ],
      "text/markdown": [
       "0.285714285714286"
      ],
      "text/plain": [
       "[1] 0.2857143"
      ]
     },
     "metadata": {},
     "output_type": "display_data"
    },
    {
     "name": "stdout",
     "output_type": "stream",
     "text": [
      "28.57143 %\n"
     ]
    }
   ],
   "source": [
    "# (b)\n",
    "ten_yos_no_return <- 30 # executives more than 10 years of service that will not remain\n",
    "total_exec_10_years <- 105 # Total number of executives with more than 10 years\n",
    "\n",
    "# P(A2 | B4) = \n",
    "probability <- ten_yos_no_return / total_exec_10_years\n",
    "probability\n",
    "cat(100*probability, \"%\\n\")"
   ]
  },
  {
   "cell_type": "code",
   "execution_count": 20,
   "id": "f0425c98-b67d-41bb-9751-d3b6072abd82",
   "metadata": {},
   "outputs": [
    {
     "name": "stdout",
     "output_type": "stream",
     "text": [
      "( 105 + 80 - 30 ) / 200"
     ]
    },
    {
     "data": {
      "text/html": [
       "0.775"
      ],
      "text/latex": [
       "0.775"
      ],
      "text/markdown": [
       "0.775"
      ],
      "text/plain": [
       "[1] 0.775"
      ]
     },
     "metadata": {},
     "output_type": "display_data"
    },
    {
     "name": "stdout",
     "output_type": "stream",
     "text": [
      "77.5 %\n"
     ]
    }
   ],
   "source": [
    "# (c)\n",
    "\n",
    "# Set row and column names\n",
    "rownames(data) <- c(\"Would Remain\", \"Would not remain\")\n",
    "colnames(data) <- c(\"Less than 1 year\", \"1-5 Years\", \"6-10 Years\", \"More than 10 Years\", \"Total\")\n",
    "\n",
    "# Total number of executives\n",
    "total_executives <- sum(data[, \"Total\"])\n",
    "\n",
    "# Number of executives with more than 10 years of service\n",
    "more_than_10_years <- sum(data[, \"More than 10 Years\"])\n",
    "\n",
    "# Number of executives who would not remain\n",
    "not_remain <- data[\"Would not remain\", \"Total\"]\n",
    "\n",
    "# Number of executives with more than 10 years of service and not remaining\n",
    "intersection <- data[\"Would not remain\", \"More than 10 Years\"]\n",
    "\n",
    "# Probability calculation, P(A union B)= P(A) + P(B) − P(A intersect B)\n",
    "probability <- (more_than_10_years + not_remain - intersection) / total_executives\n",
    "cat(\"(\",more_than_10_years,\"+\",not_remain,\"-\",intersection,\") /\",total_executives)\n",
    "\n",
    "probability\n",
    "cat(100*probability, \"%\\n\")"
   ]
  },
  {
   "cell_type": "markdown",
   "id": "642db534-fd4a-46f9-bb53-0f2a534c7a31",
   "metadata": {},
   "source": [
    "## Problem 3 (Conditional Probability in Words)"
   ]
  },
  {
   "cell_type": "markdown",
   "id": "cd363cb7-0fb3-49f6-a43a-43683f529f91",
   "metadata": {},
   "source": [
    "If R is the event that a convict committed armed robbery and D is the event that the convict pushed dope, state in words what probabilities are expressed by \n",
    "\n",
    "(a) P (R | D): The probability that a convict committed armed robbery given that the convict pushed dope. In other words, it's the likelihood that a convict is an armed robber if they are known to have pushed dope.\n",
    "\n",
    "(b) P (D’ | R): The probability that a convict did not push dope given that the convict committed armed robbery. It represents the likelihood that a convict is not a dope pusher if they are known to have committed armed robbery.\n",
    "\n",
    "(c) P (R’ | D’): The probability that a convict did not commit armed robbery given that the convict did not push dope. It represents the likelihood that a convict is not an armed robber if they are known not to have pushed dope.\n"
   ]
  },
  {
   "cell_type": "markdown",
   "id": "270a1b71-bd29-41a5-81cc-2498b3b9b69d",
   "metadata": {},
   "source": [
    "## Problem 4 (Probability of Joint Density Function)"
   ]
  },
  {
   "cell_type": "markdown",
   "id": "6861a4bd-2f01-4301-9b92-977bf4ad93b2",
   "metadata": {},
   "source": [
    "A candy company distributes boxes of chocolates with a mixture of creams, toffees, and cordials. Suppose that the weight of each box is 1 kilogram, but the individual weights of the creams, toffees, and cordials vary from box to box. For a randomly selected box, let X and Y represent the weights of the creams and the toffees, respectively, and suppose that the joint density function of these variables is \n",
    "\n",
    "f(x, y) = 24xy, 0 ≤ x ≤ 1, 0 ≤ y ≤1, x+y ≤ 1\n",
    "\n",
    "f(x, y) = 0 elsewhere \n",
    "\n",
    "(a) Find the probability that in a given box the cordials account for more than 1/2 of the weight. \n",
    "\n",
    "(b) Find the marginal density for the weight of the creams. \n",
    "\n",
    "(c) Find the probability that the weight of the toffees in a box is less than 1/8 of a kilogram if it is known that creams constitute 3/4 of the weight. "
   ]
  },
  {
   "cell_type": "code",
   "execution_count": 27,
   "id": "f1c1e3d8-c63a-4836-bce0-831751431e31",
   "metadata": {},
   "outputs": [
    {
     "data": {
      "text/html": [
       "0.0625"
      ],
      "text/latex": [
       "0.0625"
      ],
      "text/markdown": [
       "0.0625"
      ],
      "text/plain": [
       "[1] 0.0625"
      ]
     },
     "metadata": {},
     "output_type": "display_data"
    },
    {
     "name": "stdout",
     "output_type": "stream",
     "text": [
      "6.25 %\n"
     ]
    }
   ],
   "source": [
    "# Weight of Cordials, denoted as Z\n",
    "# Z = 1 - X - Y\n",
    "# if Z > 1/2, then 1 - X - Y > 1/2\n",
    "# So, X + Y < 1/2\n",
    "\n",
    "# Define the joint density function\n",
    "f <- function(x, y) {\n",
    "  24 * x * y\n",
    "}\n",
    "\n",
    "# Define the limits of integration\n",
    "lower_x <- 0\n",
    "upper_x <- 1/2\n",
    "\n",
    "# P(X + Y < 1/2) = integral(0 -> 1/2) * integral(0 -> 1/2-x)*24xy*dy*dx\n",
    "prob_cordials_more_than_half <- integrate(\n",
    "  function(x) sapply(x, function(x) integrate(f, lower = 0, upper = 1/2 - x, x = x)$value),\n",
    "  lower = lower_x,\n",
    "  upper = upper_x\n",
    ")$value\n",
    "\n",
    "prob_cordials_more_than_half\n",
    "cat(100*prob_cordials_more_than_half, \"%\\n\")"
   ]
  },
  {
   "cell_type": "code",
   "execution_count": 30,
   "id": "dfcdda7a-3498-4432-9dbb-782c184dd6b5",
   "metadata": {},
   "outputs": [
    {
     "data": {
      "text/html": [
       "1.6875"
      ],
      "text/latex": [
       "1.6875"
      ],
      "text/markdown": [
       "1.6875"
      ],
      "text/plain": [
       "[1] 1.6875"
      ]
     },
     "metadata": {},
     "output_type": "display_data"
    }
   ],
   "source": [
    "# Marginal density function for creams\n",
    "# fsubX(x) = integral(0 -> 1-x)*24xy*dy\n",
    "f_x <- function(x) {\n",
    "  integrate(function(y) f(x, y), lower = 0, upper = 1 - x)$value\n",
    "}\n",
    "\n",
    "# Test for a specific x value, x = 0.25\n",
    "marginal_density_cream <- f_x(0.25)\n",
    "\n",
    "marginal_density_cream"
   ]
  },
  {
   "cell_type": "code",
   "execution_count": 29,
   "id": "e73748cc-741a-4c0a-a74e-33204ec88dd1",
   "metadata": {},
   "outputs": [
    {
     "data": {
      "text/html": [
       "0.25"
      ],
      "text/latex": [
       "0.25"
      ],
      "text/markdown": [
       "0.25"
      ],
      "text/plain": [
       "[1] 0.25"
      ]
     },
     "metadata": {},
     "output_type": "display_data"
    },
    {
     "name": "stdout",
     "output_type": "stream",
     "text": [
      "25 %\n"
     ]
    }
   ],
   "source": [
    "# Conditional probability for toffees\n",
    "# P(Y <1/8 | X = 3/4) = (integrate(0 -> 1/8)*f(3/4,y)*dy) / (fsubX(3/4))\n",
    "numerator <- integrate(function(y) f(3/4, y), lower = 0, upper = 1/8)$value\n",
    "denominator <- f_x(3/4)\n",
    "prob_toffees_less_than_1_8 <- numerator / denominator\n",
    "\n",
    "prob_toffees_less_than_1_8\n",
    "cat(100*prob_toffees_less_than_1_8, \"%\\n\")"
   ]
  },
  {
   "cell_type": "markdown",
   "id": "d348029c-46a4-4c55-a3af-43c5143be57c",
   "metadata": {},
   "source": [
    "## Problem 5 (Expected Value & Variance)"
   ]
  },
  {
   "cell_type": "markdown",
   "id": "a84071cc-be71-465f-94bb-fd8355e67c55",
   "metadata": {},
   "source": [
    "The random variables X and Y represent the number of vehicles that arrive at two separate street corners during a certain 2-minute period in the day. The joint distribution is \n",
    "\n",
    "f (x, y) = (1 / 4^(x + y)) (9/16)\n",
    "\n",
    "for x = 0, 1, 2, 3,… and y = 0, 1, 2, 3,…\n",
    "\n",
    "(a) Give E(X), E(Y ),  Var(X ), and Var(Y ) \n",
    "\n",
    "(b) Consider Z= X+ Y the sum of the two, Find E(Z) and Var( Z) \n"
   ]
  },
  {
   "cell_type": "markdown",
   "id": "18dedd88-cbb3-4b88-8e1a-ce7ec7ff9214",
   "metadata": {},
   "source": [
    "Marginal Distribution\n",
    "fsubX(x) = ReimannSum(inf, y=0)* f(x,y)= ReimannSum(inf, y=0)* (1/4^(x) * (9/16) * 1/4^(y))\n",
    "\n",
    "ReimannSum(inf, y=0) * 1/4^(y) = 1 / (1 - (1/4)) = 4/3\n",
    "\n",
    "fsubX(x) = (1/4^(x) * (9/16) * (4/3)) = (3/16) * (1/4^(x))\n",
    "\n",
    "fsubY(y) = (3/16) * (1/4^(y))\n",
    "\n",
    "Both X and Y follow a geometric distribution shifted by one with parameter (p) = 1/4."
   ]
  },
  {
   "cell_type": "code",
   "execution_count": 1,
   "id": "c3ebfe63-db48-4e89-9b7a-5f411718939f",
   "metadata": {},
   "outputs": [
    {
     "name": "stdout",
     "output_type": "stream",
     "text": [
      "E(X) = 3 \n",
      "E(Y) = 3 \n",
      "Var(X) = 12 \n",
      "Var(Y) = 12 \n",
      "E(Z) = 6 \n",
      "Var(Z) = 24 \n"
     ]
    }
   ],
   "source": [
    "# Define the parameter for the geometric distribution\n",
    "p <- 1 / 4\n",
    "\n",
    "# Expected values for X and Y (E(X) and E(Y))\n",
    "E_X <- (1 - p) / p\n",
    "E_Y <- (1 - p) / p\n",
    "\n",
    "# Variances for X and Y (Var(X) and Var(Y))\n",
    "Var_X <- (1 - p) / (p^2)\n",
    "Var_Y <- (1 - p) / (p^2)\n",
    "\n",
    "# Expected value and variance for Z = X + Y\n",
    "E_Z <- E_X + E_Y\n",
    "Var_Z <- Var_X + Var_Y\n",
    "\n",
    "# Results\n",
    "cat(\"E(X) =\", E_X, \"\\n\")\n",
    "cat(\"E(Y) =\", E_Y, \"\\n\")\n",
    "cat(\"Var(X) =\", Var_X, \"\\n\")\n",
    "cat(\"Var(Y) =\", Var_Y, \"\\n\")\n",
    "cat(\"E(Z) =\", E_Z, \"\\n\")\n",
    "cat(\"Var(Z) =\", Var_Z, \"\\n\")"
   ]
  },
  {
   "cell_type": "markdown",
   "id": "f3b31e87-922c-4951-81c0-27112e9fdc4b",
   "metadata": {},
   "source": [
    "## Problem 6 (Creating Probability Distribution)"
   ]
  },
  {
   "cell_type": "markdown",
   "id": "93eaddbc-465c-459b-ac8c-d64bafbb9aa3",
   "metadata": {},
   "source": [
    "A random committee of size 3 is selected from 4 doctors and 2 nurses. Write a formula for the probability distribution of the random variable x representing the number of doctors on the committee.  Also, find P(2≤ x ≤ 3) "
   ]
  },
  {
   "cell_type": "code",
   "execution_count": 2,
   "id": "55a948a7-8a5b-4f34-8e21-8ce5782ccb28",
   "metadata": {},
   "outputs": [
    {
     "name": "stdout",
     "output_type": "stream",
     "text": [
      "P(X = 0) = 0 \n",
      "P(X = 1) = 0.2 \n",
      "P(X = 2) = 0.6 \n",
      "P(X = 3) = 0.2 \n",
      "P(2 = X = 3) = 0.8 \n"
     ]
    }
   ],
   "source": [
    "# Total number of ways to choose 3 people from 6\n",
    "total_ways <- choose(6, 3)\n",
    "\n",
    "# Probability distribution\n",
    "p_X_0 <- 0  # Impossible to select 0 doctors and 3 nurses\n",
    "p_X_1 <- choose(4, 1) * choose(2, 2) / total_ways # Select 1 doctor and 2 nurses\n",
    "p_X_2 <- choose(4, 2) * choose(2, 1) / total_ways # Select 2 doctors and 1 nurse\n",
    "p_X_3 <- choose(4, 3) * choose(2, 0) / total_ways # Select 3 doctors and 0 nurses\n",
    "\n",
    "# Probability that 2 ≤ X ≤ 3\n",
    "p_2_to_3 <- p_X_2 + p_X_3\n",
    "\n",
    "# Display the results\n",
    "cat(\"P(X = 0) =\", p_X_0, \"\\n\")\n",
    "cat(\"P(X = 1) =\", p_X_1, \"\\n\")\n",
    "cat(\"P(X = 2) =\", p_X_2, \"\\n\")\n",
    "cat(\"P(X = 3) =\", p_X_3, \"\\n\")\n",
    "cat(\"P(2 ≤ X ≤ 3) =\", p_2_to_3, \"\\n\")\n"
   ]
  },
  {
   "cell_type": "markdown",
   "id": "09156eb5-ff54-4b46-897b-2695c3e37264",
   "metadata": {},
   "source": [
    "## Problem 7 (Probabilities of a Normal Distribution)"
   ]
  },
  {
   "cell_type": "markdown",
   "id": "8506ae8e-4d29-4963-8165-253fc6ae0d6c",
   "metadata": {},
   "source": [
    "Given the normally distributed variable X with mean 18 and standard deviation 2.5, find\n",
    "\n",
    "(a) P(X < 15); \n",
    "\n",
    "(b) the value of kk such that P(X < k) = 0.2236; \n",
    "\n",
    "(c) the value of kk such that P(X > k) = 0.1814; \n",
    "\n",
    "(d) P(17 < x < 21)"
   ]
  },
  {
   "cell_type": "code",
   "execution_count": 17,
   "id": "9c2f8c3c-0811-4e04-a227-b853df40fa22",
   "metadata": {},
   "outputs": [],
   "source": [
    "# calculate a Z score using the following\n",
    "\n",
    "# z-score function in R, use if you want to identify Z-Score versus R CDF function\n",
    "z_score_function <- function(X, mu, sigma) {\n",
    "  z <- (X - mu) / sigma\n",
    "  return(z)\n",
    "}"
   ]
  },
  {
   "cell_type": "code",
   "execution_count": 5,
   "id": "92002729-6ade-469f-a6e5-1ea0ffa3e6d7",
   "metadata": {},
   "outputs": [],
   "source": [
    "# Define variables\n",
    "mu <- 18 # mean\n",
    "std_dev <- 2.5 # standard deviation"
   ]
  },
  {
   "cell_type": "code",
   "execution_count": 16,
   "id": "03816691-23b6-41f9-ae26-8b2d7fcd495f",
   "metadata": {},
   "outputs": [
    {
     "name": "stdout",
     "output_type": "stream",
     "text": [
      "P(X < 15) = 0.1150697 \n"
     ]
    }
   ],
   "source": [
    "# (a)\n",
    "p_a <- pnorm(15, mu, std_dev)\n",
    "cat(\"P(X < 15) =\", p_a, \"\\n\")"
   ]
  },
  {
   "cell_type": "code",
   "execution_count": 4,
   "id": "f9a9c472-b5e9-44dc-99f0-72d53feb973d",
   "metadata": {},
   "outputs": [
    {
     "name": "stdout",
     "output_type": "stream",
     "text": [
      "Value of k such that P(X < k) = 0.2236 is 16.09977 \n"
     ]
    }
   ],
   "source": [
    "# (b)\n",
    "z_b <- qnorm(0.2236)\n",
    "k_b <- z_b * std_dev + mu\n",
    "cat(\"Value of k such that P(X < k) = 0.2236 is\", k_b, \"\\n\")"
   ]
  },
  {
   "cell_type": "code",
   "execution_count": 9,
   "id": "d834b30c-7ec7-45be-a413-9156c55a0202",
   "metadata": {},
   "outputs": [
    {
     "name": "stdout",
     "output_type": "stream",
     "text": [
      "Value of k such that P(X > k) = 0.1814 is 20.27511 \n"
     ]
    }
   ],
   "source": [
    "# (c)\n",
    "k <- 1 − 0.1814 \n",
    "z_c <- qnorm(k)\n",
    "k_c <- z_c * std_dev + mu\n",
    "cat(\"Value of k such that P(X > k) = 0.1814 is\", k_c, \"\\n\")\n"
   ]
  },
  {
   "cell_type": "code",
   "execution_count": 12,
   "id": "3c6661fa-5f7f-40f8-bdb1-9043b8999432",
   "metadata": {},
   "outputs": [
    {
     "name": "stdout",
     "output_type": "stream",
     "text": [
      "P(17 < X < 21) = 0.5403521 \n"
     ]
    }
   ],
   "source": [
    "# (d)\n",
    "p_d <- pnorm(21, mu, std_dev) - pnorm(17, mu, std_dev)\n",
    "cat(\"P(17 < X < 21) =\", p_d, \"\\n\")\n"
   ]
  },
  {
   "cell_type": "markdown",
   "id": "0d0667c9-194e-460b-b81e-0c6932d6497e",
   "metadata": {},
   "source": [
    "## Problem 8 ()"
   ]
  },
  {
   "cell_type": "markdown",
   "id": "dbd52753-2939-4728-9b94-79b136097231",
   "metadata": {},
   "source": [
    "The average life of a certain type of small motor is 10 years with a standard deviation of 2 years. The manufacturer replaces free all motors that fail while under guarantee. If she is willing to replace only 3% of the motors that fail, how long a guarantee should be offered? Assume that the lifetime of a motor follows a normal distribution. "
   ]
  },
  {
   "cell_type": "code",
   "execution_count": 19,
   "id": "e7f14e0a-3716-4fd9-99f2-9705f2a6b81f",
   "metadata": {},
   "outputs": [
    {
     "name": "stdout",
     "output_type": "stream",
     "text": [
      "The guarantee should be offered for 6.238413 years.\n"
     ]
    }
   ],
   "source": [
    "mu <- 10 # years (mean)\n",
    "sigma <- 2 # years (standard deviation)\n",
    "probability <- 0.03\n",
    "\n",
    "# Calculate the guarantee time\n",
    "t <- qnorm(probability, mu, sigma)\n",
    "\n",
    "# Display the result\n",
    "cat(\"The guarantee should be offered for\", t, \"years.\\n\")"
   ]
  },
  {
   "cell_type": "markdown",
   "id": "9d13884c-31f8-4020-89d3-ece8d094bd7e",
   "metadata": {},
   "source": [
    "## Problem 9 (Characteristics of a Beta Distribution)"
   ]
  },
  {
   "cell_type": "markdown",
   "id": "7e776f55-5ccd-486b-9e72-bcab9630c698",
   "metadata": {},
   "source": [
    "Suppose the random variable X follows a beta distribution with Alpha = 1 and Beta = 3. \n",
    "\n",
    "(a) Determine the mean and median of X. \n",
    "\n",
    "(b) Determine the variance of X. \n",
    "\n",
    "(c) Find the probability that  X > 1/3. "
   ]
  },
  {
   "cell_type": "code",
   "execution_count": 25,
   "id": "af70fca0-d17f-43eb-9d66-21d7b3ce8d83",
   "metadata": {},
   "outputs": [
    {
     "name": "stdout",
     "output_type": "stream",
     "text": [
      "Mean of X = 0.25 \n",
      "Variance of X = 0.0375 \n",
      "Median of X (approximate) = 0.2062995 \n",
      "P(X > 1/3) = 0.2962963 \n"
     ]
    }
   ],
   "source": [
    "# Parameters for the beta distribution\n",
    "alpha <- 1\n",
    "beta <- 3\n",
    "\n",
    "# Mean of a beta distribution\n",
    "mean_x <- alpha / (alpha + beta)\n",
    "\n",
    "# Variance of a beta distribution\n",
    "variance_x <- (alpha * beta) / ((alpha + beta)^2 * (alpha + beta + 1))\n",
    "\n",
    "# Median (approximated numerically) of a beta distribution\n",
    "median_x <- qbeta(0.5, alpha, beta)\n",
    "\n",
    "# Probability that P(X > 1/3) = 1 - P(X < 1/3)\n",
    "prob_x_greater_than_1_3 <- 1 - pbeta(1/3, alpha, beta)\n",
    "\n",
    "# Results\n",
    "cat(\"Mean of X =\", mean_x, \"\\n\")\n",
    "cat(\"Variance of X =\", variance_x, \"\\n\")\n",
    "cat(\"Median of X (approximate) =\", median_x, \"\\n\")\n",
    "cat(\"P(X > 1/3) =\", prob_x_greater_than_1_3, \"\\n\")\n"
   ]
  },
  {
   "cell_type": "markdown",
   "id": "08233abe-50b3-4ecc-99f3-274b1f629b01",
   "metadata": {},
   "source": [
    "## Problem 10 ()"
   ]
  },
  {
   "cell_type": "markdown",
   "id": "4d3ea28e-4cb1-4a75-b420-a80fcf1f833f",
   "metadata": {},
   "source": [
    "If all possible samples of size 16 are drawn from a normal population with mean equal to 50 and standard deviation equal to 5, what is the probability that a sample mean x will fall in the interval from 𝛍subx – 1.96𝛔subx and 𝛍subx – 0.4𝛔subx? Assume that the sample means can be measured to any degree of accuracy. "
   ]
  },
  {
   "cell_type": "code",
   "execution_count": 32,
   "id": "f6ad5b10-38a9-41bb-915b-bae5e8a7d239",
   "metadata": {},
   "outputs": [
    {
     "name": "stdout",
     "output_type": "stream",
     "text": [
      "P( 47.55 < Xbar < 49.5 )\n",
      "P( -1.96 < Z < -0.4 )\n"
     ]
    }
   ],
   "source": [
    "n <- 16 # sample size\n",
    "sigma <- 5 # sample standard deviation\n",
    "mu <- 50 # sample population mean\n",
    "SE <- sigma / sqrt(n) # Standard error\n",
    "\n",
    "# Lower & Upper bound\n",
    "lower <- mu - 1.96 * SE\n",
    "upper <- mu - 0.4 * SE\n",
    "cat(\"P(\",lower,\"< Xbar <\", upper,\")\\n\")\n",
    "\n",
    "z_lower <- (lower - mu) / SE # z score with standard error\n",
    "z_upper <- (upper - mu) / SE # z score with standard error\n",
    "cat(\"P(\",z_lower,\"< Z <\", z_upper,\")\\n\")"
   ]
  },
  {
   "cell_type": "code",
   "execution_count": 33,
   "id": "eff27eac-ec4e-4137-8977-c4caebeef315",
   "metadata": {},
   "outputs": [
    {
     "name": "stdout",
     "output_type": "stream",
     "text": [
      "Probability that the sample mean falls within the interval: 31.95804 %\n"
     ]
    }
   ],
   "source": [
    "# Calculate the probabilities\n",
    "p_lower <- pnorm(z_lower)\n",
    "p_upper <- pnorm(z_upper)\n",
    "\n",
    "# Probability that the sample mean falls within the interval\n",
    "p_interval <- p_upper - p_lower\n",
    "\n",
    "# Result\n",
    "cat(\"Probability that the sample mean falls within the interval:\", 100*p_interval, \"%\\n\")\n"
   ]
  },
  {
   "cell_type": "markdown",
   "id": "9b2e0d10-46e3-48f5-827d-c9e00c6d3089",
   "metadata": {},
   "source": [
    "## Problem 11 (Probability using Central Limit Theorem)"
   ]
  },
  {
   "cell_type": "markdown",
   "id": "e93a5c4a-981a-4277-acf8-513ebc8a64f8",
   "metadata": {},
   "source": [
    "The chemical benzene is highly toxic to humans. However, it is used in the manufacture of many medicine dyes, leather, and coverings. Government regulations dictate that for any production process involving benzene, the water in the output of the process must not exceed 7950 parts per million (ppm) of benzene. For a particular process of concern, the water sample was collected by a manufacturer 25 times randomly and the sample average x was 7960 ppm. It is known from historical data that the standard deviation σ is 100 ppm. \n",
    "\n",
    "(a) What is the probability that the sample average in this experiment would exceed the government limit if the population mean is equal to the limit? Use the Central Limit Theorem. \n",
    "\n",
    "(b) Is an observed x = 7960 in this experiment firm evidence that the population mean for the process exceeds the government limit? \n",
    "\n",
    "Answer your question by computing P(Xbar ≥ 7960 | μ = 7950). \n",
    "\n",
    "Assume that the distribution of benzene concentration is normal. \n"
   ]
  },
  {
   "cell_type": "code",
   "execution_count": 18,
   "id": "4515344d-6bf6-4853-962e-68c0da4426cb",
   "metadata": {},
   "outputs": [],
   "source": [
    "population_mean <- 7950 # (ppm) (government limit) = \"mu\"\n",
    "sample_mean <- 7960 # (ppm) = \"x bar\"\n",
    "n <- 25 # (water sample) sample size\n",
    "sigma <- 100 # (ppm) standard deviation\n",
    "SE <- sigma / sqrt(n) # Standard error\n"
   ]
  },
  {
   "cell_type": "code",
   "execution_count": 19,
   "id": "f25b4ef1-2189-4916-ad1f-bde096d8bbab",
   "metadata": {},
   "outputs": [
    {
     "name": "stdout",
     "output_type": "stream",
     "text": [
      "P(Z> 0.5 ) = 1-P(Z <= 0.5 )\n",
      "The probability that the sample average exceeds the government limit is 30.85375 %\n"
     ]
    }
   ],
   "source": [
    "# (a)\n",
    "z_score <- (sample_mean - population_mean) / SE\n",
    "cat(\"P(Z>\", z_score, \") = 1−P(Z <=\", z_score, \")\\n\")\n",
    "\n",
    "# Calculate probability that the sample mean exceeds 7960\n",
    "prob_exceed <- 1 - pnorm(z_score)\n",
    "\n",
    "# Result\n",
    "cat(\"The probability that the sample average exceeds the government limit is\", 100*prob_exceed, \"%\\n\")"
   ]
  },
  {
   "cell_type": "markdown",
   "id": "4e7df912-a42a-4c6d-b480-cc78573fb27f",
   "metadata": {},
   "source": [
    "b) This probability is the same as in part (a) since we already calculated the probability that Xˉ exceeds 7960 ppm when the population mean is 7950 ppm. Since the probability P(Xˉ ≥ 7960 ∣ mu = 7950) is not very low, the observed sample mean of 7960 is not strong evidence that the population mean exceeds the government limit. A smaller probability would indicate stronger evidence against the null hypothesis."
   ]
  },
  {
   "cell_type": "code",
   "execution_count": 21,
   "id": "17615710-90ac-4844-b043-0ed1c590cb04",
   "metadata": {},
   "outputs": [
    {
     "name": "stdout",
     "output_type": "stream",
     "text": [
      "P(Xbar = 7960 | µ = 7950) = 0.3085375 \n"
     ]
    }
   ],
   "source": [
    "# Calculate the probability\n",
    "p_value <- 1 - pnorm(0.5)\n",
    "\n",
    "# Display the result\n",
    "cat(\"P(Xbar ≥ 7960 | μ = 7950) =\", p_value, \"\\n\")\n"
   ]
  },
  {
   "cell_type": "markdown",
   "id": "08267744-b468-49c5-99bc-36dce1285df1",
   "metadata": {},
   "source": [
    "## Problem 12 (Confidence Interval)"
   ]
  },
  {
   "cell_type": "markdown",
   "id": "f746f70e-5409-448b-a890-e7ea408c0bd8",
   "metadata": {},
   "source": [
    "A random sample of 100 automobile owners in the state of Maryland shows that an automobile is driven on average 23,500 kilometers per year with a standard deviation of 3900 kilometers. Assume the distribution of measurements to be approximately normal. \n",
    "\n",
    "(a) Construct a 99% confidence interval for the average number of kilometers an automobile is driven annually in Maryland. \n",
    "\n",
    "(b) What can we assert with 99% confidence about the possible size of our error if we estimate the average number of kilometers driven by car owners in Maryland to be 23,500 kilometers per year? \n"
   ]
  },
  {
   "cell_type": "code",
   "execution_count": 28,
   "id": "8a28a208-d4d7-4cb4-99ef-b280831220d0",
   "metadata": {},
   "outputs": [
    {
     "name": "stdout",
     "output_type": "stream",
     "text": [
      "Z-score for 99% confidence level: 2.575829 \n",
      "Confidence Interval of a 99% for the average number of kilometers is [ 22495.43 , 24504.57 ]"
     ]
    }
   ],
   "source": [
    "sample_mean <- 23500 # (km) = \"x bar\"\n",
    "s <- 3900 # (km) = sample standard deviation\n",
    "n <- 100 # sample size \n",
    "SE <- s / sqrt(n)\n",
    "\n",
    "# (a)\n",
    "alpha <- (1 - 0.99) / 2 # assumming 99% confidence level with two tails\n",
    "\n",
    "# Find Z-score for 99% confidence level\n",
    "z_score <- qnorm(1 - alpha)\n",
    "cat(\"Z-score for 99% confidence level:\", z_score, \"\\n\")\n",
    "\n",
    "lower_bound <- sample_mean - (z_score * SE)\n",
    "upper_bound <- sample_mean + (z_score * SE)\n",
    "\n",
    "cat(\"Confidence Interval of a 99% for the average number of kilometers is [\",lower_bound,\",\",upper_bound,\"]\")"
   ]
  },
  {
   "cell_type": "code",
   "execution_count": 30,
   "id": "269cc637-dac1-458f-926e-52ce42627548",
   "metadata": {},
   "outputs": [
    {
     "name": "stdout",
     "output_type": "stream",
     "text": [
      "Margin of Error at 99% Confidence Level: 1004.573 kilometers."
     ]
    }
   ],
   "source": [
    "# (b)\n",
    "margin_of_error <- (z_score * SE)\n",
    "cat(\"Margin of Error at 99% Confidence Level:\", margin_of_error, \"kilometers.\")"
   ]
  },
  {
   "cell_type": "markdown",
   "id": "ec981f0f-929c-4af4-863b-fce801c7440c",
   "metadata": {},
   "source": [
    "## Problem 13 (Welch's T-Test)"
   ]
  },
  {
   "cell_type": "markdown",
   "id": "be93780d-ad4b-419b-8027-0b48a12ccbfa",
   "metadata": {},
   "source": [
    "A taxi company is trying to decide whether to purchase brand A or brand B tires for its fleet of taxis. To estimate the difference in the two brands, an experiment is conducted using 12 of each brand. The tires are run until they wear out. The results are:  \n",
    "\n",
    "Brand A:   \tx1 bar = 36,300 x kilometers,\n",
    "     \t\ts1 = 5,000 kilometers. \n",
    "\n",
    "Brand B:   \tx2 bar = 38,100 x kilometers,\n",
    "         \ts2 = 6,100 s kilometers. \n",
    "\n",
    "Compute a 95% confidence interval for μA – μB assuming the populations to be approximately normally distributed. You may not assume that the variances are equal. \n"
   ]
  },
  {
   "cell_type": "code",
   "execution_count": 44,
   "id": "6bc1eb2c-2bb5-4651-a638-372aee0084b8",
   "metadata": {},
   "outputs": [
    {
     "name": "stdout",
     "output_type": "stream",
     "text": [
      "Degrees of Freedom : 21.18395 \n",
      "T Value : 2.078515 \n",
      "95% Confidence Interval is [ -6532.522 , 2932.522 ]"
     ]
    }
   ],
   "source": [
    "# Sample data\n",
    "x1_bar <- 36300  # Mean for Brand A\n",
    "s1 <- 5000       # Standard deviation for Brand A\n",
    "n1 <- 12         # Sample size for Brand A\n",
    "\n",
    "x2_bar <- 38100  # Mean for Brand B\n",
    "s2 <- 6100       # Standard deviation for Brand B\n",
    "n2 <- 12         # Sample size for Brand B\n",
    "\n",
    "# Degrees of freedom calculation for Welch's t-test\n",
    "numerator <- (s1^2 / n1 + s2^2 / n2)^2\n",
    "denominator <- ((s1^2 / n1)^2 / (n1 - 1)) + ((s2^2 / n2)^2 / (n2 - 1))\n",
    "df <- numerator / denominator\n",
    "\n",
    "# Critical t-value for 95% confidence interval\n",
    "alpha <- (1 - 0.95) / 2 # two-tailed, 95% CI\n",
    "t_value <- qt(1 - alpha, df)  # two-tailed, 95% CI\n",
    "\n",
    "# Margin of error\n",
    "margin_of_error <- t_value * sqrt(s1^2 / n1 + s2^2 / n2)\n",
    "\n",
    "# Confidence interval\n",
    "lower_bound <- (x1_bar - x2_bar) - margin_of_error\n",
    "upper_bound <- (x1_bar - x2_bar) + margin_of_error\n",
    "\n",
    "cat(\"Degrees of Freedom :\", df, \"\\n\")\n",
    "cat(\"T Value :\", t_value, \"\\n\")\n",
    "cat(\"95% Confidence Interval is [\",lower_bound,\",\",upper_bound,\"]\")"
   ]
  },
  {
   "cell_type": "markdown",
   "id": "276d7f44-f442-4697-8eb4-bef8494ce7ca",
   "metadata": {},
   "source": [
    "## Problem 14 (Confidence Interval using Sample Porportion)"
   ]
  },
  {
   "cell_type": "markdown",
   "id": "9d2c3293-6254-4e60-aac2-b984259041cb",
   "metadata": {},
   "source": [
    "According to a report in the New York Times, approximately 2/3 of 1600 \n",
    "adults polled by telephone said they think the space shuttle program is a \n",
    "good investment for the country. \n",
    "\n",
    "a) Find a 95% confidence interval for the proportion of American adults who think the space shuttle program is a good investment for the country. \n",
    "\n",
    "b) What can we assert with 95% confidence about the possible size of our error if we estimate the proportion of American adults who think the space shuttle program is a good investment to be 2/3? \n"
   ]
  },
  {
   "cell_type": "code",
   "execution_count": 53,
   "id": "67db0912-c3d5-4bda-897f-4b10dd9cb4c7",
   "metadata": {},
   "outputs": [
    {
     "name": "stdout",
     "output_type": "stream",
     "text": [
      "Margin of error: 0.0230984 \n",
      "95% Confidence Interval is [ 0.6435683 , 0.6897651 ]"
     ]
    }
   ],
   "source": [
    "# (a)\n",
    "p_hat <- 2/3  # Sample proportion\n",
    "n <- 1600     # Sample size\n",
    "\n",
    "# Standard error calculation\n",
    "SE <- sqrt(p_hat * (1 - p_hat) / n)\n",
    "\n",
    "# Critical value for 95% confidence level\n",
    "alpha <- (1 - 0.95) / 2 # two-tailed, 95% CI\n",
    "z_star <- qnorm(1 - alpha)  # Two-tailed\n",
    "\n",
    "# Margin of error\n",
    "margin_of_error <- z_star * SE\n",
    "\n",
    "# Confidence interval\n",
    "lower_bound <- p_hat - ME\n",
    "upper_bound <- p_hat + ME\n",
    "\n",
    "# Results\n",
    "cat(\"Margin of error:\", margin_of_error, \"\\n\")\n",
    "cat(\"95% Confidence Interval is [\",lower_bound,\",\",upper_bound,\"]\")"
   ]
  },
  {
   "cell_type": "markdown",
   "id": "5bf81bb1-66b5-4d02-8e19-9eb69c8fb3cf",
   "metadata": {},
   "source": [
    "b) We can assert that there is a 2% error in our 95% confidence interval. This shows that most American adults who think the space shuttle program is a good investment lie in the 2/3. "
   ]
  },
  {
   "cell_type": "markdown",
   "id": "bab51805-49f4-476d-8e6f-c23ae02b9377",
   "metadata": {},
   "source": [
    "## Problem 15 (Confidence Interval of Ratio of Variance)"
   ]
  },
  {
   "cell_type": "markdown",
   "id": "7407c284-462c-4d92-9013-e5d4e5232aeb",
   "metadata": {},
   "source": [
    "Refer to question #13 and Construct a 90% confidence interval for 𝛔^(2)sub1 / 𝛔^(2)sub2 Were we justified in assuming that 𝛔^(2)sub1 ≠ 𝛔^(2)sub2 when we constructed the confidence interval for μsub1 – μsub2? "
   ]
  },
  {
   "cell_type": "code",
   "execution_count": 56,
   "id": "bdd31981-97d6-42a0-88b4-4152350d8692",
   "metadata": {},
   "outputs": [
    {
     "name": "stdout",
     "output_type": "stream",
     "text": [
      "90% confidence interval for the ratio of variances:\n",
      "( 0.2384241 , 1.893262 )\n"
     ]
    }
   ],
   "source": [
    "# Sample data from question 13 above\n",
    "n1 <- 12   # sample size\n",
    "s1 <- 5000 # sample variance\n",
    "n2 <- 12   # sample size\n",
    "s2 <- 6100 # sample variance\n",
    "\n",
    "# Compute sample variances\n",
    "s1_sq <- s1^2\n",
    "s2_sq <- s2^2\n",
    "\n",
    "# Compute F-statistic\n",
    "F <- s1_sq / s2_sq\n",
    "\n",
    "# Degrees of freedom\n",
    "df1 <- n1 - 1\n",
    "df2 <- n2 - 1\n",
    "\n",
    "# Compute critical values for F-distribution\n",
    "alpha <- 1 - 0.90 # assuming 90% confidence\n",
    "F_critical_upper <- qf(1 - alpha / 2, df1, df2)\n",
    "F_critical_lower <- qf(alpha / 2, df1, df2)\n",
    "\n",
    "# Compute confidence interval\n",
    "CI_lower <- F / F_critical_upper\n",
    "CI_upper <- F / F_critical_lower\n",
    "\n",
    "# Print results\n",
    "cat(\"90% confidence interval for the ratio of variances:\\n\")\n",
    "cat(\"(\", CI_lower, \",\", CI_upper, \")\\n\")\n"
   ]
  },
  {
   "cell_type": "markdown",
   "id": "c1b1430a-c806-40ab-9181-61a5be5997d3",
   "metadata": {},
   "source": [
    "Since the confidence interval includes 1, it suggests that there isn't a significant difference between the variances of the two tire brands. In other words, we cannot reject the null hypothesis (h_0) that the variances are equal.\n",
    "\n",
    "The interval including 1 implies that assuming equal variances when constructing the confidence interval for the mean difference μ1 − μ2 was justified. If the interval had not included 1, it would have suggested a significant difference in variances, assuming equal variances were questionable."
   ]
  },
  {
   "cell_type": "markdown",
   "id": "ece998b7-c603-46e3-b42e-fa1e856fe8c3",
   "metadata": {},
   "source": [
    "## Problem 16 ()"
   ]
  },
  {
   "cell_type": "markdown",
   "id": "2542374f-0558-4b6b-864f-8e107018509f",
   "metadata": {},
   "source": [
    "A new curing process developed for a certain type of cement results in a mean compressive strength of 5000 kilograms per square centimeter with a standard deviation of 120 kilograms. To test the hypothesis that μ = 5000 against the alternative that μ < 5000, a random sample of 50 pieces of cement is tested. The critical region is defined to be x < 4790\n",
    "\n",
    "(a) Find the probability of committing a type I error when Hsub0 is true. \n",
    "\n",
    "(b) Evaluate β for the alternatives μ = 4970 and μ = 4960. \n"
   ]
  },
  {
   "cell_type": "code",
   "execution_count": 81,
   "id": "6eb588ca-be12-467d-aa50-d38bf9e30aa3",
   "metadata": {},
   "outputs": [
    {
     "data": {
      "text/html": [
       "1.79855786432353e-35"
      ],
      "text/latex": [
       "1.79855786432353e-35"
      ],
      "text/markdown": [
       "1.79855786432353e-35"
      ],
      "text/plain": [
       "[1] 1.798558e-35"
      ]
     },
     "metadata": {},
     "output_type": "display_data"
    }
   ],
   "source": [
    "# (a)\n",
    "mu_0 <- 5000 # population mean\n",
    "sigma <- 120 # population standard deviation\n",
    "n <- 50 # sample size\n",
    "\n",
    "# Critical Region: x < 4790\n",
    "x_critical <- 4790\n",
    "\n",
    "# Null Hypothesis (H_0):  mu_0 = 5000\n",
    "# Alternative Hypothesis (H_1): mu < 5000\n",
    "H_0 <- 5000\n",
    "\n",
    "# Probability of Committing a Type I Error (alpha)\n",
    "SE <- sigma / sqrt(n)\n",
    "z_score_H_0 <- (x_critical - H_0) / SE\n",
    "\n",
    "# Probability of committing a Type I error (alpha)\n",
    "alpha <- pnorm(z_score_H_0)\n",
    "alpha"
   ]
  },
  {
   "cell_type": "markdown",
   "id": "ba60df02-5edc-4481-90f2-2cfa012eff8d",
   "metadata": {},
   "source": [
    "Type I Error (α): \n",
    "\n",
    "The probability of committing a Type I error when the null hypothesis (H_0: μ=5000) is true was computed using the critical region x < 4790. If the computed value was very small (or near zero), it indicates a low chance of rejecting H_0 incorrectly when it is true."
   ]
  },
  {
   "cell_type": "code",
   "execution_count": 75,
   "id": "89dce98b-d781-4a10-b6c5-df9a5fadd946",
   "metadata": {},
   "outputs": [
    {
     "data": {
      "text/html": [
       "<style>\n",
       ".dl-inline {width: auto; margin:0; padding: 0}\n",
       ".dl-inline>dt, .dl-inline>dd {float: none; width: auto; display: inline-block}\n",
       ".dl-inline>dt::after {content: \":\\0020\"; padding-right: .5ex}\n",
       ".dl-inline>dt:not(:first-of-type) {padding-left: .5ex}\n",
       "</style><dl class=dl-inline><dt>mu = 4970</dt><dd>1.38832469301528e-26</dd><dt>mu = 4960</dt><dd>6.39454867506485e-24</dd></dl>\n"
      ],
      "text/latex": [
       "\\begin{description*}\n",
       "\\item[mu = 4970] 1.38832469301528e-26\n",
       "\\item[mu = 4960] 6.39454867506485e-24\n",
       "\\end{description*}\n"
      ],
      "text/markdown": [
       "mu = 4970\n",
       ":   1.38832469301528e-26mu = 4960\n",
       ":   6.39454867506485e-24\n",
       "\n"
      ],
      "text/plain": [
       "   mu = 4970    mu = 4960 \n",
       "1.388325e-26 6.394549e-24 "
      ]
     },
     "metadata": {},
     "output_type": "display_data"
    }
   ],
   "source": [
    "# Given alternative means\n",
    "mu_alternatives <- c(4970, 4960)\n",
    "\n",
    "# Compute beta for each alternative mean\n",
    "beta_values <- sapply(mu_alternatives, function(mu_alternative) {\n",
    "  # Standard error of the mean for the alternative hypothesis\n",
    "  se_alternative <- sigma / sqrt(n)\n",
    "  \n",
    "  # Z-score for the critical value under the alternative hypothesis\n",
    "  z_critical_alternative <- (x_critical - mu_alternative) / se_alternative\n",
    "  \n",
    "  # Probability of not rejecting H0 (beta)\n",
    "  beta <- pnorm(z_critical_alternative)\n",
    "  \n",
    "  beta\n",
    "})\n",
    "\n",
    "names(beta_values) <- c(\"mu = 4970\", \"mu = 4960\")\n",
    "beta_values\n"
   ]
  },
  {
   "cell_type": "markdown",
   "id": "cfaac737-8d7f-4aca-b71e-093304d0f82b",
   "metadata": {},
   "source": [
    "Type II Error (β) for μ=4970:\n",
    "\n",
    "The probability value of approximately 1.388×10^(−26) is essentially zero. This means that if the true mean is 4970, the probability of not rejecting the null hypothesis (H_0) is extremely low. The test is very powerful against this alternative.\n",
    "\n",
    "Type II Error (β) for μ=4960:\n",
    "\n",
    "Similarly, the probability value of approximately 6.395 × 10^(−24) is also nearly zero. This indicates that if the true mean is 4960, the probability of failing to reject H_0 is practically zero. Again, the test is very powerful.\n"
   ]
  },
  {
   "cell_type": "markdown",
   "id": "133e0793-0421-44f7-a098-20d63631dfb4",
   "metadata": {},
   "source": [
    "## Problem 17 (T-Statistic & P-Value)"
   ]
  },
  {
   "cell_type": "markdown",
   "id": "f99138e9-199a-4117-98ee-1cd008fc01f4",
   "metadata": {},
   "source": [
    "It is claimed that automobiles are driven on average more than 20,000 kilometers per year. To test this claim, 100 randomly selected automobile owners are asked to keep a record of the kilometers they travel. Would you agree with this claim if the random sample showed an average of 23,500 kilometers and a standard deviation of 3900 kilometers? Use a P value in your conclusion. "
   ]
  },
  {
   "cell_type": "code",
   "execution_count": 86,
   "id": "50713bc7-61d0-4708-8cd4-17006979a975",
   "metadata": {},
   "outputs": [
    {
     "name": "stdout",
     "output_type": "stream",
     "text": [
      "t-statistic: 8.974359 \n",
      "p-value: 9.418944e-15 \n"
     ]
    }
   ],
   "source": [
    "x_bar <- 23500  # Sample mean\n",
    "s <- 3900       # Sample standard deviation\n",
    "n <- 100        # Sample size\n",
    "\n",
    "# Hypothesized mean, Null Hypothesis (H_0): mu = 20,000\n",
    "# Alternative Hypothesis (H_1): mu > 20,000\n",
    "mu0 <- 20000\n",
    "\n",
    "# Calculate t-statistic\n",
    "t_statistic <- (x_bar - mu0) / (s / sqrt(n))\n",
    "\n",
    "# Degrees of freedom\n",
    "df <- n - 1\n",
    "\n",
    "# Calculate P-value (one-tailed test)\n",
    "p_value <- pt(t_statistic, df, lower.tail = FALSE)\n",
    "\n",
    "# Results\n",
    "cat(\"t-statistic:\", t_statistic,\"\\n\")\n",
    "cat(\"p-value:\", p_value,\"\\n\")\n"
   ]
  },
  {
   "cell_type": "markdown",
   "id": "e72ba0b7-3476-42bb-ace8-648c6b082f3e",
   "metadata": {},
   "source": [
    "Since the p-value (0.000000000000009418944) is much smaller than the typical significance level (α = 0.05), we reject the null hypothesis. This means strong statistical evidence supports the claim that automobiles are driven on average more than 20,000 kilometers per year. Based on the sample data, you should agree with the claim that automobiles are driven more than 20,000 kilometers per year on average."
   ]
  },
  {
   "cell_type": "markdown",
   "id": "e697b6ae-bf96-40d9-8e8e-8f853b5e73ec",
   "metadata": {},
   "source": [
    "\n",
    "\n",
    "For Context, the t-test is used in this context because the population standard deviation is unknown, and the t-distribution provides a more accurate model of the sampling distribution of the mean when using the sample standard deviation. For large samples like this one, the difference between t and z is minimal, but the t-test still accounts for the estimation of the standard deviation, providing more reliable results."
   ]
  },
  {
   "cell_type": "markdown",
   "id": "0a41a39e-ed33-4c10-b15b-759116c4834c",
   "metadata": {},
   "source": [
    "## Problem 18 (T-Test, equal variance, two groups)"
   ]
  },
  {
   "cell_type": "markdown",
   "id": "ea7ad5dc-f8b4-440b-94f6-564e926a2a7b",
   "metadata": {},
   "source": [
    "To find out whether a new serum will arrest leukemia, 9 mice, all with an advanced stage of the disease, are selected. Five mice receive the treatment and 4 do not. Survival times, in years, from the time the experiment commenced are as follows: \n",
    "\n",
    "Treatment \t\t2.1 5.3 1.4 4.6 0.9\n",
    "\n",
    "No Treatment \t1.9 0.5 2.8 3.1  \n",
    "\n",
    "At the 0.05 level of significance, can the serum be said to be effective? Assume the two populations to be normally distributed with equal variances. \n"
   ]
  },
  {
   "cell_type": "code",
   "execution_count": 88,
   "id": "a787b873-0f29-4e79-a611-012a4af0e5e3",
   "metadata": {},
   "outputs": [
    {
     "data": {
      "text/plain": [
       "\n",
       "\tTwo Sample t-test\n",
       "\n",
       "data:  treatment and no_treatment\n",
       "t = 0.69899, df = 7, p-value = 0.5071\n",
       "alternative hypothesis: true difference in means is not equal to 0\n",
       "95 percent confidence interval:\n",
       " -1.870604  3.440604\n",
       "sample estimates:\n",
       "mean of x mean of y \n",
       "    2.860     2.075 \n"
      ]
     },
     "metadata": {},
     "output_type": "display_data"
    }
   ],
   "source": [
    "# Survival times for the treatment group\n",
    "treatment <- c(2.1, 5.3, 1.4, 4.6, 0.9)\n",
    "\n",
    "# Survival times for the no-treatment group\n",
    "no_treatment <- c(1.9, 0.5, 2.8, 3.1)\n",
    "\n",
    "# Perform the two-sample t-test\n",
    "t_test_result <- t.test(treatment, no_treatment, var.equal = TRUE)\n",
    "\n",
    "# Display the results\n",
    "t_test_result\n"
   ]
  },
  {
   "cell_type": "markdown",
   "id": "3cb99cca-ef69-4ef2-a2ca-5b2eb0171b1b",
   "metadata": {},
   "source": [
    "The p-value of 0.5071 is greater than the significance level of 0.05. This means we fail to reject the null hypothesis. There is not enough statistical evidence to suggest a significant difference in survival times between the treatment and no-treatment groups.\n",
    "\n",
    "The 95% confidence interval for the difference in means (-1.870604, 3.440604) includes zero. This further supports the conclusion that there is no statistically significant difference between the two groups.\n",
    "\n",
    "At the 0.05 significance level, we do not have sufficient evidence to conclude that the serum has a significant effect on survival times in this experiment. Therefore, based on this sample data, we cannot say that the serum is effective in arresting leukemia in mice."
   ]
  },
  {
   "cell_type": "markdown",
   "id": "7605de73-f4b8-4ebe-b83d-2830ac18ff36",
   "metadata": {},
   "source": [
    "## Problem 19 ()"
   ]
  },
  {
   "cell_type": "markdown",
   "id": "da42ab74-17a7-4593-858f-ef64f2efc259",
   "metadata": {},
   "source": [
    "A study is conducted to compare the lengths of time required by men and women to assemble a certain product. Past experience indicates that the distribution of times for both men and women is approximately normal but the variance of the times for women is less than that for men. A random sample of times for 11 men and 14 women produced the following data: \n",
    "\n",
    "Men \t\t\tWomen \n",
    "\n",
    "𝛔^(2)sub1 > 𝛔^(2)sub2 nsub1 = 11\tnsub2 = 11\n",
    "\n",
    "ssub1 = 6.1\t\tssub2 = 5.3\n",
    "\n",
    "Test the hypothesis that 𝛔^(2)sub1 = 𝛔^(2)sub2 against the alternative that 𝛔^(2)sub1 > 𝛔^(2)sub2. Use a P-value in your conclusion. \n",
    "\n",
    "- Null hypothesis (H_0): σ^(1)sub2 = σ^(2)sub2 (The variances of assembly times for men and women are equal.)\n",
    "- Alternative hypothesis (H_1): σ^(1)sub2 > σ^(2)sub2 (The variance of assembly times for men is greater than that for women.)\n"
   ]
  },
  {
   "cell_type": "code",
   "execution_count": 91,
   "id": "2b538b39-e3de-4382-b73f-551536dd9d82",
   "metadata": {},
   "outputs": [
    {
     "name": "stdout",
     "output_type": "stream",
     "text": [
      "F-statistic: 1.150943 \n",
      "P-Value: 0.3982058"
     ]
    }
   ],
   "source": [
    "s2_1 <- 6.1  # Variance for men\n",
    "s2_2 <- 5.3  # Variance for women\n",
    "n1 <- 11     # Sample size for men\n",
    "n2 <- 14     # Sample size for women\n",
    "\n",
    "# Calculate the F-statistic\n",
    "F_statistic <- s2_1 / s2_2\n",
    "\n",
    "# Degrees of freedom\n",
    "df1 <- n1 - 1\n",
    "df2 <- n2 - 1\n",
    "\n",
    "# Calculate the p-value (one-tailed test)\n",
    "p_value <- pf(F_statistic, df1, df2, lower.tail = FALSE)\n",
    "\n",
    "# Results\n",
    "cat(\"F-statistic:\", F_statistic, \"\\n\")\n",
    "cat(\"P-Value:\", p_value)"
   ]
  },
  {
   "cell_type": "markdown",
   "id": "bf8f4afa-dc50-4c01-b818-902e998efa3b",
   "metadata": {},
   "source": [
    "Since p-value (0.398) ≥ 0.05, we fail to reject the null hypothesis. There is not enough statistical evidence to conclude that the variance of assembly times for men is greater than that for women. Based on this sample, we do not find significant support for the claim that the variance in assembly times for men is larger compared to the variance for women."
   ]
  },
  {
   "cell_type": "markdown",
   "id": "60d32d3a-4513-459c-9f18-58508738aad4",
   "metadata": {},
   "source": [
    "## Problem 20 ()"
   ]
  },
  {
   "attachments": {},
   "cell_type": "markdown",
   "id": "51f2b6d8-732a-472d-8b4a-3a470d4b1054",
   "metadata": {},
   "source": [
    "The number of advertisements through TV channels and the amount of \n",
    "revenue (total sales) generated for Safeway Food Store products are listed \n",
    "below:\n",
    "\n",
    "Products \tNumber of Advertisements \tTotal Sales ($000) \n",
    "\n",
    "Meat\t20\t30\n",
    "\n",
    "Dairy \t40\t60\n",
    "\n",
    "Fish \t20\t40\n",
    "\n",
    "Soda \t30\t60\n",
    "\n",
    "Vegetables \t10\t30\n",
    "\n",
    "Chops and Dips \t10\t40\n",
    "\n",
    "Frozen Foods \t20\t40\n",
    "\n",
    "Sanitary \t20\t50\n",
    "\n",
    "Paper Goods \t20\t30\n",
    "\n",
    "Wine and Beer \t30\t70\n",
    "\n",
    "(a) Calculate r. \n",
    "\n",
    "\n",
    "(b) Test the null hypothesis that ρ = −0.5 against the alternative that ρ < −0.5 at the 0.025 level of significance.  \n",
    "\n",
    "(c) Find the equation of the regression line to predict the total sales revenue from the advertisements. \n",
    "\n",
    "(d) Estimate the amount of revenue generated when the 22 advertisements are made.  \n",
    "\n",
    "(e) Determine the percentage of the variation (coefficient of determination) in the amount of revenue generated due to changes in the number of advertisements. Explain the meaning of coefficient of determination. \n",
    "\n",
    "(f) Find the standard error of the estimates and explain the results \n",
    "\n",
    "(g) Test the hypothesis of the regression coefficient at 0.01 level of significance \n",
    "\n",
    "(h) Find the f - value\n"
   ]
  },
  {
   "cell_type": "code",
   "execution_count": 94,
   "id": "b9476eee-940c-46c9-be2e-dca53afd752f",
   "metadata": {},
   "outputs": [
    {
     "data": {
      "text/plain": [
       "$correlation\n",
       "[1] 0.7590141\n",
       "\n",
       "$t_statistic\n",
       "[1] 3.297345\n",
       "\n",
       "$p_value\n",
       "[1] 0.994549\n",
       "\n",
       "$lm_model_summary\n",
       "\n",
       "Call:\n",
       "lm(formula = sales ~ advertisements)\n",
       "\n",
       "Residuals:\n",
       "    Min      1Q  Median      3Q     Max \n",
       "-12.632  -5.395  -1.710   6.908  15.526 \n",
       "\n",
       "Coefficients:\n",
       "               Estimate Std. Error t value Pr(>|t|)  \n",
       "(Intercept)     18.9474     8.4988   2.229   0.0563 .\n",
       "advertisements   1.1842     0.3591   3.297   0.0109 *\n",
       "---\n",
       "Signif. codes:  0 '***' 0.001 '**' 0.01 '*' 0.05 '.' 0.1 ' ' 1\n",
       "\n",
       "Residual standard error: 9.901 on 8 degrees of freedom\n",
       "Multiple R-squared:  0.5761,\tAdjusted R-squared:  0.5231 \n",
       "F-statistic: 10.87 on 1 and 8 DF,  p-value: 0.0109\n",
       "\n",
       "\n",
       "$estimated_sales\n",
       " 1 \n",
       "45 \n",
       "\n",
       "$r_squared\n",
       "[1] 0.5761024\n",
       "\n",
       "$standard_error\n",
       "[1] 9.900824\n",
       "\n",
       "$t_statistic_beta\n",
       "advertisements \n",
       "      3.297345 \n",
       "\n",
       "$p_value_beta\n",
       "advertisements \n",
       "    0.01090193 \n",
       "\n",
       "$f_value\n",
       "   value \n",
       "10.87248 \n"
      ]
     },
     "metadata": {},
     "output_type": "display_data"
    }
   ],
   "source": [
    "# Data\n",
    "advertisements <- c(20, 40, 20, 30, 10, 10, 20, 20, 20, 30)\n",
    "sales <- c(30, 60, 40, 60, 30, 40, 40, 50, 30, 70)\n",
    "\n",
    "# (a) Calculate the correlation coefficient, for linear relationship\n",
    "correlation <- cor(advertisements, sales)\n",
    "\n",
    "# (b) Test the null hypothesis p = -0.5\n",
    "n <- length(advertisements)\n",
    "r <- correlation\n",
    "t_statistic <- r * sqrt((n - 2) / (1 - r^2))\n",
    "p_value <- pt(t_statistic, df = n - 2, lower.tail = TRUE)\n",
    "\n",
    "# (c) Find the regression line\n",
    "lm_model <- lm(sales ~ advertisements)\n",
    "\n",
    "# (d) Estimate revenue for 22 advertisements\n",
    "new_advertisements <- 22\n",
    "estimated_sales <- predict(lm_model, newdata = data.frame(advertisements = new_advertisements))\n",
    "\n",
    "# (e) Coefficient of determination (R^2)\n",
    "r_squared <- summary(lm_model)$r.squared\n",
    "\n",
    "# (f) Standard error of the estimate\n",
    "standard_error <- summary(lm_model)$sigma\n",
    "\n",
    "# (g) Test the hypothesis of the regression coefficient at 0.01 level\n",
    "beta_1 <- coef(lm_model)[2]\n",
    "beta_1_se <- summary(lm_model)$coefficients[2, 2]\n",
    "t_statistic_beta <- beta_1 / beta_1_se\n",
    "p_value_beta <- 2 * pt(abs(t_statistic_beta), df = n - 2, lower.tail = FALSE)\n",
    "\n",
    "# (h) Find the F-value\n",
    "f_value <- summary(lm_model)$fstatistic[1]\n",
    "\n",
    "# Results\n",
    "list(\n",
    "  correlation = correlation,\n",
    "  t_statistic = t_statistic,\n",
    "  p_value = p_value,\n",
    "  lm_model_summary = summary(lm_model),\n",
    "  estimated_sales = estimated_sales,\n",
    "  r_squared = r_squared,\n",
    "  standard_error = standard_error,\n",
    "  t_statistic_beta = t_statistic_beta,\n",
    "  p_value_beta = p_value_beta,\n",
    "  f_value = f_value\n",
    ")\n"
   ]
  },
  {
   "cell_type": "markdown",
   "id": "c1cf1172-cf91-4c34-82a2-3fd67593cf0a",
   "metadata": {},
   "source": [
    "## Problem 21 ()"
   ]
  },
  {
   "attachments": {
    "13337ad7-ef94-4a23-99fe-02eeccfe5120.png": {
     "image/png": "[encoded data removed]"
    }
   },
   "cell_type": "markdown",
   "id": "a519d62a-726a-425d-a432-fdf2a4ab11c2",
   "metadata": {},
   "source": [
    "The heating costs of 20 homes and the variables affecting these costs are \n",
    "given in the table below: \n",
    "\n",
    "![image.png](attachment:13337ad7-ef94-4a23-99fe-02eeccfe5120.png)\n",
    "\n",
    "(a) Find the estimated regression equation. \n",
    "\n",
    "(b) Interpret the coefficients of each independent variable. \n",
    "\n",
    "(c) What is the heating cost of the home if outside temperature is 35 degrees, depth of insulation is 3 inches and the age of furnace is 6 years. \n",
    "\n",
    "(d) Find the multiple standard error of the estimates \n",
    "\n",
    "(e) Find the coefficient of multiple determination \n",
    "\n",
    "(f) Find the adjusted coefficient of determination. \n",
    "\n",
    "(g) Conduct a hypothesis test to determine whether a set of regression coefficients differ from zero. \n",
    "\n",
    "(h)  Use the t-test to show that both temperature and insulation are significantly affecting the heating cost and show their p-values from your computer printout or calculation.  "
   ]
  },
  {
   "cell_type": "code",
   "execution_count": 100,
   "id": "fc38dbee-a90a-4d92-9fc1-53bff38dff50",
   "metadata": {},
   "outputs": [
    {
     "data": {
      "text/plain": [
       "$regression_summary\n",
       "\n",
       "Call:\n",
       "lm(formula = heating_cost ~ temperature + insulation + age_furnace)\n",
       "\n",
       "Residuals:\n",
       "    Min      1Q  Median      3Q     Max \n",
       "-77.403 -35.492  -1.062  26.642  88.146 \n",
       "\n",
       "Coefficients:\n",
       "            Estimate Std. Error t value Pr(>|t|)    \n",
       "(Intercept) 427.1938    59.6014   7.168 2.24e-06 ***\n",
       "temperature  -4.5827     0.7723  -5.934 2.10e-05 ***\n",
       "insulation  -14.8309     4.7544  -3.119  0.00661 ** \n",
       "age_furnace   6.1010     4.0121   1.521  0.14786    \n",
       "---\n",
       "Signif. codes:  0 '***' 0.001 '**' 0.01 '*' 0.05 '.' 0.1 ' ' 1\n",
       "\n",
       "Residual standard error: 51.05 on 16 degrees of freedom\n",
       "Multiple R-squared:  0.8042,\tAdjusted R-squared:  0.7675 \n",
       "F-statistic:  21.9 on 3 and 16 DF,  p-value: 6.562e-06\n",
       "\n",
       "\n",
       "$predicted_cost\n",
       "       1 \n",
       "258.9142 \n",
       "\n",
       "$std_error\n",
       "[1] 51.04855\n",
       "\n",
       "$r_squared\n",
       "[1] 0.8041701\n",
       "\n",
       "$adj_r_squared\n",
       "[1] 0.767452\n",
       "\n",
       "$coefficients_summary\n",
       "              Estimate Std. Error   t value     Pr(>|t|)\n",
       "(Intercept) 427.193803 59.6014293  7.167509 2.237642e-06\n",
       "temperature  -4.582663  0.7723194 -5.933637 2.100350e-05\n",
       "insulation  -14.830863  4.7544123 -3.119389 6.605963e-03\n",
       "age_furnace   6.101032  4.0121202  1.520650 1.478625e-01\n",
       "\n",
       "$temperature_t\n",
       "[1] -5.933637\n",
       "\n",
       "$temperature_p\n",
       "[1] 2.10035e-05\n",
       "\n",
       "$insulation_t\n",
       "[1] -3.119389\n",
       "\n",
       "$insulation_p\n",
       "[1] 0.006605963\n"
      ]
     },
     "metadata": {},
     "output_type": "display_data"
    }
   ],
   "source": [
    "# Data\n",
    "heating_cost <- c(250, 360, 165, 43, 92, 200, 355, 290, 230, 120, 73, 205, 400, 320, 72, 272, 94, 190, 235, 139)\n",
    "temperature <- c(35, 29, 36, 60, 65, 30, 10, 7, 21, 55, 54, 48, 20, 39, 60, 20, 58, 40, 27, 30)\n",
    "insulation <- c(3, 4, 7, 6, 5, 5, 6, 10, 9, 2, 12, 5, 5, 4, 8, 5, 7, 8, 9, 7)\n",
    "age_furnace <- c(6, 10, 3, 9, 6, 5, 7, 10, 11, 5, 4, 1, 15, 7, 6, 8, 3, 11, 8, 5)\n",
    "\n",
    "# (a) Linear regression\n",
    "model <- lm(heating_cost ~ temperature + insulation + age_furnace)\n",
    "\n",
    "# (b) Interpret coefficients\n",
    "# interpret summary of data\n",
    "\n",
    "# (c) Predict heating cost for given values\n",
    "new_data <- data.frame(temperature = 35, insulation = 3, age_furnace = 6)\n",
    "predicted_cost <- predict(model, newdata = new_data)\n",
    "\n",
    "# (d) Standard error of estimates\n",
    "std_error <- summary(model)$sigma\n",
    "\n",
    "# (e) Coefficient of multiple determination (R^2)\n",
    "r_squared <- summary(model)$r.squared\n",
    "\n",
    "# (f) Adjusted R^2\n",
    "adj_r_squared <- summary(model)$adj.r.squared\n",
    "\n",
    "# (g) Hypothesis test for regression coefficients\n",
    "coefficients_summary <- summary(model)$coefficients\n",
    "\n",
    "# (h) T-tests for temperature and insulation\n",
    "temperature_t <- coefficients_summary[\"temperature\", \"t value\"]\n",
    "temperature_p <- coefficients_summary[\"temperature\", \"Pr(>|t|)\"]\n",
    "\n",
    "insulation_t <- coefficients_summary[\"insulation\", \"t value\"]\n",
    "insulation_p <- coefficients_summary[\"insulation\", \"Pr(>|t|)\"]\n",
    "\n",
    "# Results\n",
    "list(\n",
    "  regression_summary = summary(model),\n",
    "  predicted_cost = predicted_cost,\n",
    "  std_error = std_error,\n",
    "  r_squared = r_squared,\n",
    "  adj_r_squared = adj_r_squared,\n",
    "  coefficients_summary = coefficients_summary,\n",
    "  temperature_t = temperature_t,\n",
    "  temperature_p = temperature_p,\n",
    "  insulation_t = insulation_t,\n",
    "  insulation_p = insulation_p\n",
    ")\n"
   ]
  },
  {
   "cell_type": "code",
   "execution_count": null,
   "id": "9a7baddb-eb2a-426c-b1c9-2fa75bc92449",
   "metadata": {},
   "outputs": [],
   "source": []
  },
  {
   "cell_type": "code",
   "execution_count": null,
   "id": "b4a9e485-3182-48ac-b43d-feaf8ddb6d6e",
   "metadata": {},
   "outputs": [],
   "source": []
  }
 ],
 "metadata": {
  "kernelspec": {
   "display_name": "R (r_stat)",
   "language": "R",
   "name": "ir_conda_env"
  },
  "language_info": {
   "codemirror_mode": "r",
   "file_extension": ".r",
   "mimetype": "text/x-r-source",
   "name": "R",
   "pygments_lexer": "r",
   "version": "4.1.3"
  }
 },
 "nbformat": 4,
 "nbformat_minor": 5
}
