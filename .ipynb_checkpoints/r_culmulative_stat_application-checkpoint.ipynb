{
 "cells": [
  {
   "cell_type": "markdown",
   "id": "5768facf-2dd9-46b1-9fb5-9b8d69ee0d6b",
   "metadata": {},
   "source": [
    "# Cumulative Statistical Practical Application"
   ]
  },
  {
   "cell_type": "markdown",
   "id": "3e43d280-3ef0-473a-af94-293c96d4b122",
   "metadata": {},
   "source": [
    "## Problem 1 ()"
   ]
  },
  {
   "cell_type": "markdown",
   "id": "a5909495-b299-43f6-ae07-b541b44e7c7d",
   "metadata": {},
   "source": [
    "Raymond Computer Inc., a manufacturer of computers, buys microchips (or chips) from Hall Electronics, Deltronics and Alpha. Raymond buys 30 percent of microchips from Hall Electronics, 20 percent from Deltronics and 50 percent from Alpha.  Raymond has extensive histories of the three suppliers and knows that 3 percent of the chips purchased from Hall Electronics are defective, 5 percent of chips from Deltronics are defective and 4 percent of chips from Alpha are defective. When the chips arrive at the Raymond, they are placed directly in a bin and not inspected or otherwise identified by a supplier. A worker selects a chip for installation in the computer and finds it defective. What is the probability (using Bayes’ Theorem) that it was manufactured by Deltronics?  "
   ]
  },
  {
   "cell_type": "code",
   "execution_count": 4,
   "id": "45dfbbc3-f0b3-4c6e-a613-33c769ef0f14",
   "metadata": {},
   "outputs": [
    {
     "data": {
      "text/html": [
       "0.256410256410256"
      ],
      "text/latex": [
       "0.256410256410256"
      ],
      "text/markdown": [
       "0.256410256410256"
      ],
      "text/plain": [
       "[1] 0.2564103"
      ]
     },
     "metadata": {},
     "output_type": "display_data"
    },
    {
     "name": "stdout",
     "output_type": "stream",
     "text": [
      "25.64103 %\n"
     ]
    }
   ],
   "source": [
    "# Define the probabilities\n",
    "P_H <- 0.30 # probability chip is from Hall Electronics\n",
    "P_DEL <- 0.20 # probability chip is from Deltronics\n",
    "P_A <- 0.50 # probability chip is from Alpha\n",
    "\n",
    "# Percent of defective chips\n",
    "P_D_given_H <- 0.03\n",
    "P_D_given_DEL <- 0.05\n",
    "P_D_given_A <- 0.04\n",
    "\n",
    "# Calculate the total probability of a defective chip\n",
    "P_D <- P_D_given_H * P_H + P_D_given_DEL * P_DEL + P_D_given_A * P_A\n",
    "\n",
    "# Calculate the probability that a defective chip is from Deltronics\n",
    "# Bayes Theorem\n",
    "P_DEL_given_D <- (P_D_given_DEL * P_DEL) / P_D\n",
    "P_DEL_given_D\n",
    "cat(100*P_DEL_given_D, \"%\\n\")"
   ]
  },
  {
   "cell_type": "markdown",
   "id": "5587abdc-cafa-4522-856c-064ccba6e0ad",
   "metadata": {},
   "source": [
    "## Problem 2 ()"
   ]
  },
  {
   "cell_type": "markdown",
   "id": "55ec8b6e-7215-4208-8b33-dd6ae145241a",
   "metadata": {},
   "source": [
    "A sample of executives were surveyed about the loyalty to their company. One of question was “If you were given an offer by another company equal to or slightly better than your position, would you remain with the company or take the position” The responses of 200 executives in the survey were cross-classified with their length of service with the company in the table below: \n",
    " \n",
    "Length of Service (table below in csv format)\n",
    "\n",
    ">Loyalty, Less than 1 year (B1), 1-5  Years (B2),  6-10 Years (B3), More than 10 Years (B4), Total\n",
    ">\n",
    ">Would Remain A1, 10, 30, 5, 75, 120\n",
    ">\n",
    ">Would not remain A2, 25, 15, 10, 30, 80\n",
    "\n",
    "\n",
    "Answer the following questions: \n",
    "\n",
    "(a) What is the probability of selecting an executive with more than 10 years of service? \n",
    "\n",
    "(b) What is the probability of selecting an executive who would not remain with the company given that he or she has more than 10 years of service? \n",
    "\n",
    "(c) What is the probability of selecting an executive with more than 10 years of service or one who would not remain with the company? \n"
   ]
  },
  {
   "cell_type": "code",
   "execution_count": 8,
   "id": "945fbfee-7aa4-4373-9e56-d93ce1009dd7",
   "metadata": {},
   "outputs": [
    {
     "name": "stdout",
     "output_type": "stream",
     "text": [
      "                 Less than 1 year 1-5 Years 6-10 Years More than 10 Years Total\n",
      "Would Remain                   10        30          5                 75   120\n",
      "Would not remain               25        15         10                 30    80\n"
     ]
    }
   ],
   "source": [
    "# Define the data\n",
    "data <- matrix(c(\n",
    "  10, 30, 5, 75, 120,  # Would Remain A1\n",
    "  25, 15, 10, 30, 80   # Would not remain A2\n",
    "), nrow = 2, byrow = TRUE)\n",
    "\n",
    "# Set row and column names\n",
    "rownames(data) <- c(\"Would Remain\", \"Would not remain\")\n",
    "colnames(data) <- c(\"Less than 1 year\", \"1-5 Years\", \"6-10 Years\", \"More than 10 Years\", \"Total\")\n",
    "\n",
    "# Print the matrix\n",
    "print(data)"
   ]
  },
  {
   "cell_type": "code",
   "execution_count": 9,
   "id": "085ecb6e-d46d-44e2-a5a6-e90a0aa3a92a",
   "metadata": {},
   "outputs": [
    {
     "data": {
      "text/html": [
       "0.525"
      ],
      "text/latex": [
       "0.525"
      ],
      "text/markdown": [
       "0.525"
      ],
      "text/plain": [
       "[1] 0.525"
      ]
     },
     "metadata": {},
     "output_type": "display_data"
    },
    {
     "name": "stdout",
     "output_type": "stream",
     "text": [
      "52.5 %\n"
     ]
    }
   ],
   "source": [
    "# (a)\n",
    "\n",
    "ten_yos <- 105 # Number of executives more than 10 years of service\n",
    "total_exec <- 200 # Total number of executives\n",
    "\n",
    "# P(B4) = \n",
    "probability <- ten_yos / total_exec\n",
    "probability\n",
    "cat(100*probability, \"%\\n\")"
   ]
  },
  {
   "cell_type": "code",
   "execution_count": 10,
   "id": "038b5b3f-1d76-43f4-b2f6-1ab0afae3ff4",
   "metadata": {},
   "outputs": [
    {
     "data": {
      "text/html": [
       "0.285714285714286"
      ],
      "text/latex": [
       "0.285714285714286"
      ],
      "text/markdown": [
       "0.285714285714286"
      ],
      "text/plain": [
       "[1] 0.2857143"
      ]
     },
     "metadata": {},
     "output_type": "display_data"
    },
    {
     "name": "stdout",
     "output_type": "stream",
     "text": [
      "28.57143 %\n"
     ]
    }
   ],
   "source": [
    "# (b)\n",
    "ten_yos_no_return <- 30 # executives more than 10 years of service that will not remain\n",
    "total_exec_10_years <- 105 # Total number of executives with more than 10 years\n",
    "\n",
    "# P(A2 | B4) = \n",
    "probability <- ten_yos_no_return / total_exec_10_years\n",
    "probability\n",
    "cat(100*probability, \"%\\n\")"
   ]
  },
  {
   "cell_type": "code",
   "execution_count": 20,
   "id": "f0425c98-b67d-41bb-9751-d3b6072abd82",
   "metadata": {},
   "outputs": [
    {
     "name": "stdout",
     "output_type": "stream",
     "text": [
      "( 105 + 80 - 30 ) / 200"
     ]
    },
    {
     "data": {
      "text/html": [
       "0.775"
      ],
      "text/latex": [
       "0.775"
      ],
      "text/markdown": [
       "0.775"
      ],
      "text/plain": [
       "[1] 0.775"
      ]
     },
     "metadata": {},
     "output_type": "display_data"
    },
    {
     "name": "stdout",
     "output_type": "stream",
     "text": [
      "77.5 %\n"
     ]
    }
   ],
   "source": [
    "# (c)\n",
    "\n",
    "# Set row and column names\n",
    "rownames(data) <- c(\"Would Remain\", \"Would not remain\")\n",
    "colnames(data) <- c(\"Less than 1 year\", \"1-5 Years\", \"6-10 Years\", \"More than 10 Years\", \"Total\")\n",
    "\n",
    "# Total number of executives\n",
    "total_executives <- sum(data[, \"Total\"])\n",
    "\n",
    "# Number of executives with more than 10 years of service\n",
    "more_than_10_years <- sum(data[, \"More than 10 Years\"])\n",
    "\n",
    "# Number of executives who would not remain\n",
    "not_remain <- data[\"Would not remain\", \"Total\"]\n",
    "\n",
    "# Number of executives with more than 10 years of service and not remaining\n",
    "intersection <- data[\"Would not remain\", \"More than 10 Years\"]\n",
    "\n",
    "# Probability calculation, P(A union B)= P(A) + P(B) − P(A intersect B)\n",
    "probability <- (more_than_10_years + not_remain - intersection) / total_executives\n",
    "cat(\"(\",more_than_10_years,\"+\",not_remain,\"-\",intersection,\") /\",total_executives)\n",
    "\n",
    "probability\n",
    "cat(100*probability, \"%\\n\")"
   ]
  },
  {
   "cell_type": "markdown",
   "id": "642db534-fd4a-46f9-bb53-0f2a534c7a31",
   "metadata": {},
   "source": [
    "## Problem 3 (Conditional Probability in Words)"
   ]
  },
  {
   "cell_type": "markdown",
   "id": "cd363cb7-0fb3-49f6-a43a-43683f529f91",
   "metadata": {},
   "source": [
    "If R is the event that a convict committed armed robbery and D is the event that the convict pushed dope, state in words what probabilities are expressed by \n",
    "\n",
    "(a) P (R | D): The probability that a convict committed armed robbery given that the convict pushed dope. In other words, it's the likelihood that a convict is an armed robber if they are known to have pushed dope.\n",
    "\n",
    "(b) P (D’ | R): The probability that a convict did not push dope given that the convict committed armed robbery. It represents the likelihood that a convict is not a dope pusher if they are known to have committed armed robbery.\n",
    "\n",
    "(c) P (R’ | D’): The probability that a convict did not commit armed robbery given that the convict did not push dope. It represents the likelihood that a convict is not an armed robber if they are known not to have pushed dope.\n"
   ]
  },
  {
   "cell_type": "markdown",
   "id": "270a1b71-bd29-41a5-81cc-2498b3b9b69d",
   "metadata": {},
   "source": [
    "## Problem 4 (Probability of Joint Density Function)"
   ]
  },
  {
   "cell_type": "markdown",
   "id": "6861a4bd-2f01-4301-9b92-977bf4ad93b2",
   "metadata": {},
   "source": [
    "A candy company distributes boxes of chocolates with a mixture of creams, toffees, and cordials. Suppose that the weight of each box is 1 kilogram, but the individual weights of the creams, toffees, and cordials vary from box to box. For a randomly selected box, let X and Y represent the weights of the creams and the toffees, respectively, and suppose that the joint density function of these variables is \n",
    "\n",
    "f(x, y) = 24xy, 0 ≤ x ≤ 1, 0 ≤ y ≤1, x+y ≤ 1\n",
    "\n",
    "f(x, y) = 0 elsewhere \n",
    "\n",
    "(a) Find the probability that in a given box the cordials account for more than 1/2 of the weight. \n",
    "\n",
    "(b) Find the marginal density for the weight of the creams. \n",
    "\n",
    "(c) Find the probability that the weight of the toffees in a box is less than 1/8 of a kilogram if it is known that creams constitute 3/4 of the weight. "
   ]
  },
  {
   "cell_type": "code",
   "execution_count": 27,
   "id": "f1c1e3d8-c63a-4836-bce0-831751431e31",
   "metadata": {},
   "outputs": [
    {
     "data": {
      "text/html": [
       "0.0625"
      ],
      "text/latex": [
       "0.0625"
      ],
      "text/markdown": [
       "0.0625"
      ],
      "text/plain": [
       "[1] 0.0625"
      ]
     },
     "metadata": {},
     "output_type": "display_data"
    },
    {
     "name": "stdout",
     "output_type": "stream",
     "text": [
      "6.25 %\n"
     ]
    }
   ],
   "source": [
    "# Weight of Cordials, denoted as Z\n",
    "# Z = 1 - X - Y\n",
    "# if Z > 1/2, then 1 - X - Y > 1/2\n",
    "# So, X + Y < 1/2\n",
    "\n",
    "# Define the joint density function\n",
    "f <- function(x, y) {\n",
    "  24 * x * y\n",
    "}\n",
    "\n",
    "# Define the limits of integration\n",
    "lower_x <- 0\n",
    "upper_x <- 1/2\n",
    "\n",
    "# P(X + Y < 1/2) = integral(0 -> 1/2) * integral(0 -> 1/2-x)*24xy*dy*dx\n",
    "prob_cordials_more_than_half <- integrate(\n",
    "  function(x) sapply(x, function(x) integrate(f, lower = 0, upper = 1/2 - x, x = x)$value),\n",
    "  lower = lower_x,\n",
    "  upper = upper_x\n",
    ")$value\n",
    "\n",
    "prob_cordials_more_than_half\n",
    "cat(100*prob_cordials_more_than_half, \"%\\n\")"
   ]
  },
  {
   "cell_type": "code",
   "execution_count": 30,
   "id": "dfcdda7a-3498-4432-9dbb-782c184dd6b5",
   "metadata": {},
   "outputs": [
    {
     "data": {
      "text/html": [
       "1.6875"
      ],
      "text/latex": [
       "1.6875"
      ],
      "text/markdown": [
       "1.6875"
      ],
      "text/plain": [
       "[1] 1.6875"
      ]
     },
     "metadata": {},
     "output_type": "display_data"
    }
   ],
   "source": [
    "# Marginal density function for creams\n",
    "# fsubX(x) = integral(0 -> 1-x)*24xy*dy\n",
    "f_x <- function(x) {\n",
    "  integrate(function(y) f(x, y), lower = 0, upper = 1 - x)$value\n",
    "}\n",
    "\n",
    "# Test for a specific x value, x = 0.25\n",
    "marginal_density_cream <- f_x(0.25)\n",
    "\n",
    "marginal_density_cream"
   ]
  },
  {
   "cell_type": "code",
   "execution_count": 29,
   "id": "e73748cc-741a-4c0a-a74e-33204ec88dd1",
   "metadata": {},
   "outputs": [
    {
     "data": {
      "text/html": [
       "0.25"
      ],
      "text/latex": [
       "0.25"
      ],
      "text/markdown": [
       "0.25"
      ],
      "text/plain": [
       "[1] 0.25"
      ]
     },
     "metadata": {},
     "output_type": "display_data"
    },
    {
     "name": "stdout",
     "output_type": "stream",
     "text": [
      "25 %\n"
     ]
    }
   ],
   "source": [
    "# Conditional probability for toffees\n",
    "# P(Y <1/8 | X = 3/4) = (integrate(0 -> 1/8)*f(3/4,y)*dy) / (fsubX(3/4))\n",
    "numerator <- integrate(function(y) f(3/4, y), lower = 0, upper = 1/8)$value\n",
    "denominator <- f_x(3/4)\n",
    "prob_toffees_less_than_1_8 <- numerator / denominator\n",
    "\n",
    "prob_toffees_less_than_1_8\n",
    "cat(100*prob_toffees_less_than_1_8, \"%\\n\")"
   ]
  },
  {
   "cell_type": "markdown",
   "id": "d348029c-46a4-4c55-a3af-43c5143be57c",
   "metadata": {},
   "source": [
    "## Problem 5 (Expected Value & Variance)"
   ]
  },
  {
   "cell_type": "markdown",
   "id": "a84071cc-be71-465f-94bb-fd8355e67c55",
   "metadata": {},
   "source": [
    "The random variables X and Y represent the number of vehicles that arrive at two separate street corners during a certain 2-minute period in the day. The joint distribution is \n",
    "\n",
    "f (x, y) = (1 / 4^(x + y)) (9/16)\n",
    "\n",
    "for x = 0, 1, 2, 3,… and y = 0, 1, 2, 3,…\n",
    "\n",
    "(a) Give E(X), E(Y ),  Var(X ), and Var(Y ) \n",
    "\n",
    "(b) Consider Z= X+ Y the sum of the two, Find E(Z) and Var( Z) \n"
   ]
  },
  {
   "cell_type": "markdown",
   "id": "18dedd88-cbb3-4b88-8e1a-ce7ec7ff9214",
   "metadata": {},
   "source": [
    "Marginal Distribution\n",
    "fsubX(x) = ReimannSum(inf, y=0)* f(x,y)= ReimannSum(inf, y=0)* (1/4^(x) * (9/16) * 1/4^(y))\n",
    "\n",
    "ReimannSum(inf, y=0) * 1/4^(y) = 1 / (1 - (1/4)) = 4/3\n",
    "\n",
    "fsubX(x) = (1/4^(x) * (9/16) * (4/3)) = (3/16) * (1/4^(x))\n",
    "\n",
    "fsubY(y) = (3/16) * (1/4^(y))\n",
    "\n",
    "Both X and Y follow a geometric distribution shifted by one with parameter (p) = 1/4."
   ]
  },
  {
   "cell_type": "code",
   "execution_count": 1,
   "id": "c3ebfe63-db48-4e89-9b7a-5f411718939f",
   "metadata": {},
   "outputs": [
    {
     "name": "stdout",
     "output_type": "stream",
     "text": [
      "E(X) = 3 \n",
      "E(Y) = 3 \n",
      "Var(X) = 12 \n",
      "Var(Y) = 12 \n",
      "E(Z) = 6 \n",
      "Var(Z) = 24 \n"
     ]
    }
   ],
   "source": [
    "# Define the parameter for the geometric distribution\n",
    "p <- 1 / 4\n",
    "\n",
    "# Expected values for X and Y (E(X) and E(Y))\n",
    "E_X <- (1 - p) / p\n",
    "E_Y <- (1 - p) / p\n",
    "\n",
    "# Variances for X and Y (Var(X) and Var(Y))\n",
    "Var_X <- (1 - p) / (p^2)\n",
    "Var_Y <- (1 - p) / (p^2)\n",
    "\n",
    "# Expected value and variance for Z = X + Y\n",
    "E_Z <- E_X + E_Y\n",
    "Var_Z <- Var_X + Var_Y\n",
    "\n",
    "# Results\n",
    "cat(\"E(X) =\", E_X, \"\\n\")\n",
    "cat(\"E(Y) =\", E_Y, \"\\n\")\n",
    "cat(\"Var(X) =\", Var_X, \"\\n\")\n",
    "cat(\"Var(Y) =\", Var_Y, \"\\n\")\n",
    "cat(\"E(Z) =\", E_Z, \"\\n\")\n",
    "cat(\"Var(Z) =\", Var_Z, \"\\n\")"
   ]
  },
  {
   "cell_type": "markdown",
   "id": "f3b31e87-922c-4951-81c0-27112e9fdc4b",
   "metadata": {},
   "source": [
    "## Problem 6 (Creating Probability Distribution)"
   ]
  },
  {
   "cell_type": "markdown",
   "id": "93eaddbc-465c-459b-ac8c-d64bafbb9aa3",
   "metadata": {},
   "source": [
    "A random committee of size 3 is selected from 4 doctors and 2 nurses. Write a formula for the probability distribution of the random variable x representing the number of doctors on the committee.  Also, find P(2≤ x ≤ 3) "
   ]
  },
  {
   "cell_type": "code",
   "execution_count": 2,
   "id": "55a948a7-8a5b-4f34-8e21-8ce5782ccb28",
   "metadata": {},
   "outputs": [
    {
     "name": "stdout",
     "output_type": "stream",
     "text": [
      "P(X = 0) = 0 \n",
      "P(X = 1) = 0.2 \n",
      "P(X = 2) = 0.6 \n",
      "P(X = 3) = 0.2 \n",
      "P(2 = X = 3) = 0.8 \n"
     ]
    }
   ],
   "source": [
    "# Total number of ways to choose 3 people from 6\n",
    "total_ways <- choose(6, 3)\n",
    "\n",
    "# Probability distribution\n",
    "p_X_0 <- 0  # Impossible to select 0 doctors and 3 nurses\n",
    "p_X_1 <- choose(4, 1) * choose(2, 2) / total_ways # Select 1 doctor and 2 nurses\n",
    "p_X_2 <- choose(4, 2) * choose(2, 1) / total_ways # Select 2 doctors and 1 nurse\n",
    "p_X_3 <- choose(4, 3) * choose(2, 0) / total_ways # Select 3 doctors and 0 nurses\n",
    "\n",
    "# Probability that 2 ≤ X ≤ 3\n",
    "p_2_to_3 <- p_X_2 + p_X_3\n",
    "\n",
    "# Display the results\n",
    "cat(\"P(X = 0) =\", p_X_0, \"\\n\")\n",
    "cat(\"P(X = 1) =\", p_X_1, \"\\n\")\n",
    "cat(\"P(X = 2) =\", p_X_2, \"\\n\")\n",
    "cat(\"P(X = 3) =\", p_X_3, \"\\n\")\n",
    "cat(\"P(2 ≤ X ≤ 3) =\", p_2_to_3, \"\\n\")\n"
   ]
  },
  {
   "cell_type": "markdown",
   "id": "09156eb5-ff54-4b46-897b-2695c3e37264",
   "metadata": {},
   "source": [
    "## Problem 7 ()"
   ]
  },
  {
   "cell_type": "markdown",
   "id": "8506ae8e-4d29-4963-8165-253fc6ae0d6c",
   "metadata": {},
   "source": [
    "Given the normally distributed variable X with mean 18 and standard deviation 2.5, find\n",
    "\n",
    "(a) P(X < 15); \n",
    "\n",
    "(b) the value of kk such that P(X < k) = 0.2236; \n",
    "\n",
    "(c) the value of kk such that P(X > k) = 0.1814; \n",
    "\n",
    "(d) P(17 < x < 21)"
   ]
  },
  {
   "cell_type": "code",
   "execution_count": 17,
   "id": "9c2f8c3c-0811-4e04-a227-b853df40fa22",
   "metadata": {},
   "outputs": [],
   "source": [
    "# calculate a Z score using the following\n",
    "\n",
    "# z-score function in R, use if you want to identify Z-Score versus R CDF function\n",
    "z_score_function <- function(X, mu, sigma) {\n",
    "  z <- (X - mu) / sigma\n",
    "  return(z)\n",
    "}"
   ]
  },
  {
   "cell_type": "code",
   "execution_count": 5,
   "id": "92002729-6ade-469f-a6e5-1ea0ffa3e6d7",
   "metadata": {},
   "outputs": [],
   "source": [
    "# Define variables\n",
    "mu <- 18 # mean\n",
    "std_dev <- 2.5 # standard deviation"
   ]
  },
  {
   "cell_type": "code",
   "execution_count": 16,
   "id": "03816691-23b6-41f9-ae26-8b2d7fcd495f",
   "metadata": {},
   "outputs": [
    {
     "name": "stdout",
     "output_type": "stream",
     "text": [
      "P(X < 15) = 0.1150697 \n"
     ]
    }
   ],
   "source": [
    "# (a)\n",
    "p_a <- pnorm(15, mu, std_dev)\n",
    "cat(\"P(X < 15) =\", p_a, \"\\n\")"
   ]
  },
  {
   "cell_type": "code",
   "execution_count": 4,
   "id": "f9a9c472-b5e9-44dc-99f0-72d53feb973d",
   "metadata": {},
   "outputs": [
    {
     "name": "stdout",
     "output_type": "stream",
     "text": [
      "Value of k such that P(X < k) = 0.2236 is 16.09977 \n"
     ]
    }
   ],
   "source": [
    "# (b)\n",
    "z_b <- qnorm(0.2236)\n",
    "k_b <- z_b * std_dev + mu\n",
    "cat(\"Value of k such that P(X < k) = 0.2236 is\", k_b, \"\\n\")"
   ]
  },
  {
   "cell_type": "code",
   "execution_count": 9,
   "id": "d834b30c-7ec7-45be-a413-9156c55a0202",
   "metadata": {},
   "outputs": [
    {
     "name": "stdout",
     "output_type": "stream",
     "text": [
      "Value of k such that P(X > k) = 0.1814 is 20.27511 \n"
     ]
    }
   ],
   "source": [
    "# (c)\n",
    "k <- 1 − 0.1814 \n",
    "z_c <- qnorm(k)\n",
    "k_c <- z_c * std_dev + mu\n",
    "cat(\"Value of k such that P(X > k) = 0.1814 is\", k_c, \"\\n\")\n"
   ]
  },
  {
   "cell_type": "code",
   "execution_count": 12,
   "id": "3c6661fa-5f7f-40f8-bdb1-9043b8999432",
   "metadata": {},
   "outputs": [
    {
     "name": "stdout",
     "output_type": "stream",
     "text": [
      "P(17 < X < 21) = 0.5403521 \n"
     ]
    }
   ],
   "source": [
    "# (d)\n",
    "p_d <- pnorm(21, mu, std_dev) - pnorm(17, mu, std_dev)\n",
    "cat(\"P(17 < X < 21) =\", p_d, \"\\n\")\n"
   ]
  },
  {
   "cell_type": "markdown",
   "id": "0d0667c9-194e-460b-b81e-0c6932d6497e",
   "metadata": {},
   "source": [
    "## Problem 8 ()"
   ]
  },
  {
   "cell_type": "markdown",
   "id": "dbd52753-2939-4728-9b94-79b136097231",
   "metadata": {},
   "source": [
    "The average life of a certain type of small motor is 10 years with a standard deviation of 2 years. The manufacturer replaces free all motors that fail while under guarantee. If she is willing to replace only 3% of the motors that fail, how long a guarantee should be offered? Assume that the lifetime of a motor follows a normal distribution. "
   ]
  },
  {
   "cell_type": "code",
   "execution_count": 19,
   "id": "e7f14e0a-3716-4fd9-99f2-9705f2a6b81f",
   "metadata": {},
   "outputs": [
    {
     "name": "stdout",
     "output_type": "stream",
     "text": [
      "The guarantee should be offered for 6.238413 years.\n"
     ]
    }
   ],
   "source": [
    "mu <- 10 # years (mean)\n",
    "sigma <- 2 # years (standard deviation)\n",
    "probability <- 0.03\n",
    "\n",
    "# Calculate the guarantee time\n",
    "t <- qnorm(probability, mu, sigma)\n",
    "\n",
    "# Display the result\n",
    "cat(\"The guarantee should be offered for\", t, \"years.\\n\")"
   ]
  },
  {
   "cell_type": "markdown",
   "id": "9d13884c-31f8-4020-89d3-ece8d094bd7e",
   "metadata": {},
   "source": [
    "## Problem 9 (Characteristics of a Beta Distribution)"
   ]
  },
  {
   "cell_type": "markdown",
   "id": "7e776f55-5ccd-486b-9e72-bcab9630c698",
   "metadata": {},
   "source": [
    "Suppose the random variable X follows a beta distribution with Alpha = 1 and Beta = 3. \n",
    "\n",
    "(a) Determine the mean and median of X. \n",
    "\n",
    "(b) Determine the variance of X. \n",
    "\n",
    "(c) Find the probability that  X > 1/3. "
   ]
  },
  {
   "cell_type": "code",
   "execution_count": 25,
   "id": "af70fca0-d17f-43eb-9d66-21d7b3ce8d83",
   "metadata": {},
   "outputs": [
    {
     "name": "stdout",
     "output_type": "stream",
     "text": [
      "Mean of X = 0.25 \n",
      "Variance of X = 0.0375 \n",
      "Median of X (approximate) = 0.2062995 \n",
      "P(X > 1/3) = 0.2962963 \n"
     ]
    }
   ],
   "source": [
    "# Parameters for the beta distribution\n",
    "alpha <- 1\n",
    "beta <- 3\n",
    "\n",
    "# Mean of a beta distribution\n",
    "mean_x <- alpha / (alpha + beta)\n",
    "\n",
    "# Variance of a beta distribution\n",
    "variance_x <- (alpha * beta) / ((alpha + beta)^2 * (alpha + beta + 1))\n",
    "\n",
    "# Median (approximated numerically) of a beta distribution\n",
    "median_x <- qbeta(0.5, alpha, beta)\n",
    "\n",
    "# Probability that P(X > 1/3) = 1 - P(X < 1/3)\n",
    "prob_x_greater_than_1_3 <- 1 - pbeta(1/3, alpha, beta)\n",
    "\n",
    "# Results\n",
    "cat(\"Mean of X =\", mean_x, \"\\n\")\n",
    "cat(\"Variance of X =\", variance_x, \"\\n\")\n",
    "cat(\"Median of X (approximate) =\", median_x, \"\\n\")\n",
    "cat(\"P(X > 1/3) =\", prob_x_greater_than_1_3, \"\\n\")\n"
   ]
  },
  {
   "cell_type": "markdown",
   "id": "08233abe-50b3-4ecc-99f3-274b1f629b01",
   "metadata": {},
   "source": [
    "## Problem 10 ()"
   ]
  },
  {
   "cell_type": "markdown",
   "id": "4d3ea28e-4cb1-4a75-b420-a80fcf1f833f",
   "metadata": {},
   "source": [
    "If all possible samples of size 16 are drawn from a normal population with mean equal to 50 and standard deviation equal to 5, what is the probability that a sample mean x will fall in the interval from 𝛍subx – 1.96𝛔subx and 𝛍subx – 0.4𝛔subx? Assume that the sample means can be measured to any degree of accuracy. "
   ]
  },
  {
   "cell_type": "code",
   "execution_count": 42,
   "id": "f6ad5b10-38a9-41bb-915b-bae5e8a7d239",
   "metadata": {},
   "outputs": [
    {
     "name": "stdout",
     "output_type": "stream",
     "text": [
      "P( 47.55 < Xbar < 49.5 )\n",
      "P( -1.96 < Z < -0.4 )\n"
     ]
    }
   ],
   "source": [
    "n <- 16 # sample size\n",
    "sigma <- 5 # sample standard deviation\n",
    "mu <- 50 # sample population mean\n",
    "SE <- sigma / sqrt(n) # Standard error\n",
    "\n",
    "# Lower & Upper bound\n",
    "lower <- mu - 1.96 * SE\n",
    "upper <- mu - 0.4 * SE\n",
    "cat(\"P(\",lower,\"< Xbar <\", upper,\")\\n\")\n",
    "\n",
    "z_lower <- (lower - mu) / SE # z score with standard error\n",
    "z_upper <- (upper - mu) / SE # z score with standard error\n",
    "cat(\"P(\",z_lower,\"< Z <\", z_upper,\")\\n\")"
   ]
  },
  {
   "cell_type": "code",
   "execution_count": 43,
   "id": "eff27eac-ec4e-4137-8977-c4caebeef315",
   "metadata": {},
   "outputs": [
    {
     "name": "stdout",
     "output_type": "stream",
     "text": [
      "Probability that the sample mean falls within the interval: 31.95804 %\n"
     ]
    }
   ],
   "source": [
    "# Calculate the probabilities\n",
    "p_lower <- pnorm(z_lower)\n",
    "p_upper <- pnorm(z_upper)\n",
    "\n",
    "# Probability that the sample mean falls within the interval\n",
    "p_interval <- p_upper - p_lower\n",
    "\n",
    "# Display the result\n",
    "cat(\"Probability that the sample mean falls within the interval:\", 100*p_interval, \"%\\n\")\n"
   ]
  },
  {
   "cell_type": "code",
   "execution_count": null,
   "id": "7c0c6200-ef83-49cf-b083-5dca91354860",
   "metadata": {},
   "outputs": [],
   "source": []
  }
 ],
 "metadata": {
  "kernelspec": {
   "display_name": "R (r_stat)",
   "language": "R",
   "name": "ir_conda_env"
  },
  "language_info": {
   "codemirror_mode": "r",
   "file_extension": ".r",
   "mimetype": "text/x-r-source",
   "name": "R",
   "pygments_lexer": "r",
   "version": "4.1.3"
  }
 },
 "nbformat": 4,
 "nbformat_minor": 5
}
